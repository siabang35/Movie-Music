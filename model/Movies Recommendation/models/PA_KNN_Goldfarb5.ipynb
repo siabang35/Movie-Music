{
  "metadata": {
    "kernelspec": {
      "language": "python",
      "display_name": "Python 3",
      "name": "python3"
    },
    "language_info": {
      "name": "python",
      "version": "3.7.12",
      "mimetype": "text/x-python",
      "codemirror_mode": {
        "name": "ipython",
        "version": 3
      },
      "pygments_lexer": "ipython3",
      "nbconvert_exporter": "python",
      "file_extension": ".py"
    },
    "colab": {
      "provenance": [],
      "toc_visible": true
    }
  },
  "nbformat_minor": 0,
  "nbformat": 4,
  "cells": [
    {
      "cell_type": "code",
      "source": [
        "from google.colab import drive\n",
        "drive.mount('/content/drive')"
      ],
      "metadata": {
        "colab": {
          "base_uri": "https://localhost:8080/"
        },
        "id": "sqdvtGatR_oT",
        "outputId": "64d09ea0-a776-495f-8596-7f227516b9cd"
      },
      "execution_count": 1,
      "outputs": [
        {
          "output_type": "stream",
          "name": "stdout",
          "text": [
            "Mounted at /content/drive\n"
          ]
        }
      ]
    },
    {
      "cell_type": "code",
      "source": [
        "# This Python 3 environment comes with many helpful analytics libraries installed\n",
        "# It is defined by the kaggle/python Docker image: https://github.com/kaggle/docker-python\n",
        "# For example, here's several helpful packages to load\n",
        "\n",
        "import numpy as np # linear algebra\n",
        "import pandas as pd # data processing, CSV file I/O (e.g. pd.read_csv)\n",
        "\n",
        "# Input data files are available in the read-only \"../input/\" directory\n",
        "# For example, running this (by clicking run or pressing Shift+Enter) will list all files under the input directory\n",
        "\n",
        "import os\n",
        "for dirname, _, filenames in os.walk('/content/drive/MyDrive/Multi-modal-movie-genre-prediction-master/data'):\n",
        "    for filename in filenames:\n",
        "        print(os.path.join(dirname, filename))\n",
        "\n",
        "# You can write up to 20GB to the current directory (/kaggle/working/) that gets preserved as output when you create a version using \"Save & Run All\" \n",
        "# You can also write temporary files to /kaggle/temp/, but they won't be saved outside of the current session"
      ],
      "metadata": {
        "_uuid": "8f2839f25d086af736a60e9eeb907d3b93b6e0e5",
        "_cell_guid": "b1076dfc-b9ad-4769-8c92-a6c4dae69d19",
        "_kg_hide-input": true,
        "execution": {
          "iopub.status.busy": "2022-01-17T21:45:43.947887Z",
          "iopub.execute_input": "2022-01-17T21:45:43.948390Z",
          "iopub.status.idle": "2022-01-17T21:45:43.965759Z",
          "shell.execute_reply.started": "2022-01-17T21:45:43.948337Z",
          "shell.execute_reply": "2022-01-17T21:45:43.964910Z"
        },
        "trusted": true,
        "colab": {
          "base_uri": "https://localhost:8080/"
        },
        "id": "BazAwIvnRao9",
        "outputId": "19c8936e-63a9-484c-802a-ce1ac7b7c735"
      },
      "execution_count": 2,
      "outputs": [
        {
          "output_type": "stream",
          "name": "stdout",
          "text": [
            "/content/drive/MyDrive/Multi-modal-movie-genre-prediction-master/data/links.csv\n",
            "/content/drive/MyDrive/Multi-modal-movie-genre-prediction-master/data/links_small.csv\n",
            "/content/drive/MyDrive/Multi-modal-movie-genre-prediction-master/data/movies_metadata.csv\n",
            "/content/drive/MyDrive/Multi-modal-movie-genre-prediction-master/data/ratings_small.csv\n",
            "/content/drive/MyDrive/Multi-modal-movie-genre-prediction-master/data/ratings.csv\n",
            "/content/drive/MyDrive/Multi-modal-movie-genre-prediction-master/data/keywords.csv\n",
            "/content/drive/MyDrive/Multi-modal-movie-genre-prediction-master/data/credits.csv\n"
          ]
        }
      ]
    },
    {
      "cell_type": "markdown",
      "source": [
        "<font color=\"purple\">\n",
        "K-Nearest Neighbors (KNN) is a classification algorithm. The central idea is that data points with similar attributes tend to fall into similar categories.If you have a dataset of points where the class of each point is known, you can take a new point with an unknown class, find it’s nearest neighbors, and classify it."
      ],
      "metadata": {
        "id": "dfzzAQ6ARapF"
      }
    },
    {
      "cell_type": "markdown",
      "source": [
        "## 1. Calculating Distance"
      ],
      "metadata": {
        "id": "j0VVd6oeRapJ"
      }
    },
    {
      "cell_type": "markdown",
      "source": [
        "<font color=\"purple\">\n",
        "If we have two features, this means we have 2D data, and we can simply calculate distance between two features by returning the square root of the total of square of the differences of each feature as follows:"
      ],
      "metadata": {
        "id": "HLYDSjLHRapL"
      }
    },
    {
      "cell_type": "code",
      "source": [
        "star_wars = [125, 1977]\n",
        "raiders = [115, 1981]\n",
        "mean_girls = [97, 2004]"
      ],
      "metadata": {
        "execution": {
          "iopub.status.busy": "2022-01-17T21:45:43.967657Z",
          "iopub.execute_input": "2022-01-17T21:45:43.968592Z",
          "iopub.status.idle": "2022-01-17T21:45:43.974480Z",
          "shell.execute_reply.started": "2022-01-17T21:45:43.968557Z",
          "shell.execute_reply": "2022-01-17T21:45:43.973489Z"
        },
        "trusted": true,
        "id": "voTlGhHjRapN"
      },
      "execution_count": 3,
      "outputs": []
    },
    {
      "cell_type": "code",
      "source": [
        "def distance(movie1, movie2):\n",
        "    squared_difference = 0\n",
        "    for i in range(len(movie1)):\n",
        "        squared_difference += (movie1[i] - movie2[i]) ** 2\n",
        "    final_distance = squared_difference ** 0.5\n",
        "    return final_distance\n",
        "\n",
        "print(distance(star_wars,raiders ))\n",
        "print(distance(star_wars,mean_girls))"
      ],
      "metadata": {
        "execution": {
          "iopub.status.busy": "2022-01-17T21:45:43.976324Z",
          "iopub.execute_input": "2022-01-17T21:45:43.976882Z",
          "iopub.status.idle": "2022-01-17T21:45:43.992152Z",
          "shell.execute_reply.started": "2022-01-17T21:45:43.976811Z",
          "shell.execute_reply": "2022-01-17T21:45:43.991317Z"
        },
        "trusted": true,
        "colab": {
          "base_uri": "https://localhost:8080/"
        },
        "id": "xXde5LLkRapP",
        "outputId": "c1530940-8029-47cf-94c2-5d3713935473"
      },
      "execution_count": 4,
      "outputs": [
        {
          "output_type": "stream",
          "name": "stdout",
          "text": [
            "10.770329614269007\n",
            "38.897300677553446\n"
          ]
        }
      ]
    },
    {
      "cell_type": "markdown",
      "source": [
        "<font color=\"purple\">\n",
        "Let’s say this third dimension is the movie’s budget. We now have to find the distance between these two points in three dimensions."
      ],
      "metadata": {
        "id": "UoVLJqm-RapQ"
      }
    },
    {
      "cell_type": "code",
      "source": [
        "import matplotlib.pyplot as plt\n",
        "import seaborn as sns\n",
        "plt.figure(figsize=(12,10))\n",
        "plt.imshow(plt.imread(\"/content/drive/MyDrive/Multi-modal-movie-genre-prediction-master/data/Capture.png\"))"
      ],
      "metadata": {
        "execution": {
          "iopub.status.busy": "2022-01-17T21:45:43.993852Z",
          "iopub.execute_input": "2022-01-17T21:45:43.994174Z",
          "iopub.status.idle": "2022-01-17T21:45:44.367081Z",
          "shell.execute_reply.started": "2022-01-17T21:45:43.994139Z",
          "shell.execute_reply": "2022-01-17T21:45:44.366164Z"
        },
        "trusted": true,
        "colab": {
          "base_uri": "https://localhost:8080/",
          "height": 280
        },
        "id": "B2l_3iwNRapR",
        "outputId": "6ca9cb28-a930-4e74-acf9-2c11786c6f43"
      },
      "execution_count": 6,
      "outputs": [
        {
          "output_type": "execute_result",
          "data": {
            "text/plain": [
              "<matplotlib.image.AxesImage at 0x7f03fba7af10>"
            ]
          },
          "metadata": {},
          "execution_count": 6
        },
        {
          "output_type": "display_data",
          "data": {
            "text/plain": [
              "<Figure size 864x720 with 1 Axes>"
            ],
            "image/png": "[encoded data removed]"
          },
          "metadata": {
            "needs_background": "light"
          }
        }
      ]
    },
    {
      "cell_type": "markdown",
      "source": [
        "<font color=\"purple\">\n",
        "Using this formula above, we can find the K-Nearest Neighbors of a point in N-dimensional space"
      ],
      "metadata": {
        "id": "Yj5T6gQoRapS"
      }
    },
    {
      "cell_type": "markdown",
      "source": [
        "## 2. Data Normalization"
      ],
      "metadata": {
        "id": "9svIQ09DRapU"
      }
    },
    {
      "cell_type": "markdown",
      "source": [
        "<font color=\"purple\">\n",
        "Consider the two dimensions of release date and budget. The maximum difference between two movies’ release dates is about 125 years (The Lumière Brothers were making movies in the 1890s). However, the difference between two movies’ budget can be millions of dollars.Another way of thinking about this is that the budget completely outweighs the importance of all other dimensions because it is on such a huge scale. The fact that two movies were 70 years apart is essentially meaningless compared to the difference in millions in the other dimension. Therefore, we need to normalize the data before applying K Nearest Neightbors Algorithm which makes every value be between 0 and 1."
      ],
      "metadata": {
        "id": "9PgUzIfDRapU"
      }
    },
    {
      "cell_type": "code",
      "source": [
        "release_dates = [1897, 1998, 2000, 1948, 1962, 1950, 1975, 1960, 2017, 1937, 1968, 1996, 1944, 1891, 1995, 1948, 2011, 1965, 1891, 1978]\n",
        "def min_max_normalize(lst):\n",
        "    minimum = min(lst)\n",
        "    maximum = max(lst)\n",
        "    normalized = list()\n",
        "    for i in lst:\n",
        "        normalized.append((i-minimum)/(maximum-minimum))\n",
        "    return normalized\n",
        "print(min_max_normalize(release_dates))"
      ],
      "metadata": {
        "execution": {
          "iopub.status.busy": "2022-01-17T21:45:44.369484Z",
          "iopub.execute_input": "2022-01-17T21:45:44.369732Z",
          "iopub.status.idle": "2022-01-17T21:45:44.378138Z",
          "shell.execute_reply.started": "2022-01-17T21:45:44.369702Z",
          "shell.execute_reply": "2022-01-17T21:45:44.377063Z"
        },
        "trusted": true,
        "colab": {
          "base_uri": "https://localhost:8080/"
        },
        "id": "-fT8d2CyRapV",
        "outputId": "f943bf8d-b5a0-4616-fa0d-0246f191dcbb"
      },
      "execution_count": 7,
      "outputs": [
        {
          "output_type": "stream",
          "name": "stdout",
          "text": [
            "[0.047619047619047616, 0.8492063492063492, 0.8650793650793651, 0.4523809523809524, 0.5634920634920635, 0.46825396825396826, 0.6666666666666666, 0.5476190476190477, 1.0, 0.36507936507936506, 0.6111111111111112, 0.8333333333333334, 0.42063492063492064, 0.0, 0.8253968253968254, 0.4523809523809524, 0.9523809523809523, 0.5873015873015873, 0.0, 0.6904761904761905]\n"
          ]
        }
      ]
    },
    {
      "cell_type": "markdown",
      "source": [
        "<font color=\"purple\">\n",
        "By using this function we make all the data be between 0 and 1."
      ],
      "metadata": {
        "id": "w3gnTmeaRapW"
      }
    },
    {
      "cell_type": "markdown",
      "source": [
        "## 3. Finding the Nearest Neighbors"
      ],
      "metadata": {
        "id": "sn0BIYnnRapX"
      }
    },
    {
      "cell_type": "markdown",
      "source": [
        "<font color=\"purple\">\n",
        "In order to find the 5 nearest neighbors, we need to compare this new unclassified movie to every other movie in the dataset. This means we’re going to be using the distance formula again and again. We ultimately want to end up with a sorted list of distances and the movies associated with those distances."
      ],
      "metadata": {
        "id": "qH0Af7MvRapY"
      }
    },
    {
      "cell_type": "code",
      "source": [
        "df = pd.read_csv(\"/content/drive/MyDrive/Multi-modal-movie-genre-prediction-master/data/movies_metadata.csv\")\n",
        "df.head()"
      ],
      "metadata": {
        "execution": {
          "iopub.status.busy": "2022-01-17T21:45:44.379458Z",
          "iopub.execute_input": "2022-01-17T21:45:44.379839Z",
          "iopub.status.idle": "2022-01-17T21:45:45.247681Z",
          "shell.execute_reply.started": "2022-01-17T21:45:44.379779Z",
          "shell.execute_reply": "2022-01-17T21:45:45.246657Z"
        },
        "trusted": true,
        "colab": {
          "base_uri": "https://localhost:8080/",
          "height": 787
        },
        "id": "QUPUirAuRapY",
        "outputId": "dd57da37-f55a-4755-f9af-f334db23991a"
      },
      "execution_count": 8,
      "outputs": [
        {
          "output_type": "stream",
          "name": "stderr",
          "text": [
            "/usr/local/lib/python3.7/dist-packages/IPython/core/interactiveshell.py:3326: DtypeWarning: Columns (10) have mixed types.Specify dtype option on import or set low_memory=False.\n",
            "  exec(code_obj, self.user_global_ns, self.user_ns)\n"
          ]
        },
        {
          "output_type": "execute_result",
          "data": {
            "text/plain": [
              "   adult                              belongs_to_collection    budget  \\\n",
              "0  False  {'id': 10194, 'name': 'Toy Story Collection', ...  30000000   \n",
              "1  False                                                NaN  65000000   \n",
              "2  False  {'id': 119050, 'name': 'Grumpy Old Men Collect...         0   \n",
              "3  False                                                NaN  16000000   \n",
              "4  False  {'id': 96871, 'name': 'Father of the Bride Col...         0   \n",
              "\n",
              "                                              genres  \\\n",
              "0  [{'id': 16, 'name': 'Animation'}, {'id': 35, '...   \n",
              "1  [{'id': 12, 'name': 'Adventure'}, {'id': 14, '...   \n",
              "2  [{'id': 10749, 'name': 'Romance'}, {'id': 35, ...   \n",
              "3  [{'id': 35, 'name': 'Comedy'}, {'id': 18, 'nam...   \n",
              "4                     [{'id': 35, 'name': 'Comedy'}]   \n",
              "\n",
              "                               homepage     id    imdb_id original_language  \\\n",
              "0  http://toystory.disney.com/toy-story    862  tt0114709                en   \n",
              "1                                   NaN   8844  tt0113497                en   \n",
              "2                                   NaN  15602  tt0113228                en   \n",
              "3                                   NaN  31357  tt0114885                en   \n",
              "4                                   NaN  11862  tt0113041                en   \n",
              "\n",
              "                original_title  \\\n",
              "0                    Toy Story   \n",
              "1                      Jumanji   \n",
              "2             Grumpier Old Men   \n",
              "3            Waiting to Exhale   \n",
              "4  Father of the Bride Part II   \n",
              "\n",
              "                                            overview  ... release_date  \\\n",
              "0  Led by Woody, Andy's toys live happily in his ...  ...   1995-10-30   \n",
              "1  When siblings Judy and Peter discover an encha...  ...   1995-12-15   \n",
              "2  A family wedding reignites the ancient feud be...  ...   1995-12-22   \n",
              "3  Cheated on, mistreated and stepped on, the wom...  ...   1995-12-22   \n",
              "4  Just when George Banks has recovered from his ...  ...   1995-02-10   \n",
              "\n",
              "       revenue runtime                                   spoken_languages  \\\n",
              "0  373554033.0    81.0           [{'iso_639_1': 'en', 'name': 'English'}]   \n",
              "1  262797249.0   104.0  [{'iso_639_1': 'en', 'name': 'English'}, {'iso...   \n",
              "2          0.0   101.0           [{'iso_639_1': 'en', 'name': 'English'}]   \n",
              "3   81452156.0   127.0           [{'iso_639_1': 'en', 'name': 'English'}]   \n",
              "4   76578911.0   106.0           [{'iso_639_1': 'en', 'name': 'English'}]   \n",
              "\n",
              "     status                                            tagline  \\\n",
              "0  Released                                                NaN   \n",
              "1  Released          Roll the dice and unleash the excitement!   \n",
              "2  Released  Still Yelling. Still Fighting. Still Ready for...   \n",
              "3  Released  Friends are the people who let you be yourself...   \n",
              "4  Released  Just When His World Is Back To Normal... He's ...   \n",
              "\n",
              "                         title  video vote_average vote_count  \n",
              "0                    Toy Story  False          7.7     5415.0  \n",
              "1                      Jumanji  False          6.9     2413.0  \n",
              "2             Grumpier Old Men  False          6.5       92.0  \n",
              "3            Waiting to Exhale  False          6.1       34.0  \n",
              "4  Father of the Bride Part II  False          5.7      173.0  \n",
              "\n",
              "[5 rows x 24 columns]"
            ],
            "text/html": [
              "\n",
              "  <div id=\"df-30953bb9-0a08-42ad-87be-f645c1082cc8\">\n",
              "    <div class=\"colab-df-container\">\n",
              "      <div>\n",
              "<style scoped>\n",
              "    .dataframe tbody tr th:only-of-type {\n",
              "        vertical-align: middle;\n",
              "    }\n",
              "\n",
              "    .dataframe tbody tr th {\n",
              "        vertical-align: top;\n",
              "    }\n",
              "\n",
              "    .dataframe thead th {\n",
              "        text-align: right;\n",
              "    }\n",
              "</style>\n",
              "<table border=\"1\" class=\"dataframe\">\n",
              "  <thead>\n",
              "    <tr style=\"text-align: right;\">\n",
              "      <th></th>\n",
              "      <th>adult</th>\n",
              "      <th>belongs_to_collection</th>\n",
              "      <th>budget</th>\n",
              "      <th>genres</th>\n",
              "      <th>homepage</th>\n",
              "      <th>id</th>\n",
              "      <th>imdb_id</th>\n",
              "      <th>original_language</th>\n",
              "      <th>original_title</th>\n",
              "      <th>overview</th>\n",
              "      <th>...</th>\n",
              "      <th>release_date</th>\n",
              "      <th>revenue</th>\n",
              "      <th>runtime</th>\n",
              "      <th>spoken_languages</th>\n",
              "      <th>status</th>\n",
              "      <th>tagline</th>\n",
              "      <th>title</th>\n",
              "      <th>video</th>\n",
              "      <th>vote_average</th>\n",
              "      <th>vote_count</th>\n",
              "    </tr>\n",
              "  </thead>\n",
              "  <tbody>\n",
              "    <tr>\n",
              "      <th>0</th>\n",
              "      <td>False</td>\n",
              "      <td>{'id': 10194, 'name': 'Toy Story Collection', ...</td>\n",
              "      <td>30000000</td>\n",
              "      <td>[{'id': 16, 'name': 'Animation'}, {'id': 35, '...</td>\n",
              "      <td>http://toystory.disney.com/toy-story</td>\n",
              "      <td>862</td>\n",
              "      <td>tt0114709</td>\n",
              "      <td>en</td>\n",
              "      <td>Toy Story</td>\n",
              "      <td>Led by Woody, Andy's toys live happily in his ...</td>\n",
              "      <td>...</td>\n",
              "      <td>1995-10-30</td>\n",
              "      <td>373554033.0</td>\n",
              "      <td>81.0</td>\n",
              "      <td>[{'iso_639_1': 'en', 'name': 'English'}]</td>\n",
              "      <td>Released</td>\n",
              "      <td>NaN</td>\n",
              "      <td>Toy Story</td>\n",
              "      <td>False</td>\n",
              "      <td>7.7</td>\n",
              "      <td>5415.0</td>\n",
              "    </tr>\n",
              "    <tr>\n",
              "      <th>1</th>\n",
              "      <td>False</td>\n",
              "      <td>NaN</td>\n",
              "      <td>65000000</td>\n",
              "      <td>[{'id': 12, 'name': 'Adventure'}, {'id': 14, '...</td>\n",
              "      <td>NaN</td>\n",
              "      <td>8844</td>\n",
              "      <td>tt0113497</td>\n",
              "      <td>en</td>\n",
              "      <td>Jumanji</td>\n",
              "      <td>When siblings Judy and Peter discover an encha...</td>\n",
              "      <td>...</td>\n",
              "      <td>1995-12-15</td>\n",
              "      <td>262797249.0</td>\n",
              "      <td>104.0</td>\n",
              "      <td>[{'iso_639_1': 'en', 'name': 'English'}, {'iso...</td>\n",
              "      <td>Released</td>\n",
              "      <td>Roll the dice and unleash the excitement!</td>\n",
              "      <td>Jumanji</td>\n",
              "      <td>False</td>\n",
              "      <td>6.9</td>\n",
              "      <td>2413.0</td>\n",
              "    </tr>\n",
              "    <tr>\n",
              "      <th>2</th>\n",
              "      <td>False</td>\n",
              "      <td>{'id': 119050, 'name': 'Grumpy Old Men Collect...</td>\n",
              "      <td>0</td>\n",
              "      <td>[{'id': 10749, 'name': 'Romance'}, {'id': 35, ...</td>\n",
              "      <td>NaN</td>\n",
              "      <td>15602</td>\n",
              "      <td>tt0113228</td>\n",
              "      <td>en</td>\n",
              "      <td>Grumpier Old Men</td>\n",
              "      <td>A family wedding reignites the ancient feud be...</td>\n",
              "      <td>...</td>\n",
              "      <td>1995-12-22</td>\n",
              "      <td>0.0</td>\n",
              "      <td>101.0</td>\n",
              "      <td>[{'iso_639_1': 'en', 'name': 'English'}]</td>\n",
              "      <td>Released</td>\n",
              "      <td>Still Yelling. Still Fighting. Still Ready for...</td>\n",
              "      <td>Grumpier Old Men</td>\n",
              "      <td>False</td>\n",
              "      <td>6.5</td>\n",
              "      <td>92.0</td>\n",
              "    </tr>\n",
              "    <tr>\n",
              "      <th>3</th>\n",
              "      <td>False</td>\n",
              "      <td>NaN</td>\n",
              "      <td>16000000</td>\n",
              "      <td>[{'id': 35, 'name': 'Comedy'}, {'id': 18, 'nam...</td>\n",
              "      <td>NaN</td>\n",
              "      <td>31357</td>\n",
              "      <td>tt0114885</td>\n",
              "      <td>en</td>\n",
              "      <td>Waiting to Exhale</td>\n",
              "      <td>Cheated on, mistreated and stepped on, the wom...</td>\n",
              "      <td>...</td>\n",
              "      <td>1995-12-22</td>\n",
              "      <td>81452156.0</td>\n",
              "      <td>127.0</td>\n",
              "      <td>[{'iso_639_1': 'en', 'name': 'English'}]</td>\n",
              "      <td>Released</td>\n",
              "      <td>Friends are the people who let you be yourself...</td>\n",
              "      <td>Waiting to Exhale</td>\n",
              "      <td>False</td>\n",
              "      <td>6.1</td>\n",
              "      <td>34.0</td>\n",
              "    </tr>\n",
              "    <tr>\n",
              "      <th>4</th>\n",
              "      <td>False</td>\n",
              "      <td>{'id': 96871, 'name': 'Father of the Bride Col...</td>\n",
              "      <td>0</td>\n",
              "      <td>[{'id': 35, 'name': 'Comedy'}]</td>\n",
              "      <td>NaN</td>\n",
              "      <td>11862</td>\n",
              "      <td>tt0113041</td>\n",
              "      <td>en</td>\n",
              "      <td>Father of the Bride Part II</td>\n",
              "      <td>Just when George Banks has recovered from his ...</td>\n",
              "      <td>...</td>\n",
              "      <td>1995-02-10</td>\n",
              "      <td>76578911.0</td>\n",
              "      <td>106.0</td>\n",
              "      <td>[{'iso_639_1': 'en', 'name': 'English'}]</td>\n",
              "      <td>Released</td>\n",
              "      <td>Just When His World Is Back To Normal... He's ...</td>\n",
              "      <td>Father of the Bride Part II</td>\n",
              "      <td>False</td>\n",
              "      <td>5.7</td>\n",
              "      <td>173.0</td>\n",
              "    </tr>\n",
              "  </tbody>\n",
              "</table>\n",
              "<p>5 rows × 24 columns</p>\n",
              "</div>\n",
              "      <button class=\"colab-df-convert\" onclick=\"convertToInteractive('df-30953bb9-0a08-42ad-87be-f645c1082cc8')\"\n",
              "              title=\"Convert this dataframe to an interactive table.\"\n",
              "              style=\"display:none;\">\n",
              "        \n",
              "  <svg xmlns=\"http://www.w3.org/2000/svg\" height=\"24px\"viewBox=\"0 0 24 24\"\n",
              "       width=\"24px\">\n",
              "    <path d=\"M0 0h24v24H0V0z\" fill=\"none\"/>\n",
              "    <path d=\"M18.56 5.44l.94 2.06.94-2.06 2.06-.94-2.06-.94-.94-2.06-.94 2.06-2.06.94zm-11 1L8.5 8.5l.94-2.06 2.06-.94-2.06-.94L8.5 2.5l-.94 2.06-2.06.94zm10 10l.94 2.06.94-2.06 2.06-.94-2.06-.94-.94-2.06-.94 2.06-2.06.94z\"/><path d=\"M17.41 7.96l-1.37-1.37c-.4-.4-.92-.59-1.43-.59-.52 0-1.04.2-1.43.59L10.3 9.45l-7.72 7.72c-.78.78-.78 2.05 0 2.83L4 21.41c.39.39.9.59 1.41.59.51 0 1.02-.2 1.41-.59l7.78-7.78 2.81-2.81c.8-.78.8-2.07 0-2.86zM5.41 20L4 18.59l7.72-7.72 1.47 1.35L5.41 20z\"/>\n",
              "  </svg>\n",
              "      </button>\n",
              "      \n",
              "  <style>\n",
              "    .colab-df-container {\n",
              "      display:flex;\n",
              "      flex-wrap:wrap;\n",
              "      gap: 12px;\n",
              "    }\n",
              "\n",
              "    .colab-df-convert {\n",
              "      background-color: #E8F0FE;\n",
              "      border: none;\n",
              "      border-radius: 50%;\n",
              "      cursor: pointer;\n",
              "      display: none;\n",
              "      fill: #1967D2;\n",
              "      height: 32px;\n",
              "      padding: 0 0 0 0;\n",
              "      width: 32px;\n",
              "    }\n",
              "\n",
              "    .colab-df-convert:hover {\n",
              "      background-color: #E2EBFA;\n",
              "      box-shadow: 0px 1px 2px rgba(60, 64, 67, 0.3), 0px 1px 3px 1px rgba(60, 64, 67, 0.15);\n",
              "      fill: #174EA6;\n",
              "    }\n",
              "\n",
              "    [theme=dark] .colab-df-convert {\n",
              "      background-color: #3B4455;\n",
              "      fill: #D2E3FC;\n",
              "    }\n",
              "\n",
              "    [theme=dark] .colab-df-convert:hover {\n",
              "      background-color: #434B5C;\n",
              "      box-shadow: 0px 1px 3px 1px rgba(0, 0, 0, 0.15);\n",
              "      filter: drop-shadow(0px 1px 2px rgba(0, 0, 0, 0.3));\n",
              "      fill: #FFFFFF;\n",
              "    }\n",
              "  </style>\n",
              "\n",
              "      <script>\n",
              "        const buttonEl =\n",
              "          document.querySelector('#df-30953bb9-0a08-42ad-87be-f645c1082cc8 button.colab-df-convert');\n",
              "        buttonEl.style.display =\n",
              "          google.colab.kernel.accessAllowed ? 'block' : 'none';\n",
              "\n",
              "        async function convertToInteractive(key) {\n",
              "          const element = document.querySelector('#df-30953bb9-0a08-42ad-87be-f645c1082cc8');\n",
              "          const dataTable =\n",
              "            await google.colab.kernel.invokeFunction('convertToInteractive',\n",
              "                                                     [key], {});\n",
              "          if (!dataTable) return;\n",
              "\n",
              "          const docLinkHtml = 'Like what you see? Visit the ' +\n",
              "            '<a target=\"_blank\" href=https://colab.research.google.com/notebooks/data_table.ipynb>data table notebook</a>'\n",
              "            + ' to learn more about interactive tables.';\n",
              "          element.innerHTML = '';\n",
              "          dataTable['output_type'] = 'display_data';\n",
              "          await google.colab.output.renderOutput(dataTable, element);\n",
              "          const docLink = document.createElement('div');\n",
              "          docLink.innerHTML = docLinkHtml;\n",
              "          element.appendChild(docLink);\n",
              "        }\n",
              "      </script>\n",
              "    </div>\n",
              "  </div>\n",
              "  "
            ]
          },
          "metadata": {},
          "execution_count": 8
        }
      ]
    },
    {
      "cell_type": "code",
      "source": [
        "df.info()"
      ],
      "metadata": {
        "execution": {
          "iopub.status.busy": "2022-01-17T21:45:45.249130Z",
          "iopub.execute_input": "2022-01-17T21:45:45.249363Z",
          "iopub.status.idle": "2022-01-17T21:45:45.365723Z",
          "shell.execute_reply.started": "2022-01-17T21:45:45.249334Z",
          "shell.execute_reply": "2022-01-17T21:45:45.364257Z"
        },
        "trusted": true,
        "colab": {
          "base_uri": "https://localhost:8080/"
        },
        "id": "T2_JLaQ7RapZ",
        "outputId": "6cdc7aac-155e-4a8f-9983-c35c323bcbe7"
      },
      "execution_count": 9,
      "outputs": [
        {
          "output_type": "stream",
          "name": "stdout",
          "text": [
            "<class 'pandas.core.frame.DataFrame'>\n",
            "RangeIndex: 45466 entries, 0 to 45465\n",
            "Data columns (total 24 columns):\n",
            " #   Column                 Non-Null Count  Dtype  \n",
            "---  ------                 --------------  -----  \n",
            " 0   adult                  45466 non-null  object \n",
            " 1   belongs_to_collection  4494 non-null   object \n",
            " 2   budget                 45466 non-null  object \n",
            " 3   genres                 45466 non-null  object \n",
            " 4   homepage               7782 non-null   object \n",
            " 5   id                     45466 non-null  object \n",
            " 6   imdb_id                45449 non-null  object \n",
            " 7   original_language      45455 non-null  object \n",
            " 8   original_title         45466 non-null  object \n",
            " 9   overview               44512 non-null  object \n",
            " 10  popularity             45461 non-null  object \n",
            " 11  poster_path            45080 non-null  object \n",
            " 12  production_companies   45463 non-null  object \n",
            " 13  production_countries   45463 non-null  object \n",
            " 14  release_date           45379 non-null  object \n",
            " 15  revenue                45460 non-null  float64\n",
            " 16  runtime                45203 non-null  float64\n",
            " 17  spoken_languages       45460 non-null  object \n",
            " 18  status                 45379 non-null  object \n",
            " 19  tagline                20412 non-null  object \n",
            " 20  title                  45460 non-null  object \n",
            " 21  video                  45460 non-null  object \n",
            " 22  vote_average           45460 non-null  float64\n",
            " 23  vote_count             45460 non-null  float64\n",
            "dtypes: float64(4), object(20)\n",
            "memory usage: 8.3+ MB\n"
          ]
        }
      ]
    },
    {
      "cell_type": "code",
      "source": [
        "def distance(movie1, movie2):\n",
        "    squared_difference = 0\n",
        "    for i in range(len(movie1)):\n",
        "        squared_difference += (movie1[i] - movie2[i]) ** 2\n",
        "    final_distance = squared_difference ** 0.5\n",
        "    return final_distance"
      ],
      "metadata": {
        "execution": {
          "iopub.status.busy": "2022-01-17T21:45:45.367430Z",
          "iopub.execute_input": "2022-01-17T21:45:45.367728Z",
          "iopub.status.idle": "2022-01-17T21:45:45.617582Z",
          "shell.execute_reply.started": "2022-01-17T21:45:45.367695Z",
          "shell.execute_reply": "2022-01-17T21:45:45.616299Z"
        },
        "trusted": true,
        "id": "fXkSGMvnRapa"
      },
      "execution_count": 10,
      "outputs": []
    },
    {
      "cell_type": "code",
      "source": [
        "distance([df.iloc[0][\"revenue\"],df.iloc[0][\"runtime\"],df.iloc[0][\"vote_average\"]],[df.iloc[1][\"revenue\"],df.iloc[1][\"runtime\"],df.iloc[0][\"vote_average\"]])\n",
        "#This is the distance calculation between the first and second filme in the dataset based on three columns in the dataset"
      ],
      "metadata": {
        "execution": {
          "iopub.status.busy": "2022-01-17T21:45:45.619957Z",
          "iopub.execute_input": "2022-01-17T21:45:45.620490Z",
          "iopub.status.idle": "2022-01-17T21:45:45.637489Z",
          "shell.execute_reply.started": "2022-01-17T21:45:45.620424Z",
          "shell.execute_reply": "2022-01-17T21:45:45.636645Z"
        },
        "trusted": true,
        "colab": {
          "base_uri": "https://localhost:8080/"
        },
        "id": "dJTB9m-7Rapb",
        "outputId": "97fa6bdd-9680-4003-c585-a76cceaf4762"
      },
      "execution_count": 11,
      "outputs": [
        {
          "output_type": "execute_result",
          "data": {
            "text/plain": [
              "110756784.00000238"
            ]
          },
          "metadata": {},
          "execution_count": 11
        }
      ]
    },
    {
      "cell_type": "code",
      "source": [
        "def classify(unknown,dataset, k):\n",
        "    distances = list()\n",
        "    for row_number, row in dataset.iterrows():\n",
        "        movie = [row[\"revenue\"],row[\"runtime\"],row[\"vote_average\"]]\n",
        "        distance_to_point = distance(movie, unknown)\n",
        "        distances.append([distance_to_point,row[\"title\"]])\n",
        "    distances.sort()\n",
        "    neighbors = distances[:k]\n",
        "    return neighbors\n",
        "print(classify([373554033, 91, 8],df,5))"
      ],
      "metadata": {
        "execution": {
          "iopub.status.busy": "2022-01-17T21:45:45.639395Z",
          "iopub.execute_input": "2022-01-17T21:45:45.639827Z",
          "iopub.status.idle": "2022-01-17T21:45:48.870175Z",
          "shell.execute_reply.started": "2022-01-17T21:45:45.639775Z",
          "shell.execute_reply": "2022-01-17T21:45:48.869229Z"
        },
        "trusted": true,
        "colab": {
          "base_uri": "https://localhost:8080/"
        },
        "id": "ajO8rXobRapb",
        "outputId": "f87dd025-e7a6-48e2-ad65-5df36a0c2c79"
      },
      "execution_count": 12,
      "outputs": [
        {
          "output_type": "stream",
          "name": "stdout",
          "text": [
            "[[10.004498987955369, 'Toy Story'], [557674.0011652058, 'What Women Want'], [664640.001806429, 'Batman Begins'], [1319169.0001852834, 'The Golden Compass'], [1613962.0000798316, 'The Adventures of Tintin']]\n"
          ]
        }
      ]
    },
    {
      "cell_type": "markdown",
      "source": [
        "<font color=\"purple\">\n",
        "Above we see the 5 nearest neigbors to the example film from the entire dataset based on calculation of three features.We’ve now found the k nearest neighbors, and have stored them in a list that looks like in the list above."
      ],
      "metadata": {
        "id": "aL_MTUR4Rapc"
      }
    },
    {
      "cell_type": "markdown",
      "source": [
        "## 4. Classify Movie"
      ],
      "metadata": {
        "id": "JMr8g7k5Rapd"
      }
    },
    {
      "cell_type": "markdown",
      "source": [
        "<font color=\"purple\">\n",
        "Our goal now is to count the number of good movies and bad movies in the list of neighbors. If more of the neighbors were good, then the algorithm will classify the unknown movie as good. Otherwise, it will classify it as bad. Lets use popularity column to create a label column that shows 0 or 1 based on their popularity"
      ],
      "metadata": {
        "id": "pwW_WiQRRapd"
      }
    },
    {
      "cell_type": "code",
      "source": [
        "df.isnull().sum()\n",
        "df.drop([\"belongs_to_collection\",\"homepage\",\"tagline\",\"overview\",\"poster_path\",\"imdb_id\",\"original_language\"], axis=1,inplace=True)"
      ],
      "metadata": {
        "execution": {
          "iopub.status.busy": "2022-01-17T21:45:48.871611Z",
          "iopub.execute_input": "2022-01-17T21:45:48.873553Z",
          "iopub.status.idle": "2022-01-17T21:45:48.988027Z",
          "shell.execute_reply.started": "2022-01-17T21:45:48.873499Z",
          "shell.execute_reply": "2022-01-17T21:45:48.987235Z"
        },
        "trusted": true,
        "id": "tT1Wgo_eRape"
      },
      "execution_count": 13,
      "outputs": []
    },
    {
      "cell_type": "code",
      "source": [
        "df[\"popularity\"].fillna(value=df[\"popularity\"].mode(),inplace=True)\n",
        "df[\"popularity\"] = pd.to_numeric(df[\"popularity\"],errors ='coerce')\n",
        "df.info()"
      ],
      "metadata": {
        "execution": {
          "iopub.status.busy": "2022-01-17T21:45:48.989648Z",
          "iopub.execute_input": "2022-01-17T21:45:48.990360Z",
          "iopub.status.idle": "2022-01-17T21:45:49.117171Z",
          "shell.execute_reply.started": "2022-01-17T21:45:48.990312Z",
          "shell.execute_reply": "2022-01-17T21:45:49.115634Z"
        },
        "trusted": true,
        "colab": {
          "base_uri": "https://localhost:8080/"
        },
        "id": "l-YFCiAERape",
        "outputId": "ec9e782c-729f-42fd-dba2-9014dd08f8b7"
      },
      "execution_count": 14,
      "outputs": [
        {
          "output_type": "stream",
          "name": "stdout",
          "text": [
            "<class 'pandas.core.frame.DataFrame'>\n",
            "RangeIndex: 45466 entries, 0 to 45465\n",
            "Data columns (total 17 columns):\n",
            " #   Column                Non-Null Count  Dtype  \n",
            "---  ------                --------------  -----  \n",
            " 0   adult                 45466 non-null  object \n",
            " 1   budget                45466 non-null  object \n",
            " 2   genres                45466 non-null  object \n",
            " 3   id                    45466 non-null  object \n",
            " 4   original_title        45466 non-null  object \n",
            " 5   popularity            45460 non-null  float64\n",
            " 6   production_companies  45463 non-null  object \n",
            " 7   production_countries  45463 non-null  object \n",
            " 8   release_date          45379 non-null  object \n",
            " 9   revenue               45460 non-null  float64\n",
            " 10  runtime               45203 non-null  float64\n",
            " 11  spoken_languages      45460 non-null  object \n",
            " 12  status                45379 non-null  object \n",
            " 13  title                 45460 non-null  object \n",
            " 14  video                 45460 non-null  object \n",
            " 15  vote_average          45460 non-null  float64\n",
            " 16  vote_count            45460 non-null  float64\n",
            "dtypes: float64(5), object(12)\n",
            "memory usage: 5.9+ MB\n"
          ]
        }
      ]
    },
    {
      "cell_type": "code",
      "source": [
        "def label_encoder(row):\n",
        "    if row[\"popularity\"] > 2.92:\n",
        "        return 1\n",
        "    else:\n",
        "        return 0"
      ],
      "metadata": {
        "execution": {
          "iopub.status.busy": "2022-01-17T21:45:49.118509Z",
          "iopub.execute_input": "2022-01-17T21:45:49.118830Z",
          "iopub.status.idle": "2022-01-17T21:45:49.126019Z",
          "shell.execute_reply.started": "2022-01-17T21:45:49.118786Z",
          "shell.execute_reply": "2022-01-17T21:45:49.124776Z"
        },
        "trusted": true,
        "id": "NogJPwI4Rapf"
      },
      "execution_count": 15,
      "outputs": []
    },
    {
      "cell_type": "code",
      "source": [
        "df[\"label\"] = df.apply(lambda row: label_encoder(row), axis=1)\n",
        "df.head(3)"
      ],
      "metadata": {
        "execution": {
          "iopub.status.busy": "2022-01-17T21:45:49.131777Z",
          "iopub.execute_input": "2022-01-17T21:45:49.132152Z",
          "iopub.status.idle": "2022-01-17T21:45:49.876333Z",
          "shell.execute_reply.started": "2022-01-17T21:45:49.132114Z",
          "shell.execute_reply": "2022-01-17T21:45:49.875061Z"
        },
        "trusted": true,
        "colab": {
          "base_uri": "https://localhost:8080/",
          "height": 364
        },
        "id": "P_jBk--SRapf",
        "outputId": "9d4a3208-7041-4906-8a9f-4ed0ad147ebd"
      },
      "execution_count": 16,
      "outputs": [
        {
          "output_type": "execute_result",
          "data": {
            "text/plain": [
              "   adult    budget                                             genres     id  \\\n",
              "0  False  30000000  [{'id': 16, 'name': 'Animation'}, {'id': 35, '...    862   \n",
              "1  False  65000000  [{'id': 12, 'name': 'Adventure'}, {'id': 14, '...   8844   \n",
              "2  False         0  [{'id': 10749, 'name': 'Romance'}, {'id': 35, ...  15602   \n",
              "\n",
              "     original_title  popularity  \\\n",
              "0         Toy Story   21.946943   \n",
              "1           Jumanji   17.015539   \n",
              "2  Grumpier Old Men   11.712900   \n",
              "\n",
              "                                production_companies  \\\n",
              "0     [{'name': 'Pixar Animation Studios', 'id': 3}]   \n",
              "1  [{'name': 'TriStar Pictures', 'id': 559}, {'na...   \n",
              "2  [{'name': 'Warner Bros.', 'id': 6194}, {'name'...   \n",
              "\n",
              "                                production_countries release_date  \\\n",
              "0  [{'iso_3166_1': 'US', 'name': 'United States o...   1995-10-30   \n",
              "1  [{'iso_3166_1': 'US', 'name': 'United States o...   1995-12-15   \n",
              "2  [{'iso_3166_1': 'US', 'name': 'United States o...   1995-12-22   \n",
              "\n",
              "       revenue  runtime                                   spoken_languages  \\\n",
              "0  373554033.0     81.0           [{'iso_639_1': 'en', 'name': 'English'}]   \n",
              "1  262797249.0    104.0  [{'iso_639_1': 'en', 'name': 'English'}, {'iso...   \n",
              "2          0.0    101.0           [{'iso_639_1': 'en', 'name': 'English'}]   \n",
              "\n",
              "     status             title  video  vote_average  vote_count  label  \n",
              "0  Released         Toy Story  False           7.7      5415.0      1  \n",
              "1  Released           Jumanji  False           6.9      2413.0      1  \n",
              "2  Released  Grumpier Old Men  False           6.5        92.0      1  "
            ],
            "text/html": [
              "\n",
              "  <div id=\"df-40613921-ec0a-4968-b933-aafe8cf731ad\">\n",
              "    <div class=\"colab-df-container\">\n",
              "      <div>\n",
              "<style scoped>\n",
              "    .dataframe tbody tr th:only-of-type {\n",
              "        vertical-align: middle;\n",
              "    }\n",
              "\n",
              "    .dataframe tbody tr th {\n",
              "        vertical-align: top;\n",
              "    }\n",
              "\n",
              "    .dataframe thead th {\n",
              "        text-align: right;\n",
              "    }\n",
              "</style>\n",
              "<table border=\"1\" class=\"dataframe\">\n",
              "  <thead>\n",
              "    <tr style=\"text-align: right;\">\n",
              "      <th></th>\n",
              "      <th>adult</th>\n",
              "      <th>budget</th>\n",
              "      <th>genres</th>\n",
              "      <th>id</th>\n",
              "      <th>original_title</th>\n",
              "      <th>popularity</th>\n",
              "      <th>production_companies</th>\n",
              "      <th>production_countries</th>\n",
              "      <th>release_date</th>\n",
              "      <th>revenue</th>\n",
              "      <th>runtime</th>\n",
              "      <th>spoken_languages</th>\n",
              "      <th>status</th>\n",
              "      <th>title</th>\n",
              "      <th>video</th>\n",
              "      <th>vote_average</th>\n",
              "      <th>vote_count</th>\n",
              "      <th>label</th>\n",
              "    </tr>\n",
              "  </thead>\n",
              "  <tbody>\n",
              "    <tr>\n",
              "      <th>0</th>\n",
              "      <td>False</td>\n",
              "      <td>30000000</td>\n",
              "      <td>[{'id': 16, 'name': 'Animation'}, {'id': 35, '...</td>\n",
              "      <td>862</td>\n",
              "      <td>Toy Story</td>\n",
              "      <td>21.946943</td>\n",
              "      <td>[{'name': 'Pixar Animation Studios', 'id': 3}]</td>\n",
              "      <td>[{'iso_3166_1': 'US', 'name': 'United States o...</td>\n",
              "      <td>1995-10-30</td>\n",
              "      <td>373554033.0</td>\n",
              "      <td>81.0</td>\n",
              "      <td>[{'iso_639_1': 'en', 'name': 'English'}]</td>\n",
              "      <td>Released</td>\n",
              "      <td>Toy Story</td>\n",
              "      <td>False</td>\n",
              "      <td>7.7</td>\n",
              "      <td>5415.0</td>\n",
              "      <td>1</td>\n",
              "    </tr>\n",
              "    <tr>\n",
              "      <th>1</th>\n",
              "      <td>False</td>\n",
              "      <td>65000000</td>\n",
              "      <td>[{'id': 12, 'name': 'Adventure'}, {'id': 14, '...</td>\n",
              "      <td>8844</td>\n",
              "      <td>Jumanji</td>\n",
              "      <td>17.015539</td>\n",
              "      <td>[{'name': 'TriStar Pictures', 'id': 559}, {'na...</td>\n",
              "      <td>[{'iso_3166_1': 'US', 'name': 'United States o...</td>\n",
              "      <td>1995-12-15</td>\n",
              "      <td>262797249.0</td>\n",
              "      <td>104.0</td>\n",
              "      <td>[{'iso_639_1': 'en', 'name': 'English'}, {'iso...</td>\n",
              "      <td>Released</td>\n",
              "      <td>Jumanji</td>\n",
              "      <td>False</td>\n",
              "      <td>6.9</td>\n",
              "      <td>2413.0</td>\n",
              "      <td>1</td>\n",
              "    </tr>\n",
              "    <tr>\n",
              "      <th>2</th>\n",
              "      <td>False</td>\n",
              "      <td>0</td>\n",
              "      <td>[{'id': 10749, 'name': 'Romance'}, {'id': 35, ...</td>\n",
              "      <td>15602</td>\n",
              "      <td>Grumpier Old Men</td>\n",
              "      <td>11.712900</td>\n",
              "      <td>[{'name': 'Warner Bros.', 'id': 6194}, {'name'...</td>\n",
              "      <td>[{'iso_3166_1': 'US', 'name': 'United States o...</td>\n",
              "      <td>1995-12-22</td>\n",
              "      <td>0.0</td>\n",
              "      <td>101.0</td>\n",
              "      <td>[{'iso_639_1': 'en', 'name': 'English'}]</td>\n",
              "      <td>Released</td>\n",
              "      <td>Grumpier Old Men</td>\n",
              "      <td>False</td>\n",
              "      <td>6.5</td>\n",
              "      <td>92.0</td>\n",
              "      <td>1</td>\n",
              "    </tr>\n",
              "  </tbody>\n",
              "</table>\n",
              "</div>\n",
              "      <button class=\"colab-df-convert\" onclick=\"convertToInteractive('df-40613921-ec0a-4968-b933-aafe8cf731ad')\"\n",
              "              title=\"Convert this dataframe to an interactive table.\"\n",
              "              style=\"display:none;\">\n",
              "        \n",
              "  <svg xmlns=\"http://www.w3.org/2000/svg\" height=\"24px\"viewBox=\"0 0 24 24\"\n",
              "       width=\"24px\">\n",
              "    <path d=\"M0 0h24v24H0V0z\" fill=\"none\"/>\n",
              "    <path d=\"M18.56 5.44l.94 2.06.94-2.06 2.06-.94-2.06-.94-.94-2.06-.94 2.06-2.06.94zm-11 1L8.5 8.5l.94-2.06 2.06-.94-2.06-.94L8.5 2.5l-.94 2.06-2.06.94zm10 10l.94 2.06.94-2.06 2.06-.94-2.06-.94-.94-2.06-.94 2.06-2.06.94z\"/><path d=\"M17.41 7.96l-1.37-1.37c-.4-.4-.92-.59-1.43-.59-.52 0-1.04.2-1.43.59L10.3 9.45l-7.72 7.72c-.78.78-.78 2.05 0 2.83L4 21.41c.39.39.9.59 1.41.59.51 0 1.02-.2 1.41-.59l7.78-7.78 2.81-2.81c.8-.78.8-2.07 0-2.86zM5.41 20L4 18.59l7.72-7.72 1.47 1.35L5.41 20z\"/>\n",
              "  </svg>\n",
              "      </button>\n",
              "      \n",
              "  <style>\n",
              "    .colab-df-container {\n",
              "      display:flex;\n",
              "      flex-wrap:wrap;\n",
              "      gap: 12px;\n",
              "    }\n",
              "\n",
              "    .colab-df-convert {\n",
              "      background-color: #E8F0FE;\n",
              "      border: none;\n",
              "      border-radius: 50%;\n",
              "      cursor: pointer;\n",
              "      display: none;\n",
              "      fill: #1967D2;\n",
              "      height: 32px;\n",
              "      padding: 0 0 0 0;\n",
              "      width: 32px;\n",
              "    }\n",
              "\n",
              "    .colab-df-convert:hover {\n",
              "      background-color: #E2EBFA;\n",
              "      box-shadow: 0px 1px 2px rgba(60, 64, 67, 0.3), 0px 1px 3px 1px rgba(60, 64, 67, 0.15);\n",
              "      fill: #174EA6;\n",
              "    }\n",
              "\n",
              "    [theme=dark] .colab-df-convert {\n",
              "      background-color: #3B4455;\n",
              "      fill: #D2E3FC;\n",
              "    }\n",
              "\n",
              "    [theme=dark] .colab-df-convert:hover {\n",
              "      background-color: #434B5C;\n",
              "      box-shadow: 0px 1px 3px 1px rgba(0, 0, 0, 0.15);\n",
              "      filter: drop-shadow(0px 1px 2px rgba(0, 0, 0, 0.3));\n",
              "      fill: #FFFFFF;\n",
              "    }\n",
              "  </style>\n",
              "\n",
              "      <script>\n",
              "        const buttonEl =\n",
              "          document.querySelector('#df-40613921-ec0a-4968-b933-aafe8cf731ad button.colab-df-convert');\n",
              "        buttonEl.style.display =\n",
              "          google.colab.kernel.accessAllowed ? 'block' : 'none';\n",
              "\n",
              "        async function convertToInteractive(key) {\n",
              "          const element = document.querySelector('#df-40613921-ec0a-4968-b933-aafe8cf731ad');\n",
              "          const dataTable =\n",
              "            await google.colab.kernel.invokeFunction('convertToInteractive',\n",
              "                                                     [key], {});\n",
              "          if (!dataTable) return;\n",
              "\n",
              "          const docLinkHtml = 'Like what you see? Visit the ' +\n",
              "            '<a target=\"_blank\" href=https://colab.research.google.com/notebooks/data_table.ipynb>data table notebook</a>'\n",
              "            + ' to learn more about interactive tables.';\n",
              "          element.innerHTML = '';\n",
              "          dataTable['output_type'] = 'display_data';\n",
              "          await google.colab.output.renderOutput(dataTable, element);\n",
              "          const docLink = document.createElement('div');\n",
              "          docLink.innerHTML = docLinkHtml;\n",
              "          element.appendChild(docLink);\n",
              "        }\n",
              "      </script>\n",
              "    </div>\n",
              "  </div>\n",
              "  "
            ]
          },
          "metadata": {},
          "execution_count": 16
        }
      ]
    },
    {
      "cell_type": "code",
      "source": [
        "def classify(unknown,dataset,labels, k):\n",
        "    distances = list()\n",
        "    for row_number, row in dataset.iterrows():\n",
        "        movie = [row[\"revenue\"],row[\"runtime\"],row[\"vote_average\"]]\n",
        "        distance_to_point = distance(movie, unknown)\n",
        "        distances.append([distance_to_point,row[\"title\"],row[\"label\"]])\n",
        "    distances.sort()\n",
        "    neighbors = distances[0:k]\n",
        "    num_good = 0\n",
        "    num_bad = 0\n",
        "    for neighbor in neighbors:\n",
        "        label = neighbor[2]\n",
        "        if label == 0:\n",
        "            num_bad += 1\n",
        "        elif label == 1:\n",
        "            num_good += 1\n",
        "    if num_good > num_bad:\n",
        "        return 1\n",
        "    else:\n",
        "        return 0\n",
        "print(classify([373554033, 91, 8],df,df[\"label\"],5))"
      ],
      "metadata": {
        "execution": {
          "iopub.status.busy": "2022-01-17T21:45:49.878207Z",
          "iopub.execute_input": "2022-01-17T21:45:49.878565Z",
          "iopub.status.idle": "2022-01-17T21:45:53.367186Z",
          "shell.execute_reply.started": "2022-01-17T21:45:49.878528Z",
          "shell.execute_reply": "2022-01-17T21:45:53.365804Z"
        },
        "trusted": true,
        "colab": {
          "base_uri": "https://localhost:8080/"
        },
        "id": "PWGDIbnSRapg",
        "outputId": "fce1ec3e-1093-4c69-d798-3ae1a676e985"
      },
      "execution_count": 17,
      "outputs": [
        {
          "output_type": "stream",
          "name": "stdout",
          "text": [
            "1\n"
          ]
        }
      ]
    },
    {
      "cell_type": "markdown",
      "source": [
        "<font color=\"purple\">\n",
        "Our classifier is now able to predict whether a movie will be good or bad and returns 1 if it is good or returns 0 if it is bad."
      ],
      "metadata": {
        "id": "sMeAhT--Rapg"
      }
    },
    {
      "cell_type": "markdown",
      "source": [
        "## 5.Using Sklearn Builtin K Neares Neighbors Algorithm"
      ],
      "metadata": {
        "id": "Vx_6hh5YRaph"
      }
    },
    {
      "cell_type": "markdown",
      "source": [
        "<font color=\"purple\">\n",
        "We’ve now written your own K-Nearest Neighbor classifier from scratch! However, rather than writing your own classifier every time, you can use Python’s sklearn library. sklearn is a Python library specifically used for Machine Learning"
      ],
      "metadata": {
        "id": "pUaH4uFwRaph"
      }
    },
    {
      "cell_type": "code",
      "source": [
        "df.drop([\"id\",\"genres\",\"spoken_languages\",\"title\",\"original_title\",\"production_companies\",\"production_countries\"],axis=1,inplace=True)\n",
        "df.head(3)"
      ],
      "metadata": {
        "execution": {
          "iopub.status.busy": "2022-01-17T21:45:53.368479Z",
          "iopub.execute_input": "2022-01-17T21:45:53.368712Z",
          "iopub.status.idle": "2022-01-17T21:45:53.391600Z",
          "shell.execute_reply.started": "2022-01-17T21:45:53.368683Z",
          "shell.execute_reply": "2022-01-17T21:45:53.390369Z"
        },
        "trusted": true,
        "colab": {
          "base_uri": "https://localhost:8080/",
          "height": 143
        },
        "id": "2saFyLhRRaph",
        "outputId": "69e82dad-67a9-4812-f120-eed25f721497"
      },
      "execution_count": 18,
      "outputs": [
        {
          "output_type": "execute_result",
          "data": {
            "text/plain": [
              "   adult    budget  popularity release_date      revenue  runtime    status  \\\n",
              "0  False  30000000   21.946943   1995-10-30  373554033.0     81.0  Released   \n",
              "1  False  65000000   17.015539   1995-12-15  262797249.0    104.0  Released   \n",
              "2  False         0   11.712900   1995-12-22          0.0    101.0  Released   \n",
              "\n",
              "   video  vote_average  vote_count  label  \n",
              "0  False           7.7      5415.0      1  \n",
              "1  False           6.9      2413.0      1  \n",
              "2  False           6.5        92.0      1  "
            ],
            "text/html": [
              "\n",
              "  <div id=\"df-39b8dde5-466f-4382-acaf-14dd6d9e3576\">\n",
              "    <div class=\"colab-df-container\">\n",
              "      <div>\n",
              "<style scoped>\n",
              "    .dataframe tbody tr th:only-of-type {\n",
              "        vertical-align: middle;\n",
              "    }\n",
              "\n",
              "    .dataframe tbody tr th {\n",
              "        vertical-align: top;\n",
              "    }\n",
              "\n",
              "    .dataframe thead th {\n",
              "        text-align: right;\n",
              "    }\n",
              "</style>\n",
              "<table border=\"1\" class=\"dataframe\">\n",
              "  <thead>\n",
              "    <tr style=\"text-align: right;\">\n",
              "      <th></th>\n",
              "      <th>adult</th>\n",
              "      <th>budget</th>\n",
              "      <th>popularity</th>\n",
              "      <th>release_date</th>\n",
              "      <th>revenue</th>\n",
              "      <th>runtime</th>\n",
              "      <th>status</th>\n",
              "      <th>video</th>\n",
              "      <th>vote_average</th>\n",
              "      <th>vote_count</th>\n",
              "      <th>label</th>\n",
              "    </tr>\n",
              "  </thead>\n",
              "  <tbody>\n",
              "    <tr>\n",
              "      <th>0</th>\n",
              "      <td>False</td>\n",
              "      <td>30000000</td>\n",
              "      <td>21.946943</td>\n",
              "      <td>1995-10-30</td>\n",
              "      <td>373554033.0</td>\n",
              "      <td>81.0</td>\n",
              "      <td>Released</td>\n",
              "      <td>False</td>\n",
              "      <td>7.7</td>\n",
              "      <td>5415.0</td>\n",
              "      <td>1</td>\n",
              "    </tr>\n",
              "    <tr>\n",
              "      <th>1</th>\n",
              "      <td>False</td>\n",
              "      <td>65000000</td>\n",
              "      <td>17.015539</td>\n",
              "      <td>1995-12-15</td>\n",
              "      <td>262797249.0</td>\n",
              "      <td>104.0</td>\n",
              "      <td>Released</td>\n",
              "      <td>False</td>\n",
              "      <td>6.9</td>\n",
              "      <td>2413.0</td>\n",
              "      <td>1</td>\n",
              "    </tr>\n",
              "    <tr>\n",
              "      <th>2</th>\n",
              "      <td>False</td>\n",
              "      <td>0</td>\n",
              "      <td>11.712900</td>\n",
              "      <td>1995-12-22</td>\n",
              "      <td>0.0</td>\n",
              "      <td>101.0</td>\n",
              "      <td>Released</td>\n",
              "      <td>False</td>\n",
              "      <td>6.5</td>\n",
              "      <td>92.0</td>\n",
              "      <td>1</td>\n",
              "    </tr>\n",
              "  </tbody>\n",
              "</table>\n",
              "</div>\n",
              "      <button class=\"colab-df-convert\" onclick=\"convertToInteractive('df-39b8dde5-466f-4382-acaf-14dd6d9e3576')\"\n",
              "              title=\"Convert this dataframe to an interactive table.\"\n",
              "              style=\"display:none;\">\n",
              "        \n",
              "  <svg xmlns=\"http://www.w3.org/2000/svg\" height=\"24px\"viewBox=\"0 0 24 24\"\n",
              "       width=\"24px\">\n",
              "    <path d=\"M0 0h24v24H0V0z\" fill=\"none\"/>\n",
              "    <path d=\"M18.56 5.44l.94 2.06.94-2.06 2.06-.94-2.06-.94-.94-2.06-.94 2.06-2.06.94zm-11 1L8.5 8.5l.94-2.06 2.06-.94-2.06-.94L8.5 2.5l-.94 2.06-2.06.94zm10 10l.94 2.06.94-2.06 2.06-.94-2.06-.94-.94-2.06-.94 2.06-2.06.94z\"/><path d=\"M17.41 7.96l-1.37-1.37c-.4-.4-.92-.59-1.43-.59-.52 0-1.04.2-1.43.59L10.3 9.45l-7.72 7.72c-.78.78-.78 2.05 0 2.83L4 21.41c.39.39.9.59 1.41.59.51 0 1.02-.2 1.41-.59l7.78-7.78 2.81-2.81c.8-.78.8-2.07 0-2.86zM5.41 20L4 18.59l7.72-7.72 1.47 1.35L5.41 20z\"/>\n",
              "  </svg>\n",
              "      </button>\n",
              "      \n",
              "  <style>\n",
              "    .colab-df-container {\n",
              "      display:flex;\n",
              "      flex-wrap:wrap;\n",
              "      gap: 12px;\n",
              "    }\n",
              "\n",
              "    .colab-df-convert {\n",
              "      background-color: #E8F0FE;\n",
              "      border: none;\n",
              "      border-radius: 50%;\n",
              "      cursor: pointer;\n",
              "      display: none;\n",
              "      fill: #1967D2;\n",
              "      height: 32px;\n",
              "      padding: 0 0 0 0;\n",
              "      width: 32px;\n",
              "    }\n",
              "\n",
              "    .colab-df-convert:hover {\n",
              "      background-color: #E2EBFA;\n",
              "      box-shadow: 0px 1px 2px rgba(60, 64, 67, 0.3), 0px 1px 3px 1px rgba(60, 64, 67, 0.15);\n",
              "      fill: #174EA6;\n",
              "    }\n",
              "\n",
              "    [theme=dark] .colab-df-convert {\n",
              "      background-color: #3B4455;\n",
              "      fill: #D2E3FC;\n",
              "    }\n",
              "\n",
              "    [theme=dark] .colab-df-convert:hover {\n",
              "      background-color: #434B5C;\n",
              "      box-shadow: 0px 1px 3px 1px rgba(0, 0, 0, 0.15);\n",
              "      filter: drop-shadow(0px 1px 2px rgba(0, 0, 0, 0.3));\n",
              "      fill: #FFFFFF;\n",
              "    }\n",
              "  </style>\n",
              "\n",
              "      <script>\n",
              "        const buttonEl =\n",
              "          document.querySelector('#df-39b8dde5-466f-4382-acaf-14dd6d9e3576 button.colab-df-convert');\n",
              "        buttonEl.style.display =\n",
              "          google.colab.kernel.accessAllowed ? 'block' : 'none';\n",
              "\n",
              "        async function convertToInteractive(key) {\n",
              "          const element = document.querySelector('#df-39b8dde5-466f-4382-acaf-14dd6d9e3576');\n",
              "          const dataTable =\n",
              "            await google.colab.kernel.invokeFunction('convertToInteractive',\n",
              "                                                     [key], {});\n",
              "          if (!dataTable) return;\n",
              "\n",
              "          const docLinkHtml = 'Like what you see? Visit the ' +\n",
              "            '<a target=\"_blank\" href=https://colab.research.google.com/notebooks/data_table.ipynb>data table notebook</a>'\n",
              "            + ' to learn more about interactive tables.';\n",
              "          element.innerHTML = '';\n",
              "          dataTable['output_type'] = 'display_data';\n",
              "          await google.colab.output.renderOutput(dataTable, element);\n",
              "          const docLink = document.createElement('div');\n",
              "          docLink.innerHTML = docLinkHtml;\n",
              "          element.appendChild(docLink);\n",
              "        }\n",
              "      </script>\n",
              "    </div>\n",
              "  </div>\n",
              "  "
            ]
          },
          "metadata": {},
          "execution_count": 18
        }
      ]
    },
    {
      "cell_type": "markdown",
      "source": [
        "## 5.1. Data Preprocessing"
      ],
      "metadata": {
        "id": "uO1a-urnRapi"
      }
    },
    {
      "cell_type": "markdown",
      "source": [
        "<font color=\"purple\">\n",
        "First of all we need to fill or ged tird of missing values for each columns"
      ],
      "metadata": {
        "id": "spd_p5Y7Rapi"
      }
    },
    {
      "cell_type": "code",
      "source": [
        "df.isnull().sum()"
      ],
      "metadata": {
        "execution": {
          "iopub.status.busy": "2022-01-17T21:45:53.393051Z",
          "iopub.execute_input": "2022-01-17T21:45:53.393392Z",
          "iopub.status.idle": "2022-01-17T21:45:53.436116Z",
          "shell.execute_reply.started": "2022-01-17T21:45:53.393361Z",
          "shell.execute_reply": "2022-01-17T21:45:53.435371Z"
        },
        "trusted": true,
        "colab": {
          "base_uri": "https://localhost:8080/"
        },
        "id": "qQE--Jv1Rapi",
        "outputId": "f6c722cc-ba59-4b39-f943-b7a76a1b99dd"
      },
      "execution_count": 19,
      "outputs": [
        {
          "output_type": "execute_result",
          "data": {
            "text/plain": [
              "adult             0\n",
              "budget            0\n",
              "popularity        6\n",
              "release_date     87\n",
              "revenue           6\n",
              "runtime         263\n",
              "status           87\n",
              "video             6\n",
              "vote_average      6\n",
              "vote_count        6\n",
              "label             0\n",
              "dtype: int64"
            ]
          },
          "metadata": {},
          "execution_count": 19
        }
      ]
    },
    {
      "cell_type": "code",
      "source": [
        "\n",
        "df[\"release_date\"].fillna(\"2008-01-01\",inplace=True)\n",
        "df[\"revenue\"].fillna(df[\"revenue\"].mean(),inplace=True)\n",
        "df[\"runtime\"].fillna(df[\"runtime\"].mean(),inplace=True)\n",
        "df[\"status\"].fillna(\"Released\",inplace=True)\n",
        "df[\"video\"].fillna(\"False\",inplace=True)\n",
        "df[\"popularity\"].fillna(df[\"popularity\"].mean(),inplace=True)\n",
        "df[\"vote_average\"].fillna(df[\"vote_average\"].mean(),inplace=True)\n",
        "df[\"vote_count\"].fillna(df[\"vote_count\"].mean(),inplace=True)"
      ],
      "metadata": {
        "execution": {
          "iopub.status.busy": "2022-01-17T21:46:23.697094Z",
          "iopub.execute_input": "2022-01-17T21:46:23.697410Z",
          "iopub.status.idle": "2022-01-17T21:46:23.731338Z",
          "shell.execute_reply.started": "2022-01-17T21:46:23.697378Z",
          "shell.execute_reply": "2022-01-17T21:46:23.730043Z"
        },
        "trusted": true,
        "id": "Ld60tEEoRapj"
      },
      "execution_count": 20,
      "outputs": []
    },
    {
      "cell_type": "code",
      "source": [
        "df.isnull().sum()"
      ],
      "metadata": {
        "execution": {
          "iopub.status.busy": "2022-01-17T21:46:26.044046Z",
          "iopub.execute_input": "2022-01-17T21:46:26.044456Z",
          "iopub.status.idle": "2022-01-17T21:46:26.085174Z",
          "shell.execute_reply.started": "2022-01-17T21:46:26.044410Z",
          "shell.execute_reply": "2022-01-17T21:46:26.084288Z"
        },
        "trusted": true,
        "colab": {
          "base_uri": "https://localhost:8080/"
        },
        "id": "KQcT0_nfRapj",
        "outputId": "ee5cc8b1-c2b2-4f09-d055-5b1a713bf12f"
      },
      "execution_count": 21,
      "outputs": [
        {
          "output_type": "execute_result",
          "data": {
            "text/plain": [
              "adult           0\n",
              "budget          0\n",
              "popularity      0\n",
              "release_date    0\n",
              "revenue         0\n",
              "runtime         0\n",
              "status          0\n",
              "video           0\n",
              "vote_average    0\n",
              "vote_count      0\n",
              "label           0\n",
              "dtype: int64"
            ]
          },
          "metadata": {},
          "execution_count": 21
        }
      ]
    },
    {
      "cell_type": "markdown",
      "source": [
        "<font color=\"purple\">\n",
        "Secondly we need to do some feature engineering."
      ],
      "metadata": {
        "id": "P82A3qSHRapk"
      }
    },
    {
      "cell_type": "code",
      "source": [
        "df[\"release_year\"] = df[\"release_date\"].apply(lambda x : int(x[:4]))\n",
        "df[\"release_month\"] = df[\"release_date\"].apply(lambda x : x[5:7])\n",
        "df = df[df[\"release_month\"]!= \"\"]\n",
        "df[\"release_month\"] = df[\"release_month\"].apply(lambda x : int())\n",
        "df.drop(\"release_date\",axis=1,inplace=True)\n",
        "df[\"budget\"] = df[\"budget\"].apply(lambda x: float(x))\n",
        "df.info()\n",
        "                                               "
      ],
      "metadata": {
        "execution": {
          "iopub.status.busy": "2022-01-17T21:46:28.431981Z",
          "iopub.execute_input": "2022-01-17T21:46:28.432257Z",
          "iopub.status.idle": "2022-01-17T21:46:28.599039Z",
          "shell.execute_reply.started": "2022-01-17T21:46:28.432228Z",
          "shell.execute_reply": "2022-01-17T21:46:28.598141Z"
        },
        "trusted": true,
        "colab": {
          "base_uri": "https://localhost:8080/"
        },
        "id": "11E3-zobRapk",
        "outputId": "ba3a0cea-d522-44be-8cdf-f397af0c4b24"
      },
      "execution_count": 22,
      "outputs": [
        {
          "output_type": "stream",
          "name": "stdout",
          "text": [
            "<class 'pandas.core.frame.DataFrame'>\n",
            "Int64Index: 45463 entries, 0 to 45465\n",
            "Data columns (total 12 columns):\n",
            " #   Column         Non-Null Count  Dtype  \n",
            "---  ------         --------------  -----  \n",
            " 0   adult          45463 non-null  object \n",
            " 1   budget         45463 non-null  float64\n",
            " 2   popularity     45463 non-null  float64\n",
            " 3   revenue        45463 non-null  float64\n",
            " 4   runtime        45463 non-null  float64\n",
            " 5   status         45463 non-null  object \n",
            " 6   video          45463 non-null  object \n",
            " 7   vote_average   45463 non-null  float64\n",
            " 8   vote_count     45463 non-null  float64\n",
            " 9   label          45463 non-null  int64  \n",
            " 10  release_year   45463 non-null  int64  \n",
            " 11  release_month  45463 non-null  int64  \n",
            "dtypes: float64(6), int64(3), object(3)\n",
            "memory usage: 4.5+ MB\n"
          ]
        },
        {
          "output_type": "stream",
          "name": "stderr",
          "text": [
            "/usr/local/lib/python3.7/dist-packages/ipykernel_launcher.py:4: SettingWithCopyWarning: \n",
            "A value is trying to be set on a copy of a slice from a DataFrame.\n",
            "Try using .loc[row_indexer,col_indexer] = value instead\n",
            "\n",
            "See the caveats in the documentation: https://pandas.pydata.org/pandas-docs/stable/user_guide/indexing.html#returning-a-view-versus-a-copy\n",
            "  after removing the cwd from sys.path.\n",
            "/usr/local/lib/python3.7/dist-packages/pandas/core/frame.py:4913: SettingWithCopyWarning: \n",
            "A value is trying to be set on a copy of a slice from a DataFrame\n",
            "\n",
            "See the caveats in the documentation: https://pandas.pydata.org/pandas-docs/stable/user_guide/indexing.html#returning-a-view-versus-a-copy\n",
            "  errors=errors,\n",
            "/usr/local/lib/python3.7/dist-packages/ipykernel_launcher.py:6: SettingWithCopyWarning: \n",
            "A value is trying to be set on a copy of a slice from a DataFrame.\n",
            "Try using .loc[row_indexer,col_indexer] = value instead\n",
            "\n",
            "See the caveats in the documentation: https://pandas.pydata.org/pandas-docs/stable/user_guide/indexing.html#returning-a-view-versus-a-copy\n",
            "  \n"
          ]
        }
      ]
    },
    {
      "cell_type": "markdown",
      "source": [
        "<font color=\"purple\">\n",
        "The next step is to deal with columns with non numerical values. "
      ],
      "metadata": {
        "id": "y5Al1DeaRapl"
      }
    },
    {
      "cell_type": "code",
      "source": [
        "for i in df.select_dtypes(\"object\").columns:\n",
        "    print(f\"Column {i} has these type of data: {df[i].nunique()}\")\n",
        "    print(\"***************************************************\")"
      ],
      "metadata": {
        "execution": {
          "iopub.status.busy": "2022-01-17T21:46:35.536819Z",
          "iopub.execute_input": "2022-01-17T21:46:35.537316Z",
          "iopub.status.idle": "2022-01-17T21:46:35.562739Z",
          "shell.execute_reply.started": "2022-01-17T21:46:35.537265Z",
          "shell.execute_reply": "2022-01-17T21:46:35.561420Z"
        },
        "trusted": true,
        "colab": {
          "base_uri": "https://localhost:8080/"
        },
        "id": "a5w7fxWWRapl",
        "outputId": "fa7a7f99-c4cf-4345-8f75-51d28ba8b4e3"
      },
      "execution_count": 23,
      "outputs": [
        {
          "output_type": "stream",
          "name": "stdout",
          "text": [
            "Column adult has these type of data: 2\n",
            "***************************************************\n",
            "Column status has these type of data: 6\n",
            "***************************************************\n",
            "Column video has these type of data: 3\n",
            "***************************************************\n"
          ]
        }
      ]
    },
    {
      "cell_type": "code",
      "source": [
        "from sklearn.preprocessing import LabelEncoder\n",
        "le = LabelEncoder()\n",
        "df[\"adult\"] = le.fit_transform(df[\"adult\"])\n",
        "df_transformed = pd.get_dummies(df, columns=[\"status\",\"video\"])\n",
        "df_transformed"
      ],
      "metadata": {
        "execution": {
          "iopub.status.busy": "2022-01-17T21:50:18.964548Z",
          "iopub.execute_input": "2022-01-17T21:50:18.964896Z",
          "iopub.status.idle": "2022-01-17T21:50:19.034929Z",
          "shell.execute_reply.started": "2022-01-17T21:50:18.964859Z",
          "shell.execute_reply": "2022-01-17T21:50:19.033865Z"
        },
        "trusted": true,
        "colab": {
          "base_uri": "https://localhost:8080/",
          "height": 505
        },
        "id": "Xih0yti5Rapl",
        "outputId": "6ab405be-e147-4b07-d318-9f956af8e7e8"
      },
      "execution_count": 24,
      "outputs": [
        {
          "output_type": "execute_result",
          "data": {
            "text/plain": [
              "       adult      budget  popularity      revenue  runtime  vote_average  \\\n",
              "0          0  30000000.0   21.946943  373554033.0     81.0           7.7   \n",
              "1          0  65000000.0   17.015539  262797249.0    104.0           6.9   \n",
              "2          0         0.0   11.712900          0.0    101.0           6.5   \n",
              "3          0  16000000.0    3.859495   81452156.0    127.0           6.1   \n",
              "4          0         0.0    8.387519   76578911.0    106.0           5.7   \n",
              "...      ...         ...         ...          ...      ...           ...   \n",
              "45461      0         0.0    0.072051          0.0     90.0           4.0   \n",
              "45462      0         0.0    0.178241          0.0    360.0           9.0   \n",
              "45463      0         0.0    0.903007          0.0     90.0           3.8   \n",
              "45464      0         0.0    0.003503          0.0     87.0           0.0   \n",
              "45465      0         0.0    0.163015          0.0     75.0           0.0   \n",
              "\n",
              "       vote_count  label  release_year  release_month  status_Canceled  \\\n",
              "0          5415.0      1          1995              0                0   \n",
              "1          2413.0      1          1995              0                0   \n",
              "2            92.0      1          1995              0                0   \n",
              "3            34.0      1          1995              0                0   \n",
              "4           173.0      1          1995              0                0   \n",
              "...           ...    ...           ...            ...              ...   \n",
              "45461         1.0      0          2008              0                0   \n",
              "45462         3.0      0          2011              0                0   \n",
              "45463         6.0      0          2003              0                0   \n",
              "45464         0.0      0          1917              0                0   \n",
              "45465         0.0      0          2017              0                0   \n",
              "\n",
              "       status_In Production  status_Planned  status_Post Production  \\\n",
              "0                         0               0                       0   \n",
              "1                         0               0                       0   \n",
              "2                         0               0                       0   \n",
              "3                         0               0                       0   \n",
              "4                         0               0                       0   \n",
              "...                     ...             ...                     ...   \n",
              "45461                     0               0                       0   \n",
              "45462                     0               0                       0   \n",
              "45463                     0               0                       0   \n",
              "45464                     0               0                       0   \n",
              "45465                     0               0                       0   \n",
              "\n",
              "       status_Released  status_Rumored  video_False  video_True  video_False  \n",
              "0                    1               0            1           0            0  \n",
              "1                    1               0            1           0            0  \n",
              "2                    1               0            1           0            0  \n",
              "3                    1               0            1           0            0  \n",
              "4                    1               0            1           0            0  \n",
              "...                ...             ...          ...         ...          ...  \n",
              "45461                1               0            1           0            0  \n",
              "45462                1               0            1           0            0  \n",
              "45463                1               0            1           0            0  \n",
              "45464                1               0            1           0            0  \n",
              "45465                1               0            1           0            0  \n",
              "\n",
              "[45463 rows x 19 columns]"
            ],
            "text/html": [
              "\n",
              "  <div id=\"df-2e9d16a4-188e-4a33-b159-0d70c744e2e1\">\n",
              "    <div class=\"colab-df-container\">\n",
              "      <div>\n",
              "<style scoped>\n",
              "    .dataframe tbody tr th:only-of-type {\n",
              "        vertical-align: middle;\n",
              "    }\n",
              "\n",
              "    .dataframe tbody tr th {\n",
              "        vertical-align: top;\n",
              "    }\n",
              "\n",
              "    .dataframe thead th {\n",
              "        text-align: right;\n",
              "    }\n",
              "</style>\n",
              "<table border=\"1\" class=\"dataframe\">\n",
              "  <thead>\n",
              "    <tr style=\"text-align: right;\">\n",
              "      <th></th>\n",
              "      <th>adult</th>\n",
              "      <th>budget</th>\n",
              "      <th>popularity</th>\n",
              "      <th>revenue</th>\n",
              "      <th>runtime</th>\n",
              "      <th>vote_average</th>\n",
              "      <th>vote_count</th>\n",
              "      <th>label</th>\n",
              "      <th>release_year</th>\n",
              "      <th>release_month</th>\n",
              "      <th>status_Canceled</th>\n",
              "      <th>status_In Production</th>\n",
              "      <th>status_Planned</th>\n",
              "      <th>status_Post Production</th>\n",
              "      <th>status_Released</th>\n",
              "      <th>status_Rumored</th>\n",
              "      <th>video_False</th>\n",
              "      <th>video_True</th>\n",
              "      <th>video_False</th>\n",
              "    </tr>\n",
              "  </thead>\n",
              "  <tbody>\n",
              "    <tr>\n",
              "      <th>0</th>\n",
              "      <td>0</td>\n",
              "      <td>30000000.0</td>\n",
              "      <td>21.946943</td>\n",
              "      <td>373554033.0</td>\n",
              "      <td>81.0</td>\n",
              "      <td>7.7</td>\n",
              "      <td>5415.0</td>\n",
              "      <td>1</td>\n",
              "      <td>1995</td>\n",
              "      <td>0</td>\n",
              "      <td>0</td>\n",
              "      <td>0</td>\n",
              "      <td>0</td>\n",
              "      <td>0</td>\n",
              "      <td>1</td>\n",
              "      <td>0</td>\n",
              "      <td>1</td>\n",
              "      <td>0</td>\n",
              "      <td>0</td>\n",
              "    </tr>\n",
              "    <tr>\n",
              "      <th>1</th>\n",
              "      <td>0</td>\n",
              "      <td>65000000.0</td>\n",
              "      <td>17.015539</td>\n",
              "      <td>262797249.0</td>\n",
              "      <td>104.0</td>\n",
              "      <td>6.9</td>\n",
              "      <td>2413.0</td>\n",
              "      <td>1</td>\n",
              "      <td>1995</td>\n",
              "      <td>0</td>\n",
              "      <td>0</td>\n",
              "      <td>0</td>\n",
              "      <td>0</td>\n",
              "      <td>0</td>\n",
              "      <td>1</td>\n",
              "      <td>0</td>\n",
              "      <td>1</td>\n",
              "      <td>0</td>\n",
              "      <td>0</td>\n",
              "    </tr>\n",
              "    <tr>\n",
              "      <th>2</th>\n",
              "      <td>0</td>\n",
              "      <td>0.0</td>\n",
              "      <td>11.712900</td>\n",
              "      <td>0.0</td>\n",
              "      <td>101.0</td>\n",
              "      <td>6.5</td>\n",
              "      <td>92.0</td>\n",
              "      <td>1</td>\n",
              "      <td>1995</td>\n",
              "      <td>0</td>\n",
              "      <td>0</td>\n",
              "      <td>0</td>\n",
              "      <td>0</td>\n",
              "      <td>0</td>\n",
              "      <td>1</td>\n",
              "      <td>0</td>\n",
              "      <td>1</td>\n",
              "      <td>0</td>\n",
              "      <td>0</td>\n",
              "    </tr>\n",
              "    <tr>\n",
              "      <th>3</th>\n",
              "      <td>0</td>\n",
              "      <td>16000000.0</td>\n",
              "      <td>3.859495</td>\n",
              "      <td>81452156.0</td>\n",
              "      <td>127.0</td>\n",
              "      <td>6.1</td>\n",
              "      <td>34.0</td>\n",
              "      <td>1</td>\n",
              "      <td>1995</td>\n",
              "      <td>0</td>\n",
              "      <td>0</td>\n",
              "      <td>0</td>\n",
              "      <td>0</td>\n",
              "      <td>0</td>\n",
              "      <td>1</td>\n",
              "      <td>0</td>\n",
              "      <td>1</td>\n",
              "      <td>0</td>\n",
              "      <td>0</td>\n",
              "    </tr>\n",
              "    <tr>\n",
              "      <th>4</th>\n",
              "      <td>0</td>\n",
              "      <td>0.0</td>\n",
              "      <td>8.387519</td>\n",
              "      <td>76578911.0</td>\n",
              "      <td>106.0</td>\n",
              "      <td>5.7</td>\n",
              "      <td>173.0</td>\n",
              "      <td>1</td>\n",
              "      <td>1995</td>\n",
              "      <td>0</td>\n",
              "      <td>0</td>\n",
              "      <td>0</td>\n",
              "      <td>0</td>\n",
              "      <td>0</td>\n",
              "      <td>1</td>\n",
              "      <td>0</td>\n",
              "      <td>1</td>\n",
              "      <td>0</td>\n",
              "      <td>0</td>\n",
              "    </tr>\n",
              "    <tr>\n",
              "      <th>...</th>\n",
              "      <td>...</td>\n",
              "      <td>...</td>\n",
              "      <td>...</td>\n",
              "      <td>...</td>\n",
              "      <td>...</td>\n",
              "      <td>...</td>\n",
              "      <td>...</td>\n",
              "      <td>...</td>\n",
              "      <td>...</td>\n",
              "      <td>...</td>\n",
              "      <td>...</td>\n",
              "      <td>...</td>\n",
              "      <td>...</td>\n",
              "      <td>...</td>\n",
              "      <td>...</td>\n",
              "      <td>...</td>\n",
              "      <td>...</td>\n",
              "      <td>...</td>\n",
              "      <td>...</td>\n",
              "    </tr>\n",
              "    <tr>\n",
              "      <th>45461</th>\n",
              "      <td>0</td>\n",
              "      <td>0.0</td>\n",
              "      <td>0.072051</td>\n",
              "      <td>0.0</td>\n",
              "      <td>90.0</td>\n",
              "      <td>4.0</td>\n",
              "      <td>1.0</td>\n",
              "      <td>0</td>\n",
              "      <td>2008</td>\n",
              "      <td>0</td>\n",
              "      <td>0</td>\n",
              "      <td>0</td>\n",
              "      <td>0</td>\n",
              "      <td>0</td>\n",
              "      <td>1</td>\n",
              "      <td>0</td>\n",
              "      <td>1</td>\n",
              "      <td>0</td>\n",
              "      <td>0</td>\n",
              "    </tr>\n",
              "    <tr>\n",
              "      <th>45462</th>\n",
              "      <td>0</td>\n",
              "      <td>0.0</td>\n",
              "      <td>0.178241</td>\n",
              "      <td>0.0</td>\n",
              "      <td>360.0</td>\n",
              "      <td>9.0</td>\n",
              "      <td>3.0</td>\n",
              "      <td>0</td>\n",
              "      <td>2011</td>\n",
              "      <td>0</td>\n",
              "      <td>0</td>\n",
              "      <td>0</td>\n",
              "      <td>0</td>\n",
              "      <td>0</td>\n",
              "      <td>1</td>\n",
              "      <td>0</td>\n",
              "      <td>1</td>\n",
              "      <td>0</td>\n",
              "      <td>0</td>\n",
              "    </tr>\n",
              "    <tr>\n",
              "      <th>45463</th>\n",
              "      <td>0</td>\n",
              "      <td>0.0</td>\n",
              "      <td>0.903007</td>\n",
              "      <td>0.0</td>\n",
              "      <td>90.0</td>\n",
              "      <td>3.8</td>\n",
              "      <td>6.0</td>\n",
              "      <td>0</td>\n",
              "      <td>2003</td>\n",
              "      <td>0</td>\n",
              "      <td>0</td>\n",
              "      <td>0</td>\n",
              "      <td>0</td>\n",
              "      <td>0</td>\n",
              "      <td>1</td>\n",
              "      <td>0</td>\n",
              "      <td>1</td>\n",
              "      <td>0</td>\n",
              "      <td>0</td>\n",
              "    </tr>\n",
              "    <tr>\n",
              "      <th>45464</th>\n",
              "      <td>0</td>\n",
              "      <td>0.0</td>\n",
              "      <td>0.003503</td>\n",
              "      <td>0.0</td>\n",
              "      <td>87.0</td>\n",
              "      <td>0.0</td>\n",
              "      <td>0.0</td>\n",
              "      <td>0</td>\n",
              "      <td>1917</td>\n",
              "      <td>0</td>\n",
              "      <td>0</td>\n",
              "      <td>0</td>\n",
              "      <td>0</td>\n",
              "      <td>0</td>\n",
              "      <td>1</td>\n",
              "      <td>0</td>\n",
              "      <td>1</td>\n",
              "      <td>0</td>\n",
              "      <td>0</td>\n",
              "    </tr>\n",
              "    <tr>\n",
              "      <th>45465</th>\n",
              "      <td>0</td>\n",
              "      <td>0.0</td>\n",
              "      <td>0.163015</td>\n",
              "      <td>0.0</td>\n",
              "      <td>75.0</td>\n",
              "      <td>0.0</td>\n",
              "      <td>0.0</td>\n",
              "      <td>0</td>\n",
              "      <td>2017</td>\n",
              "      <td>0</td>\n",
              "      <td>0</td>\n",
              "      <td>0</td>\n",
              "      <td>0</td>\n",
              "      <td>0</td>\n",
              "      <td>1</td>\n",
              "      <td>0</td>\n",
              "      <td>1</td>\n",
              "      <td>0</td>\n",
              "      <td>0</td>\n",
              "    </tr>\n",
              "  </tbody>\n",
              "</table>\n",
              "<p>45463 rows × 19 columns</p>\n",
              "</div>\n",
              "      <button class=\"colab-df-convert\" onclick=\"convertToInteractive('df-2e9d16a4-188e-4a33-b159-0d70c744e2e1')\"\n",
              "              title=\"Convert this dataframe to an interactive table.\"\n",
              "              style=\"display:none;\">\n",
              "        \n",
              "  <svg xmlns=\"http://www.w3.org/2000/svg\" height=\"24px\"viewBox=\"0 0 24 24\"\n",
              "       width=\"24px\">\n",
              "    <path d=\"M0 0h24v24H0V0z\" fill=\"none\"/>\n",
              "    <path d=\"M18.56 5.44l.94 2.06.94-2.06 2.06-.94-2.06-.94-.94-2.06-.94 2.06-2.06.94zm-11 1L8.5 8.5l.94-2.06 2.06-.94-2.06-.94L8.5 2.5l-.94 2.06-2.06.94zm10 10l.94 2.06.94-2.06 2.06-.94-2.06-.94-.94-2.06-.94 2.06-2.06.94z\"/><path d=\"M17.41 7.96l-1.37-1.37c-.4-.4-.92-.59-1.43-.59-.52 0-1.04.2-1.43.59L10.3 9.45l-7.72 7.72c-.78.78-.78 2.05 0 2.83L4 21.41c.39.39.9.59 1.41.59.51 0 1.02-.2 1.41-.59l7.78-7.78 2.81-2.81c.8-.78.8-2.07 0-2.86zM5.41 20L4 18.59l7.72-7.72 1.47 1.35L5.41 20z\"/>\n",
              "  </svg>\n",
              "      </button>\n",
              "      \n",
              "  <style>\n",
              "    .colab-df-container {\n",
              "      display:flex;\n",
              "      flex-wrap:wrap;\n",
              "      gap: 12px;\n",
              "    }\n",
              "\n",
              "    .colab-df-convert {\n",
              "      background-color: #E8F0FE;\n",
              "      border: none;\n",
              "      border-radius: 50%;\n",
              "      cursor: pointer;\n",
              "      display: none;\n",
              "      fill: #1967D2;\n",
              "      height: 32px;\n",
              "      padding: 0 0 0 0;\n",
              "      width: 32px;\n",
              "    }\n",
              "\n",
              "    .colab-df-convert:hover {\n",
              "      background-color: #E2EBFA;\n",
              "      box-shadow: 0px 1px 2px rgba(60, 64, 67, 0.3), 0px 1px 3px 1px rgba(60, 64, 67, 0.15);\n",
              "      fill: #174EA6;\n",
              "    }\n",
              "\n",
              "    [theme=dark] .colab-df-convert {\n",
              "      background-color: #3B4455;\n",
              "      fill: #D2E3FC;\n",
              "    }\n",
              "\n",
              "    [theme=dark] .colab-df-convert:hover {\n",
              "      background-color: #434B5C;\n",
              "      box-shadow: 0px 1px 3px 1px rgba(0, 0, 0, 0.15);\n",
              "      filter: drop-shadow(0px 1px 2px rgba(0, 0, 0, 0.3));\n",
              "      fill: #FFFFFF;\n",
              "    }\n",
              "  </style>\n",
              "\n",
              "      <script>\n",
              "        const buttonEl =\n",
              "          document.querySelector('#df-2e9d16a4-188e-4a33-b159-0d70c744e2e1 button.colab-df-convert');\n",
              "        buttonEl.style.display =\n",
              "          google.colab.kernel.accessAllowed ? 'block' : 'none';\n",
              "\n",
              "        async function convertToInteractive(key) {\n",
              "          const element = document.querySelector('#df-2e9d16a4-188e-4a33-b159-0d70c744e2e1');\n",
              "          const dataTable =\n",
              "            await google.colab.kernel.invokeFunction('convertToInteractive',\n",
              "                                                     [key], {});\n",
              "          if (!dataTable) return;\n",
              "\n",
              "          const docLinkHtml = 'Like what you see? Visit the ' +\n",
              "            '<a target=\"_blank\" href=https://colab.research.google.com/notebooks/data_table.ipynb>data table notebook</a>'\n",
              "            + ' to learn more about interactive tables.';\n",
              "          element.innerHTML = '';\n",
              "          dataTable['output_type'] = 'display_data';\n",
              "          await google.colab.output.renderOutput(dataTable, element);\n",
              "          const docLink = document.createElement('div');\n",
              "          docLink.innerHTML = docLinkHtml;\n",
              "          element.appendChild(docLink);\n",
              "        }\n",
              "      </script>\n",
              "    </div>\n",
              "  </div>\n",
              "  "
            ]
          },
          "metadata": {},
          "execution_count": 24
        }
      ]
    },
    {
      "cell_type": "markdown",
      "source": [
        "<font color=\"purple\">\n",
        "Now all the columns are numerical as it is seen below:"
      ],
      "metadata": {
        "id": "i7Q2IZSXRapm"
      }
    },
    {
      "cell_type": "code",
      "source": [
        "df_transformed.info()"
      ],
      "metadata": {
        "execution": {
          "iopub.status.busy": "2022-01-17T21:50:49.149026Z",
          "iopub.execute_input": "2022-01-17T21:50:49.149520Z",
          "iopub.status.idle": "2022-01-17T21:50:49.165329Z",
          "shell.execute_reply.started": "2022-01-17T21:50:49.149485Z",
          "shell.execute_reply": "2022-01-17T21:50:49.164470Z"
        },
        "trusted": true,
        "colab": {
          "base_uri": "https://localhost:8080/"
        },
        "id": "makQgGlwRapm",
        "outputId": "82cb08a9-a87e-4e6f-e684-a2cc4f91efff"
      },
      "execution_count": 25,
      "outputs": [
        {
          "output_type": "stream",
          "name": "stdout",
          "text": [
            "<class 'pandas.core.frame.DataFrame'>\n",
            "Int64Index: 45463 entries, 0 to 45465\n",
            "Data columns (total 19 columns):\n",
            " #   Column                  Non-Null Count  Dtype  \n",
            "---  ------                  --------------  -----  \n",
            " 0   adult                   45463 non-null  int64  \n",
            " 1   budget                  45463 non-null  float64\n",
            " 2   popularity              45463 non-null  float64\n",
            " 3   revenue                 45463 non-null  float64\n",
            " 4   runtime                 45463 non-null  float64\n",
            " 5   vote_average            45463 non-null  float64\n",
            " 6   vote_count              45463 non-null  float64\n",
            " 7   label                   45463 non-null  int64  \n",
            " 8   release_year            45463 non-null  int64  \n",
            " 9   release_month           45463 non-null  int64  \n",
            " 10  status_Canceled         45463 non-null  uint8  \n",
            " 11  status_In Production    45463 non-null  uint8  \n",
            " 12  status_Planned          45463 non-null  uint8  \n",
            " 13  status_Post Production  45463 non-null  uint8  \n",
            " 14  status_Released         45463 non-null  uint8  \n",
            " 15  status_Rumored          45463 non-null  uint8  \n",
            " 16  video_False             45463 non-null  uint8  \n",
            " 17  video_True              45463 non-null  uint8  \n",
            " 18  video_False             45463 non-null  uint8  \n",
            "dtypes: float64(6), int64(4), uint8(9)\n",
            "memory usage: 4.2 MB\n"
          ]
        }
      ]
    },
    {
      "cell_type": "markdown",
      "source": [
        "<font color=\"purple\">\n",
        "Here we split data into training and test set."
      ],
      "metadata": {
        "id": "H_UzwQDYRapm"
      }
    },
    {
      "cell_type": "code",
      "source": [
        "X = df_transformed.drop(\"label\",axis=1)\n",
        "y = df_transformed[\"label\"]\n",
        "from sklearn.model_selection import train_test_split\n",
        "X_train, X_test, y_train,y_test=train_test_split(X,y,test_size=0.2,random_state=101)\n",
        "print(X_train.shape)\n",
        "print(X_test.shape)\n",
        "print(y_train.shape)\n",
        "print(y_test.shape)"
      ],
      "metadata": {
        "execution": {
          "iopub.status.busy": "2022-01-17T21:57:49.405240Z",
          "iopub.execute_input": "2022-01-17T21:57:49.405607Z",
          "iopub.status.idle": "2022-01-17T21:57:49.434861Z",
          "shell.execute_reply.started": "2022-01-17T21:57:49.405566Z",
          "shell.execute_reply": "2022-01-17T21:57:49.434037Z"
        },
        "trusted": true,
        "colab": {
          "base_uri": "https://localhost:8080/"
        },
        "id": "LVfUP83DRapn",
        "outputId": "3dbdcf45-65d4-41ad-d1d9-96bfd15b1d3b"
      },
      "execution_count": 26,
      "outputs": [
        {
          "output_type": "stream",
          "name": "stdout",
          "text": [
            "(36370, 18)\n",
            "(9093, 18)\n",
            "(36370,)\n",
            "(9093,)\n"
          ]
        }
      ]
    },
    {
      "cell_type": "markdown",
      "source": [
        "<font color=\"purple\">\n",
        "Here we rescale the data before applying the algorithm."
      ],
      "metadata": {
        "id": "rAk73wDHRapn"
      }
    },
    {
      "cell_type": "code",
      "source": [
        "from sklearn.preprocessing import StandardScaler\n",
        "ss = StandardScaler()\n",
        "X_train = ss.fit_transform(X_train)\n",
        "X_test = ss.transform(X_test)"
      ],
      "metadata": {
        "execution": {
          "iopub.status.busy": "2022-01-17T22:00:16.733726Z",
          "iopub.execute_input": "2022-01-17T22:00:16.734361Z",
          "iopub.status.idle": "2022-01-17T22:00:16.753564Z",
          "shell.execute_reply.started": "2022-01-17T22:00:16.734300Z",
          "shell.execute_reply": "2022-01-17T22:00:16.752654Z"
        },
        "trusted": true,
        "id": "znT8n643Rapo"
      },
      "execution_count": 27,
      "outputs": []
    },
    {
      "cell_type": "code",
      "source": [
        "from sklearn.neighbors import KNeighborsClassifier\n",
        "knn = KNeighborsClassifier(n_neighbors=1)\n",
        "knn.fit(X_train,y_train) # the algorithm fits with our data\n",
        "predictions=knn.predict(X_test)\n",
        "from sklearn.metrics import classification_report, confusion_matrix, silhouette_score\n",
        "print(confusion_matrix(y_test,predictions))\n",
        "print(\"**********************************\")\n",
        "print(silhouette_score(X_test,y_test))\n",
        "print(\"**********************************\")\n",
        "print(classification_report(y_test,predictions))"
      ],
      "metadata": {
        "execution": {
          "iopub.status.busy": "2022-01-17T22:04:54.467680Z",
          "iopub.execute_input": "2022-01-17T22:04:54.468175Z",
          "iopub.status.idle": "2022-01-17T22:05:06.073907Z",
          "shell.execute_reply.started": "2022-01-17T22:04:54.468118Z",
          "shell.execute_reply": "2022-01-17T22:05:06.072468Z"
        },
        "trusted": true,
        "colab": {
          "base_uri": "https://localhost:8080/"
        },
        "id": "iiTk5CKbRapo",
        "outputId": "cca683ca-ad2f-4d82-85a3-d5c540cf2a3c"
      },
      "execution_count": 28,
      "outputs": [
        {
          "output_type": "stream",
          "name": "stdout",
          "text": [
            "[[6368   85]\n",
            " [ 130 2510]]\n",
            "**********************************\n",
            "0.15968159062365228\n",
            "**********************************\n",
            "              precision    recall  f1-score   support\n",
            "\n",
            "           0       0.98      0.99      0.98      6453\n",
            "           1       0.97      0.95      0.96      2640\n",
            "\n",
            "    accuracy                           0.98      9093\n",
            "   macro avg       0.97      0.97      0.97      9093\n",
            "weighted avg       0.98      0.98      0.98      9093\n",
            "\n"
          ]
        }
      ]
    },
    {
      "cell_type": "markdown",
      "source": [
        "<font color=\"purple\">\n",
        "Although k=1 is very good for our predictions, we will check whether there is better k value or not"
      ],
      "metadata": {
        "id": "sC2dLmMcRapp"
      }
    },
    {
      "cell_type": "code",
      "source": [
        "error_rate=list()\n",
        "#here we iterate meny different k values and plot their error rates \n",
        "#and discover which one is better than others and has the lowest error rate\n",
        "for i in range(1,40):\n",
        "    knn=KNeighborsClassifier(n_neighbors=i)\n",
        "    knn.fit(X_train,y_train)\n",
        "    prediction_i=knn.predict(X_test)\n",
        "    error_rate.append(np.mean(prediction_i != y_test))\n",
        "# Now we will plot the prediction error rates of different k values\n",
        "plt.figure(figsize=(15,10))\n",
        "plt.plot(range(1,40),error_rate, color=\"blue\", linestyle=\"--\",marker=\"o\",markerfacecolor=\"red\",markersize=10)\n",
        "plt.title(\"Error Rate vs K Value\")\n",
        "plt.xlabel=\"K Value\"\n",
        "plt.ylabel(\"Error Rate\")"
      ],
      "metadata": {
        "execution": {
          "iopub.status.busy": "2022-01-17T22:05:54.489694Z",
          "iopub.execute_input": "2022-01-17T22:05:54.490126Z",
          "iopub.status.idle": "2022-01-17T22:13:20.748382Z",
          "shell.execute_reply.started": "2022-01-17T22:05:54.490090Z",
          "shell.execute_reply": "2022-01-17T22:13:20.747338Z"
        },
        "trusted": true,
        "colab": {
          "base_uri": "https://localhost:8080/",
          "height": 625
        },
        "id": "VMQNg13mRapp",
        "outputId": "39f13f80-5439-4b91-ce75-dc987a1e50f0"
      },
      "execution_count": 30,
      "outputs": [
        {
          "output_type": "execute_result",
          "data": {
            "text/plain": [
              "Text(0, 0.5, 'Error Rate')"
            ]
          },
          "metadata": {},
          "execution_count": 30
        },
        {
          "output_type": "display_data",
          "data": {
            "text/plain": [
              "<Figure size 1080x720 with 1 Axes>"
            ],
            "image/png": "[encoded data removed]"
          },
          "metadata": {
            "needs_background": "light"
          }
        }
      ]
    },
    {
      "cell_type": "markdown",
      "source": [
        "<font color=\"purple\">\n",
        "According to figure,  k = 7 value give the lowest error rate. Now we will choose k=7 and evaluate its performance again"
      ],
      "metadata": {
        "id": "oxRpd1b_Rapq"
      }
    },
    {
      "cell_type": "code",
      "source": [
        "knn=KNeighborsClassifier(n_neighbors=7)\n",
        "knn.fit(X_train, y_train)\n",
        "predictions=knn.predict(X_test)\n",
        "print(confusion_matrix(y_test,predictions))\n",
        "print(\"**********************************\")\n",
        "print(silhouette_score(X_test,y_test))\n",
        "print(\"**********************************\")\n",
        "print(classification_report(y_test,predictions))"
      ],
      "metadata": {
        "execution": {
          "iopub.status.busy": "2022-01-17T22:16:18.976361Z",
          "iopub.execute_input": "2022-01-17T22:16:18.976707Z",
          "iopub.status.idle": "2022-01-17T22:16:31.223471Z",
          "shell.execute_reply.started": "2022-01-17T22:16:18.976672Z",
          "shell.execute_reply": "2022-01-17T22:16:31.222267Z"
        },
        "trusted": true,
        "colab": {
          "base_uri": "https://localhost:8080/"
        },
        "id": "DruWhkPRRapr",
        "outputId": "3f44cbf8-f23b-4cc6-96ac-0a1f281e9e2e"
      },
      "execution_count": 31,
      "outputs": [
        {
          "output_type": "stream",
          "name": "stdout",
          "text": [
            "[[6408   45]\n",
            " [ 138 2502]]\n",
            "**********************************\n",
            "0.15968159062365228\n",
            "**********************************\n",
            "              precision    recall  f1-score   support\n",
            "\n",
            "           0       0.98      0.99      0.99      6453\n",
            "           1       0.98      0.95      0.96      2640\n",
            "\n",
            "    accuracy                           0.98      9093\n",
            "   macro avg       0.98      0.97      0.98      9093\n",
            "weighted avg       0.98      0.98      0.98      9093\n",
            "\n"
          ]
        }
      ]
    },
    {
      "cell_type": "markdown",
      "source": [
        "<font color=\"purple\">\n",
        "Now, with new k value, the algorithm has % 98 accuracy and the confusion matrix results are also better than before"
      ],
      "metadata": {
        "id": "b_vuOWZPRapr"
      }
    }
  ]
}
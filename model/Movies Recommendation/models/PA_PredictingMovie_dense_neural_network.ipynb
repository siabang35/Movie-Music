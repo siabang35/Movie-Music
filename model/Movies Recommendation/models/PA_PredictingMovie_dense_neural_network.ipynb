{
  "cells": [
    {
      "metadata": {
        "id": "zl7KBdH2Y26n"
      },
      "cell_type": "markdown",
      "source": [
        "# Movie Data Set\n",
        "\n",
        "This dataset is derived from Kaggle \"The Movies Dataset\".I'll be working with \"movies_metadata\", the metadata for over 45,000 movies listed in the Full MovieLens Dataset. The dataset consists of movies released on or before July 2017. Data points include budget, revenue, release dates, languages, production companies, countries, TMDB vote counts and vote averages, etc.\n",
        "\n",
        "Through data information, I can see that the original dataset has 45466 entries, and 24 total columns. Most of columns are object value which cannot be directly feed into neural networks. So I am going to process them and change into numeric variables."
      ]
    },
    {
      "metadata": {
        "id": "tqru3dKmY26y"
      },
      "cell_type": "markdown",
      "source": [
        "# Overview\n",
        "\n",
        "* 1) Data Preparation\n",
        "\n",
        "* 2) Exploratory Data Analysis\n",
        "\n",
        "* 3) Data Wrangling\n",
        "\n",
        "* 4) Modeling\n",
        "\n",
        "* 4-1) Baseline Model: Logistic Regression\n",
        "\n",
        "* 4-2) Deep Learning Model #1: Dense Neural Network (without dropout)\n",
        "\n",
        "* 4-3) Deep Learning Model #2: Dense Neural Network (with dropout)\n",
        "\n",
        "* 4-4) Deep Learning Model #3: Dense Neural Network (with dropout but with different layers)\n",
        "\n",
        "* Permutation Feature Importance for Neural Network\n",
        "\n",
        "* Results\n",
        "\n",
        "* Conclusion"
      ]
    },
    {
      "metadata": {
        "id": "Ei16J4twY260"
      },
      "cell_type": "markdown",
      "source": [
        "# Data Gathering and Description\n",
        "\n",
        "In this part, I'll set up the environment, import modules, read the data, and explore our data. Through the data processing, I'll change data types to fit models, handle missing values, and detect any outliers. After that, I'll wrangle the data, split data into X and y, and do some scalling preparing for modeling."
      ]
    },
    {
      "metadata": {
        "id": "0XC9F91aY261"
      },
      "cell_type": "markdown",
      "source": [
        "Below are columns of the datasaet:\n",
        "\n",
        "* adult - Belongs to adult movies or not\n",
        "* belongs_to_collection - Belong to movie collections or not\n",
        "* budget - The budget of a movie. Some movies don't have this, it appears as 0\n",
        "* genres - Main genre of the movie\n",
        "* homepage - The website where can see the movie\n",
        "* id - Identifier column\n",
        "* imdb_id - Movies id on IMDB\n",
        "* original_language - Original language of film\n",
        "* original_title - Original title of film\n",
        "* overview - Movie content overview\n",
        "* popularity - shows weather it is popular\n",
        "* poster_path - jpg. path of the movie poster\n",
        "* production_companies - The production company\n",
        "* production_countries - Country of origin\n",
        "* release_date - Release date (YYYY-MM-DD)\n",
        "* revenue - The revenue of a movie. Some movies don't have this, it appears as 0\n",
        "* runtime - Duration of the movie\n",
        "* spoken_languages - Languages spoken throughout the film\n",
        "* status - Release or others\n",
        "* tagline - Movie tagline to advertise\n",
        "* title - English title\n",
        "* video - True of False\n",
        "* vote_average - TMDB vote average\n",
        "* vote_count - TMDB vote count"
      ]
    },
    {
      "metadata": {
        "trusted": true,
        "id": "CBABG5JIY265"
      },
      "cell_type": "code",
      "source": [
        "# for reading data\n",
        "import pandas as pd\n",
        "import numpy as np\n",
        "import seaborn as sns\n",
        "import scipy.stats as stat\n",
        "import matplotlib.pyplot as plt \n",
        "%matplotlib inline\n",
        "from scipy import stats\n",
        "from sklearn.preprocessing import LabelEncoder\n",
        "from sklearn.preprocessing import MinMaxScaler\n",
        "from keras.wrappers.scikit_learn import KerasClassifier\n",
        "from keras.utils import np_utils\n",
        "\n",
        "# For data splitting\n",
        "from sklearn.model_selection import train_test_split\n",
        "\n",
        "# import other functions we'll need for regression modeling\n",
        "from sklearn.linear_model import LogisticRegression # LR\n",
        "from sklearn.tree import DecisionTreeRegressor # DTR\n",
        "from sklearn.ensemble import RandomForestRegressor # RFR\n",
        "from sklearn.ensemble import GradientBoostingRegressor #GBR\n",
        "\n",
        "# regression error metrics\n",
        "from sklearn.metrics import mean_absolute_error\n",
        "from sklearn.metrics import mean_squared_error\n",
        "from sklearn.metrics import r2_score\n",
        "# classification error metrics\n",
        "from sklearn.metrics import confusion_matrix\n",
        "from sklearn.metrics import classification_report\n",
        "\n",
        "# for modeling\n",
        "from keras import models\n",
        "from keras import layers\n",
        "from keras.models import Sequential\n",
        "from keras.layers import Dense, Dropout\n",
        "from keras.callbacks import EarlyStopping\n",
        "from keras import regularizers"
      ],
      "execution_count": 107,
      "outputs": []
    },
    {
      "cell_type": "code",
      "source": [
        "from google.colab import drive\n",
        "drive.mount('/content/drive')"
      ],
      "metadata": {
        "colab": {
          "base_uri": "https://localhost:8080/"
        },
        "id": "9GXeH3SWY-gJ",
        "outputId": "b2e3665b-2b26-4da4-a8ce-20b86d6e78ef"
      },
      "execution_count": 108,
      "outputs": [
        {
          "output_type": "stream",
          "name": "stdout",
          "text": [
            "Drive already mounted at /content/drive; to attempt to forcibly remount, call drive.mount(\"/content/drive\", force_remount=True).\n"
          ]
        }
      ]
    },
    {
      "metadata": {
        "trusted": true,
        "colab": {
          "base_uri": "https://localhost:8080/"
        },
        "id": "-3IyQYVhY27A",
        "outputId": "865e768a-49f9-48e7-edd2-4a3a7dc25eeb"
      },
      "cell_type": "code",
      "source": [
        "df = pd.read_csv(\"/content/drive/MyDrive/Multi-modal-movie-genre-prediction-master/data/movies_metadata.csv\")"
      ],
      "execution_count": 109,
      "outputs": [
        {
          "output_type": "stream",
          "name": "stderr",
          "text": [
            "/usr/local/lib/python3.7/dist-packages/IPython/core/interactiveshell.py:3326: DtypeWarning: Columns (10) have mixed types.Specify dtype option on import or set low_memory=False.\n",
            "  exec(code_obj, self.user_global_ns, self.user_ns)\n"
          ]
        }
      ]
    },
    {
      "metadata": {
        "id": "cNLdegpTY27D"
      },
      "cell_type": "markdown",
      "source": [
        "# 1) Head, Shape, Column names, data types, missing values, Outliers"
      ]
    },
    {
      "metadata": {
        "trusted": true,
        "colab": {
          "base_uri": "https://localhost:8080/"
        },
        "id": "Iuu20bILY27F",
        "outputId": "be277bb3-bc09-4794-9704-8280a0bc325c"
      },
      "cell_type": "code",
      "source": [
        "#Summary of original dataset\n",
        "df.info()"
      ],
      "execution_count": 110,
      "outputs": [
        {
          "output_type": "stream",
          "name": "stdout",
          "text": [
            "<class 'pandas.core.frame.DataFrame'>\n",
            "RangeIndex: 45466 entries, 0 to 45465\n",
            "Data columns (total 24 columns):\n",
            " #   Column                 Non-Null Count  Dtype  \n",
            "---  ------                 --------------  -----  \n",
            " 0   adult                  45466 non-null  object \n",
            " 1   belongs_to_collection  4494 non-null   object \n",
            " 2   budget                 45466 non-null  object \n",
            " 3   genres                 45466 non-null  object \n",
            " 4   homepage               7782 non-null   object \n",
            " 5   id                     45466 non-null  object \n",
            " 6   imdb_id                45449 non-null  object \n",
            " 7   original_language      45455 non-null  object \n",
            " 8   original_title         45466 non-null  object \n",
            " 9   overview               44512 non-null  object \n",
            " 10  popularity             45461 non-null  object \n",
            " 11  poster_path            45080 non-null  object \n",
            " 12  production_companies   45463 non-null  object \n",
            " 13  production_countries   45463 non-null  object \n",
            " 14  release_date           45379 non-null  object \n",
            " 15  revenue                45460 non-null  float64\n",
            " 16  runtime                45203 non-null  float64\n",
            " 17  spoken_languages       45460 non-null  object \n",
            " 18  status                 45379 non-null  object \n",
            " 19  tagline                20412 non-null  object \n",
            " 20  title                  45460 non-null  object \n",
            " 21  video                  45460 non-null  object \n",
            " 22  vote_average           45460 non-null  float64\n",
            " 23  vote_count             45460 non-null  float64\n",
            "dtypes: float64(4), object(20)\n",
            "memory usage: 8.3+ MB\n"
          ]
        }
      ]
    },
    {
      "metadata": {
        "trusted": true,
        "colab": {
          "base_uri": "https://localhost:8080/"
        },
        "id": "z7CxK60NY27I",
        "outputId": "99faed6d-4973-4a5d-b86f-81e9b074d0d3"
      },
      "cell_type": "code",
      "source": [
        "#Shape of original dataset\n",
        "df.shape"
      ],
      "execution_count": 111,
      "outputs": [
        {
          "output_type": "execute_result",
          "data": {
            "text/plain": [
              "(45466, 24)"
            ]
          },
          "metadata": {},
          "execution_count": 111
        }
      ]
    },
    {
      "metadata": {
        "id": "2fLoXULNY27K"
      },
      "cell_type": "markdown",
      "source": [
        "There are a total of 45,466 movies with 24 features. Most of the features have very few NaN values (apart from homepage and tagline). I will attempt at cleaning this dataset to a form suitable for analysis in the next section."
      ]
    },
    {
      "metadata": {
        "trusted": true,
        "colab": {
          "base_uri": "https://localhost:8080/",
          "height": 750
        },
        "id": "tsTpGbcGY27L",
        "outputId": "ffe5b892-2320-4794-a7a8-500228536092"
      },
      "cell_type": "code",
      "source": [
        "#Let's look into first few rows of the dataset to check the content of each column\n",
        "df.head()"
      ],
      "execution_count": 112,
      "outputs": [
        {
          "output_type": "execute_result",
          "data": {
            "text/plain": [
              "   adult                              belongs_to_collection    budget  \\\n",
              "0  False  {'id': 10194, 'name': 'Toy Story Collection', ...  30000000   \n",
              "1  False                                                NaN  65000000   \n",
              "2  False  {'id': 119050, 'name': 'Grumpy Old Men Collect...         0   \n",
              "3  False                                                NaN  16000000   \n",
              "4  False  {'id': 96871, 'name': 'Father of the Bride Col...         0   \n",
              "\n",
              "                                              genres  \\\n",
              "0  [{'id': 16, 'name': 'Animation'}, {'id': 35, '...   \n",
              "1  [{'id': 12, 'name': 'Adventure'}, {'id': 14, '...   \n",
              "2  [{'id': 10749, 'name': 'Romance'}, {'id': 35, ...   \n",
              "3  [{'id': 35, 'name': 'Comedy'}, {'id': 18, 'nam...   \n",
              "4                     [{'id': 35, 'name': 'Comedy'}]   \n",
              "\n",
              "                               homepage     id    imdb_id original_language  \\\n",
              "0  http://toystory.disney.com/toy-story    862  tt0114709                en   \n",
              "1                                   NaN   8844  tt0113497                en   \n",
              "2                                   NaN  15602  tt0113228                en   \n",
              "3                                   NaN  31357  tt0114885                en   \n",
              "4                                   NaN  11862  tt0113041                en   \n",
              "\n",
              "                original_title  \\\n",
              "0                    Toy Story   \n",
              "1                      Jumanji   \n",
              "2             Grumpier Old Men   \n",
              "3            Waiting to Exhale   \n",
              "4  Father of the Bride Part II   \n",
              "\n",
              "                                            overview  ... release_date  \\\n",
              "0  Led by Woody, Andy's toys live happily in his ...  ...   1995-10-30   \n",
              "1  When siblings Judy and Peter discover an encha...  ...   1995-12-15   \n",
              "2  A family wedding reignites the ancient feud be...  ...   1995-12-22   \n",
              "3  Cheated on, mistreated and stepped on, the wom...  ...   1995-12-22   \n",
              "4  Just when George Banks has recovered from his ...  ...   1995-02-10   \n",
              "\n",
              "       revenue runtime                                   spoken_languages  \\\n",
              "0  373554033.0    81.0           [{'iso_639_1': 'en', 'name': 'English'}]   \n",
              "1  262797249.0   104.0  [{'iso_639_1': 'en', 'name': 'English'}, {'iso...   \n",
              "2          0.0   101.0           [{'iso_639_1': 'en', 'name': 'English'}]   \n",
              "3   81452156.0   127.0           [{'iso_639_1': 'en', 'name': 'English'}]   \n",
              "4   76578911.0   106.0           [{'iso_639_1': 'en', 'name': 'English'}]   \n",
              "\n",
              "     status                                            tagline  \\\n",
              "0  Released                                                NaN   \n",
              "1  Released          Roll the dice and unleash the excitement!   \n",
              "2  Released  Still Yelling. Still Fighting. Still Ready for...   \n",
              "3  Released  Friends are the people who let you be yourself...   \n",
              "4  Released  Just When His World Is Back To Normal... He's ...   \n",
              "\n",
              "                         title  video vote_average vote_count  \n",
              "0                    Toy Story  False          7.7     5415.0  \n",
              "1                      Jumanji  False          6.9     2413.0  \n",
              "2             Grumpier Old Men  False          6.5       92.0  \n",
              "3            Waiting to Exhale  False          6.1       34.0  \n",
              "4  Father of the Bride Part II  False          5.7      173.0  \n",
              "\n",
              "[5 rows x 24 columns]"
            ],
            "text/html": [
              "\n",
              "  <div id=\"df-af40b80f-44a4-4465-8c23-ed7865382e7b\">\n",
              "    <div class=\"colab-df-container\">\n",
              "      <div>\n",
              "<style scoped>\n",
              "    .dataframe tbody tr th:only-of-type {\n",
              "        vertical-align: middle;\n",
              "    }\n",
              "\n",
              "    .dataframe tbody tr th {\n",
              "        vertical-align: top;\n",
              "    }\n",
              "\n",
              "    .dataframe thead th {\n",
              "        text-align: right;\n",
              "    }\n",
              "</style>\n",
              "<table border=\"1\" class=\"dataframe\">\n",
              "  <thead>\n",
              "    <tr style=\"text-align: right;\">\n",
              "      <th></th>\n",
              "      <th>adult</th>\n",
              "      <th>belongs_to_collection</th>\n",
              "      <th>budget</th>\n",
              "      <th>genres</th>\n",
              "      <th>homepage</th>\n",
              "      <th>id</th>\n",
              "      <th>imdb_id</th>\n",
              "      <th>original_language</th>\n",
              "      <th>original_title</th>\n",
              "      <th>overview</th>\n",
              "      <th>...</th>\n",
              "      <th>release_date</th>\n",
              "      <th>revenue</th>\n",
              "      <th>runtime</th>\n",
              "      <th>spoken_languages</th>\n",
              "      <th>status</th>\n",
              "      <th>tagline</th>\n",
              "      <th>title</th>\n",
              "      <th>video</th>\n",
              "      <th>vote_average</th>\n",
              "      <th>vote_count</th>\n",
              "    </tr>\n",
              "  </thead>\n",
              "  <tbody>\n",
              "    <tr>\n",
              "      <th>0</th>\n",
              "      <td>False</td>\n",
              "      <td>{'id': 10194, 'name': 'Toy Story Collection', ...</td>\n",
              "      <td>30000000</td>\n",
              "      <td>[{'id': 16, 'name': 'Animation'}, {'id': 35, '...</td>\n",
              "      <td>http://toystory.disney.com/toy-story</td>\n",
              "      <td>862</td>\n",
              "      <td>tt0114709</td>\n",
              "      <td>en</td>\n",
              "      <td>Toy Story</td>\n",
              "      <td>Led by Woody, Andy's toys live happily in his ...</td>\n",
              "      <td>...</td>\n",
              "      <td>1995-10-30</td>\n",
              "      <td>373554033.0</td>\n",
              "      <td>81.0</td>\n",
              "      <td>[{'iso_639_1': 'en', 'name': 'English'}]</td>\n",
              "      <td>Released</td>\n",
              "      <td>NaN</td>\n",
              "      <td>Toy Story</td>\n",
              "      <td>False</td>\n",
              "      <td>7.7</td>\n",
              "      <td>5415.0</td>\n",
              "    </tr>\n",
              "    <tr>\n",
              "      <th>1</th>\n",
              "      <td>False</td>\n",
              "      <td>NaN</td>\n",
              "      <td>65000000</td>\n",
              "      <td>[{'id': 12, 'name': 'Adventure'}, {'id': 14, '...</td>\n",
              "      <td>NaN</td>\n",
              "      <td>8844</td>\n",
              "      <td>tt0113497</td>\n",
              "      <td>en</td>\n",
              "      <td>Jumanji</td>\n",
              "      <td>When siblings Judy and Peter discover an encha...</td>\n",
              "      <td>...</td>\n",
              "      <td>1995-12-15</td>\n",
              "      <td>262797249.0</td>\n",
              "      <td>104.0</td>\n",
              "      <td>[{'iso_639_1': 'en', 'name': 'English'}, {'iso...</td>\n",
              "      <td>Released</td>\n",
              "      <td>Roll the dice and unleash the excitement!</td>\n",
              "      <td>Jumanji</td>\n",
              "      <td>False</td>\n",
              "      <td>6.9</td>\n",
              "      <td>2413.0</td>\n",
              "    </tr>\n",
              "    <tr>\n",
              "      <th>2</th>\n",
              "      <td>False</td>\n",
              "      <td>{'id': 119050, 'name': 'Grumpy Old Men Collect...</td>\n",
              "      <td>0</td>\n",
              "      <td>[{'id': 10749, 'name': 'Romance'}, {'id': 35, ...</td>\n",
              "      <td>NaN</td>\n",
              "      <td>15602</td>\n",
              "      <td>tt0113228</td>\n",
              "      <td>en</td>\n",
              "      <td>Grumpier Old Men</td>\n",
              "      <td>A family wedding reignites the ancient feud be...</td>\n",
              "      <td>...</td>\n",
              "      <td>1995-12-22</td>\n",
              "      <td>0.0</td>\n",
              "      <td>101.0</td>\n",
              "      <td>[{'iso_639_1': 'en', 'name': 'English'}]</td>\n",
              "      <td>Released</td>\n",
              "      <td>Still Yelling. Still Fighting. Still Ready for...</td>\n",
              "      <td>Grumpier Old Men</td>\n",
              "      <td>False</td>\n",
              "      <td>6.5</td>\n",
              "      <td>92.0</td>\n",
              "    </tr>\n",
              "    <tr>\n",
              "      <th>3</th>\n",
              "      <td>False</td>\n",
              "      <td>NaN</td>\n",
              "      <td>16000000</td>\n",
              "      <td>[{'id': 35, 'name': 'Comedy'}, {'id': 18, 'nam...</td>\n",
              "      <td>NaN</td>\n",
              "      <td>31357</td>\n",
              "      <td>tt0114885</td>\n",
              "      <td>en</td>\n",
              "      <td>Waiting to Exhale</td>\n",
              "      <td>Cheated on, mistreated and stepped on, the wom...</td>\n",
              "      <td>...</td>\n",
              "      <td>1995-12-22</td>\n",
              "      <td>81452156.0</td>\n",
              "      <td>127.0</td>\n",
              "      <td>[{'iso_639_1': 'en', 'name': 'English'}]</td>\n",
              "      <td>Released</td>\n",
              "      <td>Friends are the people who let you be yourself...</td>\n",
              "      <td>Waiting to Exhale</td>\n",
              "      <td>False</td>\n",
              "      <td>6.1</td>\n",
              "      <td>34.0</td>\n",
              "    </tr>\n",
              "    <tr>\n",
              "      <th>4</th>\n",
              "      <td>False</td>\n",
              "      <td>{'id': 96871, 'name': 'Father of the Bride Col...</td>\n",
              "      <td>0</td>\n",
              "      <td>[{'id': 35, 'name': 'Comedy'}]</td>\n",
              "      <td>NaN</td>\n",
              "      <td>11862</td>\n",
              "      <td>tt0113041</td>\n",
              "      <td>en</td>\n",
              "      <td>Father of the Bride Part II</td>\n",
              "      <td>Just when George Banks has recovered from his ...</td>\n",
              "      <td>...</td>\n",
              "      <td>1995-02-10</td>\n",
              "      <td>76578911.0</td>\n",
              "      <td>106.0</td>\n",
              "      <td>[{'iso_639_1': 'en', 'name': 'English'}]</td>\n",
              "      <td>Released</td>\n",
              "      <td>Just When His World Is Back To Normal... He's ...</td>\n",
              "      <td>Father of the Bride Part II</td>\n",
              "      <td>False</td>\n",
              "      <td>5.7</td>\n",
              "      <td>173.0</td>\n",
              "    </tr>\n",
              "  </tbody>\n",
              "</table>\n",
              "<p>5 rows × 24 columns</p>\n",
              "</div>\n",
              "      <button class=\"colab-df-convert\" onclick=\"convertToInteractive('df-af40b80f-44a4-4465-8c23-ed7865382e7b')\"\n",
              "              title=\"Convert this dataframe to an interactive table.\"\n",
              "              style=\"display:none;\">\n",
              "        \n",
              "  <svg xmlns=\"http://www.w3.org/2000/svg\" height=\"24px\"viewBox=\"0 0 24 24\"\n",
              "       width=\"24px\">\n",
              "    <path d=\"M0 0h24v24H0V0z\" fill=\"none\"/>\n",
              "    <path d=\"M18.56 5.44l.94 2.06.94-2.06 2.06-.94-2.06-.94-.94-2.06-.94 2.06-2.06.94zm-11 1L8.5 8.5l.94-2.06 2.06-.94-2.06-.94L8.5 2.5l-.94 2.06-2.06.94zm10 10l.94 2.06.94-2.06 2.06-.94-2.06-.94-.94-2.06-.94 2.06-2.06.94z\"/><path d=\"M17.41 7.96l-1.37-1.37c-.4-.4-.92-.59-1.43-.59-.52 0-1.04.2-1.43.59L10.3 9.45l-7.72 7.72c-.78.78-.78 2.05 0 2.83L4 21.41c.39.39.9.59 1.41.59.51 0 1.02-.2 1.41-.59l7.78-7.78 2.81-2.81c.8-.78.8-2.07 0-2.86zM5.41 20L4 18.59l7.72-7.72 1.47 1.35L5.41 20z\"/>\n",
              "  </svg>\n",
              "      </button>\n",
              "      \n",
              "  <style>\n",
              "    .colab-df-container {\n",
              "      display:flex;\n",
              "      flex-wrap:wrap;\n",
              "      gap: 12px;\n",
              "    }\n",
              "\n",
              "    .colab-df-convert {\n",
              "      background-color: #E8F0FE;\n",
              "      border: none;\n",
              "      border-radius: 50%;\n",
              "      cursor: pointer;\n",
              "      display: none;\n",
              "      fill: #1967D2;\n",
              "      height: 32px;\n",
              "      padding: 0 0 0 0;\n",
              "      width: 32px;\n",
              "    }\n",
              "\n",
              "    .colab-df-convert:hover {\n",
              "      background-color: #E2EBFA;\n",
              "      box-shadow: 0px 1px 2px rgba(60, 64, 67, 0.3), 0px 1px 3px 1px rgba(60, 64, 67, 0.15);\n",
              "      fill: #174EA6;\n",
              "    }\n",
              "\n",
              "    [theme=dark] .colab-df-convert {\n",
              "      background-color: #3B4455;\n",
              "      fill: #D2E3FC;\n",
              "    }\n",
              "\n",
              "    [theme=dark] .colab-df-convert:hover {\n",
              "      background-color: #434B5C;\n",
              "      box-shadow: 0px 1px 3px 1px rgba(0, 0, 0, 0.15);\n",
              "      filter: drop-shadow(0px 1px 2px rgba(0, 0, 0, 0.3));\n",
              "      fill: #FFFFFF;\n",
              "    }\n",
              "  </style>\n",
              "\n",
              "      <script>\n",
              "        const buttonEl =\n",
              "          document.querySelector('#df-af40b80f-44a4-4465-8c23-ed7865382e7b button.colab-df-convert');\n",
              "        buttonEl.style.display =\n",
              "          google.colab.kernel.accessAllowed ? 'block' : 'none';\n",
              "\n",
              "        async function convertToInteractive(key) {\n",
              "          const element = document.querySelector('#df-af40b80f-44a4-4465-8c23-ed7865382e7b');\n",
              "          const dataTable =\n",
              "            await google.colab.kernel.invokeFunction('convertToInteractive',\n",
              "                                                     [key], {});\n",
              "          if (!dataTable) return;\n",
              "\n",
              "          const docLinkHtml = 'Like what you see? Visit the ' +\n",
              "            '<a target=\"_blank\" href=https://colab.research.google.com/notebooks/data_table.ipynb>data table notebook</a>'\n",
              "            + ' to learn more about interactive tables.';\n",
              "          element.innerHTML = '';\n",
              "          dataTable['output_type'] = 'display_data';\n",
              "          await google.colab.output.renderOutput(dataTable, element);\n",
              "          const docLink = document.createElement('div');\n",
              "          docLink.innerHTML = docLinkHtml;\n",
              "          element.appendChild(docLink);\n",
              "        }\n",
              "      </script>\n",
              "    </div>\n",
              "  </div>\n",
              "  "
            ]
          },
          "metadata": {},
          "execution_count": 112
        }
      ]
    },
    {
      "metadata": {
        "id": "5ADRiuEgY27M"
      },
      "cell_type": "markdown",
      "source": [
        "# 2) Data Wrangling"
      ]
    },
    {
      "metadata": {
        "trusted": true,
        "colab": {
          "base_uri": "https://localhost:8080/"
        },
        "id": "kGkFHxSYY27N",
        "outputId": "35c25b1d-59d5-4d55-ee61-2da6724c2f9e"
      },
      "cell_type": "code",
      "source": [
        "# As I will be concentrating on nuerical columns let's delete the text columns, which I donot need for solving the business problem\n",
        "df.drop(['id','belongs_to_collection', 'homepage', 'imdb_id', 'original_language', 'original_title', 'overview', 'poster_path', 'production_companies', 'production_countries', 'runtime', 'release_date', 'spoken_languages', 'status', 'tagline', 'title', 'video'], axis=1, inplace=True)\n",
        "df.info()"
      ],
      "execution_count": 113,
      "outputs": [
        {
          "output_type": "stream",
          "name": "stdout",
          "text": [
            "<class 'pandas.core.frame.DataFrame'>\n",
            "RangeIndex: 45466 entries, 0 to 45465\n",
            "Data columns (total 7 columns):\n",
            " #   Column        Non-Null Count  Dtype  \n",
            "---  ------        --------------  -----  \n",
            " 0   adult         45466 non-null  object \n",
            " 1   budget        45466 non-null  object \n",
            " 2   genres        45466 non-null  object \n",
            " 3   popularity    45461 non-null  object \n",
            " 4   revenue       45460 non-null  float64\n",
            " 5   vote_average  45460 non-null  float64\n",
            " 6   vote_count    45460 non-null  float64\n",
            "dtypes: float64(3), object(4)\n",
            "memory usage: 2.4+ MB\n"
          ]
        }
      ]
    },
    {
      "metadata": {
        "trusted": true,
        "colab": {
          "base_uri": "https://localhost:8080/"
        },
        "id": "70MD76TTY27P",
        "outputId": "986ef368-d7c9-43a6-b924-6ae76f6d1354"
      },
      "cell_type": "code",
      "source": [
        "df[df['revenue'] == 0].shape"
      ],
      "execution_count": 114,
      "outputs": [
        {
          "output_type": "execute_result",
          "data": {
            "text/plain": [
              "(38052, 7)"
            ]
          },
          "metadata": {},
          "execution_count": 114
        }
      ]
    },
    {
      "metadata": {
        "id": "0iUC-rElY27Q"
      },
      "cell_type": "markdown",
      "source": [
        "I see that the majority of the movies have a recorded revenue of 0. This indicates that I do not have information about the total revenue for these movies. Although this forms the majority of the movies available to us, I will still use revenue as an extremely important feature going forward from the remaining 7000 movies."
      ]
    },
    {
      "metadata": {
        "trusted": true,
        "id": "59YJ5BhYY27R"
      },
      "cell_type": "code",
      "source": [
        "df['revenue'] = df['revenue'].replace(0, np.nan)"
      ],
      "execution_count": 115,
      "outputs": []
    },
    {
      "metadata": {
        "id": "vLMaX32sY27R"
      },
      "cell_type": "markdown",
      "source": [
        "The budget feature has some unclean values that makes Pandas assign it as a generic object. I proceed to convert this into a numeric variable and replace all the non-numeric values with NaN. Finally, as with budget, I will convert all the values of 0 with NaN to indicate the absence of information regarding budget."
      ]
    },
    {
      "metadata": {
        "trusted": true,
        "colab": {
          "base_uri": "https://localhost:8080/"
        },
        "id": "8F4LJN_oY27S",
        "outputId": "6908ee1a-371a-42f4-eef6-4ee39d6c484b"
      },
      "cell_type": "code",
      "source": [
        "df['budget'] = pd.to_numeric(df['budget'], errors='coerce')\n",
        "df['budget'] = df['budget'].replace(0, np.nan)\n",
        "df[df['budget'].isnull()].shape"
      ],
      "execution_count": 116,
      "outputs": [
        {
          "output_type": "execute_result",
          "data": {
            "text/plain": [
              "(36576, 7)"
            ]
          },
          "metadata": {},
          "execution_count": 116
        }
      ]
    },
    {
      "metadata": {
        "id": "ewIBu2OVY27T"
      },
      "cell_type": "markdown",
      "source": [
        "I will create a return feature that will help us capture a more accurate picture of the financial success of a movie. Presently, our data will not be able to judge if a 200 million dollar budget movie that earned 100 million dollar did better than a 50,000 dollars budget movie taking in 200,000 dollars. This feature will be able to capture that information.\n",
        "\n",
        "A return value > 1 would indicate profit whereas a return value < 1 would indicate a loss."
      ]
    },
    {
      "metadata": {
        "trusted": true,
        "colab": {
          "base_uri": "https://localhost:8080/"
        },
        "id": "C05ZyCV_Y27U",
        "outputId": "9dc5981b-6722-41ae-f9d6-3072552cd1d0"
      },
      "cell_type": "code",
      "source": [
        "df['return'] = df['revenue'] / df['budget']\n",
        "df[df['return'].isnull()].shape"
      ],
      "execution_count": 117,
      "outputs": [
        {
          "output_type": "execute_result",
          "data": {
            "text/plain": [
              "(40085, 8)"
            ]
          },
          "metadata": {},
          "execution_count": 117
        }
      ]
    },
    {
      "metadata": {
        "id": "Vlq-7ewYY27U"
      },
      "cell_type": "markdown",
      "source": [
        "I have close to 5000 movies for which I have data on revenue and budget ratio. This is close to 10% of the entire dataset. Although this may seem small, this is enough to perform very useful analysis and discover interesting insights about the world of movies."
      ]
    },
    {
      "metadata": {
        "trusted": true,
        "colab": {
          "base_uri": "https://localhost:8080/"
        },
        "id": "50MMdZV1Y27V",
        "outputId": "51088538-5832-4e80-f07d-4e5ac8360641"
      },
      "cell_type": "code",
      "source": [
        "df['adult'].value_counts()"
      ],
      "execution_count": 118,
      "outputs": [
        {
          "output_type": "execute_result",
          "data": {
            "text/plain": [
              "False                                                                                                                             45454\n",
              "True                                                                                                                                  9\n",
              " - Written by Ørnås                                                                                                                   1\n",
              " Rune Balot goes to a casino connected to the October corporation to try to wrap up her case once and for all.                        1\n",
              " Avalanche Sharks tells the story of a bikini contest that turns into a horrifying affair when it is hit by a shark avalanche.        1\n",
              "Name: adult, dtype: int64"
            ]
          },
          "metadata": {},
          "execution_count": 118
        }
      ]
    },
    {
      "metadata": {
        "id": "yIZY5WE3Y27W"
      },
      "cell_type": "markdown",
      "source": [
        "There are only 9 adult movies in this dataset. The adult feature therefore is not of much use to us and can be safely dropped."
      ]
    },
    {
      "metadata": {
        "trusted": true,
        "id": "kU1QzGEIY27X"
      },
      "cell_type": "code",
      "source": [
        "df = df.drop('adult', axis=1)"
      ],
      "execution_count": 119,
      "outputs": []
    },
    {
      "metadata": {
        "id": "BhvyC9BYY27Y"
      },
      "cell_type": "markdown",
      "source": [
        "Exploring Popularity, Vote Average and Vote Count"
      ]
    },
    {
      "metadata": {
        "trusted": true,
        "id": "XpSaWAIAY27Z"
      },
      "cell_type": "code",
      "source": [
        "def clean_numeric(x):\n",
        "    try:\n",
        "        return float(x)\n",
        "    except:\n",
        "        return np.nan"
      ],
      "execution_count": 120,
      "outputs": []
    },
    {
      "metadata": {
        "trusted": true,
        "id": "GM4x8IuDY27a"
      },
      "cell_type": "code",
      "source": [
        "df['popularity'] = df['popularity'].apply(clean_numeric).astype('float')\n",
        "df[\"vote_count\"] = df[\"vote_count\"].apply(clean_numeric).astype('float')\n",
        "df['vote_average'] = df['vote_average'].apply(clean_numeric).astype('float')"
      ],
      "execution_count": 121,
      "outputs": []
    },
    {
      "metadata": {
        "trusted": true,
        "colab": {
          "base_uri": "https://localhost:8080/"
        },
        "id": "grIEdQyCY27a",
        "outputId": "9266ec74-d6b3-4132-fee8-b7405cd4a9e5"
      },
      "cell_type": "code",
      "source": [
        "#Summary statistics of each feature\n",
        "df['popularity'].describe()"
      ],
      "execution_count": 122,
      "outputs": [
        {
          "output_type": "execute_result",
          "data": {
            "text/plain": [
              "count    45460.000000\n",
              "mean         2.921478\n",
              "std          6.005414\n",
              "min          0.000000\n",
              "25%          0.385948\n",
              "50%          1.127685\n",
              "75%          3.678902\n",
              "max        547.488298\n",
              "Name: popularity, dtype: float64"
            ]
          },
          "metadata": {},
          "execution_count": 122
        }
      ]
    },
    {
      "metadata": {
        "trusted": true,
        "colab": {
          "base_uri": "https://localhost:8080/",
          "height": 335
        },
        "id": "ItP6BHyPY27b",
        "outputId": "c5877447-39c5-4090-e317-5460a4220424"
      },
      "cell_type": "code",
      "source": [
        "sns.distplot(df['popularity'].fillna(df['popularity'].median()))\n",
        "plt.show()"
      ],
      "execution_count": 123,
      "outputs": [
        {
          "output_type": "stream",
          "name": "stderr",
          "text": [
            "/usr/local/lib/python3.7/dist-packages/seaborn/distributions.py:2619: FutureWarning: `distplot` is a deprecated function and will be removed in a future version. Please adapt your code to use either `displot` (a figure-level function with similar flexibility) or `histplot` (an axes-level function for histograms).\n",
            "  warnings.warn(msg, FutureWarning)\n"
          ]
        },
        {
          "output_type": "display_data",
          "data": {
            "text/plain": [
              "<Figure size 432x288 with 1 Axes>"
            ],
            "image/png": "[encoded data removed]"
          },
          "metadata": {
            "needs_background": "light"
          }
        }
      ]
    },
    {
      "metadata": {
        "_uuid": "8f2839f25d086af736a60e9eeb907d3b93b6e0e5",
        "_cell_guid": "b1076dfc-b9ad-4769-8c92-a6c4dae69d19",
        "trusted": true,
        "colab": {
          "base_uri": "https://localhost:8080/",
          "height": 283
        },
        "id": "4f-kMLnOY27c",
        "outputId": "af74af02-aacf-4c7b-ec8e-256a673d4093"
      },
      "cell_type": "code",
      "source": [
        "df['popularity'].plot(logy=True, kind='hist')"
      ],
      "execution_count": 124,
      "outputs": [
        {
          "output_type": "execute_result",
          "data": {
            "text/plain": [
              "<matplotlib.axes._subplots.AxesSubplot at 0x7f5cf8027410>"
            ]
          },
          "metadata": {},
          "execution_count": 124
        },
        {
          "output_type": "display_data",
          "data": {
            "text/plain": [
              "<Figure size 432x288 with 1 Axes>"
            ],
            "image/png": "[encoded data removed]"
          },
          "metadata": {
            "needs_background": "light"
          }
        }
      ]
    },
    {
      "metadata": {
        "id": "H8WnYsQwY27c"
      },
      "cell_type": "markdown",
      "source": [
        "The Popularity score seems to be an extremely skewed quantity with a mean of only 2.9 but maximum values reaching as high as 547, which is almost 1800% greater than the mean. However, as can be seen from the distribution plot, almost all movies have a popularity score less than 10 (the 75th percentile is at 3.678902)."
      ]
    },
    {
      "metadata": {
        "trusted": true,
        "colab": {
          "base_uri": "https://localhost:8080/"
        },
        "id": "m27JGVp7Y27d",
        "outputId": "83db2613-1062-4444-fa87-60f9208f4a02"
      },
      "cell_type": "code",
      "source": [
        "df['vote_count'].describe()"
      ],
      "execution_count": 125,
      "outputs": [
        {
          "output_type": "execute_result",
          "data": {
            "text/plain": [
              "count    45460.000000\n",
              "mean       109.897338\n",
              "std        491.310374\n",
              "min          0.000000\n",
              "25%          3.000000\n",
              "50%         10.000000\n",
              "75%         34.000000\n",
              "max      14075.000000\n",
              "Name: vote_count, dtype: float64"
            ]
          },
          "metadata": {},
          "execution_count": 125
        }
      ]
    },
    {
      "metadata": {
        "id": "zvm8XPB8Y27d"
      },
      "cell_type": "markdown",
      "source": [
        "As with popularity scores, the distribution of vote counts is extremely skewed with the median vote count standing at a paltry 10 votes. The most votes a single movie has got stands at 14,07"
      ]
    },
    {
      "metadata": {
        "trusted": true,
        "colab": {
          "base_uri": "https://localhost:8080/"
        },
        "id": "tLmSEAgbY27e",
        "outputId": "ca5b5bec-f2d4-46a3-b237-8482a6203fae"
      },
      "cell_type": "code",
      "source": [
        "df['vote_average'] = df['vote_average'].replace(0, np.nan)\n",
        "df['vote_average'].describe()"
      ],
      "execution_count": 126,
      "outputs": [
        {
          "output_type": "execute_result",
          "data": {
            "text/plain": [
              "count    42462.000000\n",
              "mean         6.014877\n",
              "std          1.256208\n",
              "min          0.500000\n",
              "25%          5.300000\n",
              "50%          6.100000\n",
              "75%          6.900000\n",
              "max         10.000000\n",
              "Name: vote_average, dtype: float64"
            ]
          },
          "metadata": {},
          "execution_count": 126
        }
      ]
    },
    {
      "metadata": {
        "_uuid": "d629ff2d2480ee46fbb7e2d37f6b5fab8052498a",
        "_cell_guid": "79c7e3d0-c299-4dcb-8224-4455121ee9b0",
        "trusted": true,
        "colab": {
          "base_uri": "https://localhost:8080/",
          "height": 355
        },
        "id": "xMIT57xAY27e",
        "outputId": "f314a591-6e43-462f-cfcd-e63765c5aeec"
      },
      "cell_type": "code",
      "source": [
        "sns.distplot(df['vote_average'].fillna(df['vote_average'].median()))"
      ],
      "execution_count": 127,
      "outputs": [
        {
          "output_type": "stream",
          "name": "stderr",
          "text": [
            "/usr/local/lib/python3.7/dist-packages/seaborn/distributions.py:2619: FutureWarning: `distplot` is a deprecated function and will be removed in a future version. Please adapt your code to use either `displot` (a figure-level function with similar flexibility) or `histplot` (an axes-level function for histograms).\n",
            "  warnings.warn(msg, FutureWarning)\n"
          ]
        },
        {
          "output_type": "execute_result",
          "data": {
            "text/plain": [
              "<matplotlib.axes._subplots.AxesSubplot at 0x7f5cf03d46d0>"
            ]
          },
          "metadata": {},
          "execution_count": 127
        },
        {
          "output_type": "display_data",
          "data": {
            "text/plain": [
              "<Figure size 432x288 with 1 Axes>"
            ],
            "image/png": "[encoded data removed]"
          },
          "metadata": {
            "needs_background": "light"
          }
        }
      ]
    },
    {
      "metadata": {
        "id": "G73k9rfoY27f"
      },
      "cell_type": "markdown",
      "source": [
        "It appears that Users in this dataset are extremely strict in their ratings. The mean rating is only a 5.6 on a scale of 10. Half the movies have a rating of less than or equal to 6"
      ]
    },
    {
      "metadata": {
        "id": "ZPIO3-eTY27g"
      },
      "cell_type": "markdown",
      "source": [
        "Let's explore budget and revenue a bit more!"
      ]
    },
    {
      "metadata": {
        "trusted": true,
        "colab": {
          "base_uri": "https://localhost:8080/"
        },
        "id": "qP9067iqY27h",
        "outputId": "1ceae660-318b-4ed2-e916-fc10222d40fd"
      },
      "cell_type": "code",
      "source": [
        "df['budget'].describe()"
      ],
      "execution_count": 128,
      "outputs": [
        {
          "output_type": "execute_result",
          "data": {
            "text/plain": [
              "count    8.890000e+03\n",
              "mean     2.160428e+07\n",
              "std      3.431063e+07\n",
              "min      1.000000e+00\n",
              "25%      2.000000e+06\n",
              "50%      8.000000e+06\n",
              "75%      2.500000e+07\n",
              "max      3.800000e+08\n",
              "Name: budget, dtype: float64"
            ]
          },
          "metadata": {},
          "execution_count": 128
        }
      ]
    },
    {
      "metadata": {
        "id": "cNaoMfABY27h"
      },
      "cell_type": "markdown",
      "source": [
        "The mean budget of a film is 21.6 million dollars whereas the median budget is far smaller at 8 million dollars. This strongly suggests the mean being influenced by outliers."
      ]
    },
    {
      "metadata": {
        "trusted": true,
        "colab": {
          "base_uri": "https://localhost:8080/",
          "height": 365
        },
        "id": "MVzP8H4WY27h",
        "outputId": "1b63db4b-ffd2-477d-8b1a-9150a2110f7e"
      },
      "cell_type": "code",
      "source": [
        "sns.distplot(df[df['budget'].notnull()]['budget'])"
      ],
      "execution_count": 129,
      "outputs": [
        {
          "output_type": "stream",
          "name": "stderr",
          "text": [
            "/usr/local/lib/python3.7/dist-packages/seaborn/distributions.py:2619: FutureWarning: `distplot` is a deprecated function and will be removed in a future version. Please adapt your code to use either `displot` (a figure-level function with similar flexibility) or `histplot` (an axes-level function for histograms).\n",
            "  warnings.warn(msg, FutureWarning)\n"
          ]
        },
        {
          "output_type": "execute_result",
          "data": {
            "text/plain": [
              "<matplotlib.axes._subplots.AxesSubplot at 0x7f5cf806b650>"
            ]
          },
          "metadata": {},
          "execution_count": 129
        },
        {
          "output_type": "display_data",
          "data": {
            "text/plain": [
              "<Figure size 432x288 with 1 Axes>"
            ],
            "image/png": "[encoded data removed]"
          },
          "metadata": {
            "needs_background": "light"
          }
        }
      ]
    },
    {
      "metadata": {
        "trusted": true,
        "colab": {
          "base_uri": "https://localhost:8080/",
          "height": 299
        },
        "id": "2NCTAkAkY27i",
        "outputId": "eb2e3a31-0607-4adf-c199-506ff461ad69"
      },
      "cell_type": "code",
      "source": [
        "df['budget'].plot(logy=True, kind='hist')"
      ],
      "execution_count": 130,
      "outputs": [
        {
          "output_type": "execute_result",
          "data": {
            "text/plain": [
              "<matplotlib.axes._subplots.AxesSubplot at 0x7f5cfcff4c50>"
            ]
          },
          "metadata": {},
          "execution_count": 130
        },
        {
          "output_type": "display_data",
          "data": {
            "text/plain": [
              "<Figure size 432x288 with 1 Axes>"
            ],
            "image/png": "[encoded data removed]"
          },
          "metadata": {
            "needs_background": "light"
          }
        }
      ]
    },
    {
      "metadata": {
        "id": "JUgxFEReY27i"
      },
      "cell_type": "markdown",
      "source": [
        "The distribution of movie budgets shows an exponential decay. More than 75% of the movies have a budget smaller than 25 million dollars."
      ]
    },
    {
      "metadata": {
        "trusted": true,
        "colab": {
          "base_uri": "https://localhost:8080/"
        },
        "id": "kPC6d7kIY27j",
        "outputId": "ea997333-734a-4d7c-d787-6d1b521ca3a7"
      },
      "cell_type": "code",
      "source": [
        "df['revenue'].describe()"
      ],
      "execution_count": 131,
      "outputs": [
        {
          "output_type": "execute_result",
          "data": {
            "text/plain": [
              "count    7.408000e+03\n",
              "mean     6.878739e+07\n",
              "std      1.464203e+08\n",
              "min      1.000000e+00\n",
              "25%      2.400000e+06\n",
              "50%      1.682272e+07\n",
              "75%      6.722707e+07\n",
              "max      2.787965e+09\n",
              "Name: revenue, dtype: float64"
            ]
          },
          "metadata": {},
          "execution_count": 131
        }
      ]
    },
    {
      "metadata": {
        "id": "uk_qSQImY27k"
      },
      "cell_type": "markdown",
      "source": [
        "The mean gross of a movie is 68.7 million dollars whereas the median gross is much lower at 16.8 million dollars, suggesting the skewed nature of revenue. The lowest revenue generated by a movie is just 1 dollar whereas the highest grossing movie of all time is astonishing 2.78 billion dollars."
      ]
    },
    {
      "metadata": {
        "trusted": true,
        "colab": {
          "base_uri": "https://localhost:8080/",
          "height": 365
        },
        "id": "k2nNWTFdY27k",
        "outputId": "15017fc6-f2d0-4940-a6ac-9e7844ebfb0e"
      },
      "cell_type": "code",
      "source": [
        "sns.distplot(df[df['revenue'].notnull()]['revenue'])"
      ],
      "execution_count": 132,
      "outputs": [
        {
          "output_type": "stream",
          "name": "stderr",
          "text": [
            "/usr/local/lib/python3.7/dist-packages/seaborn/distributions.py:2619: FutureWarning: `distplot` is a deprecated function and will be removed in a future version. Please adapt your code to use either `displot` (a figure-level function with similar flexibility) or `histplot` (an axes-level function for histograms).\n",
            "  warnings.warn(msg, FutureWarning)\n"
          ]
        },
        {
          "output_type": "execute_result",
          "data": {
            "text/plain": [
              "<matplotlib.axes._subplots.AxesSubplot at 0x7f5cfd6d7350>"
            ]
          },
          "metadata": {},
          "execution_count": 132
        },
        {
          "output_type": "display_data",
          "data": {
            "text/plain": [
              "<Figure size 432x288 with 1 Axes>"
            ],
            "image/png": "[encoded data removed]"
          },
          "metadata": {
            "needs_background": "light"
          }
        }
      ]
    },
    {
      "metadata": {
        "id": "FjdIPEr-Y27k"
      },
      "cell_type": "markdown",
      "source": [
        "The distribution of revenue undergoes exponential decay just like budget."
      ]
    },
    {
      "metadata": {
        "trusted": true,
        "colab": {
          "base_uri": "https://localhost:8080/"
        },
        "id": "MBi_tLatY27l",
        "outputId": "735c3f25-ddc5-4562-d985-3c2669e3369a"
      },
      "cell_type": "code",
      "source": [
        "#Let's check the number of missing values in the dataset\n",
        "df.isnull().sum()"
      ],
      "execution_count": 133,
      "outputs": [
        {
          "output_type": "execute_result",
          "data": {
            "text/plain": [
              "budget          36576\n",
              "genres              0\n",
              "popularity          6\n",
              "revenue         38058\n",
              "vote_average     3004\n",
              "vote_count          6\n",
              "return          40085\n",
              "dtype: int64"
            ]
          },
          "metadata": {},
          "execution_count": 133
        }
      ]
    },
    {
      "metadata": {
        "id": "fSjdugg0Y27m"
      },
      "cell_type": "markdown",
      "source": [
        "As mentioned earlier our original dataset has lot of missing values but our analysis can still be done with the small set of rows as well. I will be further exploring these in our outlier detection section."
      ]
    },
    {
      "metadata": {
        "trusted": true,
        "colab": {
          "base_uri": "https://localhost:8080/"
        },
        "id": "t0ESHasGY27n",
        "outputId": "9783bf50-922c-47af-e898-d0be6e94cbf8"
      },
      "cell_type": "code",
      "source": [
        "#Dropping rows with missing values\n",
        "df.dropna(inplace=True)\n",
        "#Check the number of missing values to ensure we have none\n",
        "df.isnull().sum()"
      ],
      "execution_count": 134,
      "outputs": [
        {
          "output_type": "execute_result",
          "data": {
            "text/plain": [
              "budget          0\n",
              "genres          0\n",
              "popularity      0\n",
              "revenue         0\n",
              "vote_average    0\n",
              "vote_count      0\n",
              "return          0\n",
              "dtype: int64"
            ]
          },
          "metadata": {},
          "execution_count": 134
        }
      ]
    },
    {
      "metadata": {
        "id": "LQuGJtMlY27n"
      },
      "cell_type": "markdown",
      "source": [
        "I will perform the following feature engineering tasks:\n",
        "\n",
        "1. Round up popularity values to 2 decimal values and I will be converting those into integer datatypes.\n",
        "2. I will be creating dummy variables for column: genres"
      ]
    },
    {
      "metadata": {
        "trusted": true,
        "colab": {
          "base_uri": "https://localhost:8080/"
        },
        "id": "DHkUS3grY27o",
        "outputId": "ffb3ec77-eaca-4315-93c9-0c28a1828025"
      },
      "cell_type": "code",
      "source": [
        "df[\"popularity\"] = np.round(pd.to_numeric(df.popularity, errors='coerce'),2)\n",
        "df.info()\n",
        "df.shape"
      ],
      "execution_count": 135,
      "outputs": [
        {
          "output_type": "stream",
          "name": "stdout",
          "text": [
            "<class 'pandas.core.frame.DataFrame'>\n",
            "Int64Index: 5374 entries, 0 to 45422\n",
            "Data columns (total 7 columns):\n",
            " #   Column        Non-Null Count  Dtype  \n",
            "---  ------        --------------  -----  \n",
            " 0   budget        5374 non-null   float64\n",
            " 1   genres        5374 non-null   object \n",
            " 2   popularity    5374 non-null   float64\n",
            " 3   revenue       5374 non-null   float64\n",
            " 4   vote_average  5374 non-null   float64\n",
            " 5   vote_count    5374 non-null   float64\n",
            " 6   return        5374 non-null   float64\n",
            "dtypes: float64(6), object(1)\n",
            "memory usage: 335.9+ KB\n"
          ]
        },
        {
          "output_type": "execute_result",
          "data": {
            "text/plain": [
              "(5374, 7)"
            ]
          },
          "metadata": {},
          "execution_count": 135
        }
      ]
    },
    {
      "metadata": {
        "trusted": true,
        "id": "QiMsfHF6Y27o"
      },
      "cell_type": "code",
      "source": [
        "#converting 'genre' column into panda series and extract the type of the genre only from the column\n",
        "s = pd.Series(df['genres'], dtype= str)\n",
        "s1=s.str.split(pat=\"'\",expand=True)\n",
        "df['genre_ed']=s1[5]"
      ],
      "execution_count": 136,
      "outputs": []
    },
    {
      "metadata": {
        "trusted": true,
        "colab": {
          "base_uri": "https://localhost:8080/"
        },
        "id": "OeLgidSnY27p",
        "outputId": "800cbebb-94af-4886-dd73-360586f3e14f"
      },
      "cell_type": "code",
      "source": [
        "#count of each genre in the dataset\n",
        "df['genre_ed'].value_counts()"
      ],
      "execution_count": 137,
      "outputs": [
        {
          "output_type": "execute_result",
          "data": {
            "text/plain": [
              "Drama              1313\n",
              "Comedy             1067\n",
              "Action              960\n",
              "Adventure           416\n",
              "Horror              325\n",
              "Crime               267\n",
              "Thriller            199\n",
              "Animation           146\n",
              "Fantasy             140\n",
              "Romance             121\n",
              "Science Fiction     104\n",
              "Mystery              67\n",
              "Family               55\n",
              "Documentary          47\n",
              "War                  38\n",
              "Music                34\n",
              "Western              31\n",
              "History              29\n",
              "Foreign               4\n",
              "TV Movie              1\n",
              "Name: genre_ed, dtype: int64"
            ]
          },
          "metadata": {},
          "execution_count": 137
        }
      ]
    },
    {
      "metadata": {
        "id": "iZH-vC7_Y27p"
      },
      "cell_type": "markdown",
      "source": [
        "The dataset has most rows for Drama and Comedy. I will concentrate only gneres which has more than 100 rows"
      ]
    },
    {
      "metadata": {
        "trusted": true,
        "id": "tsdeSh1eY27p"
      },
      "cell_type": "code",
      "source": [
        "#Remove rows for genres with count less than 100\n",
        "df=df[~df['genre_ed'].isin(['Mystery', 'Family', 'Documentary', 'War', 'Music', 'Western', 'History', 'Foreign', 'TV Movie'])]"
      ],
      "execution_count": 138,
      "outputs": []
    },
    {
      "metadata": {
        "trusted": true,
        "colab": {
          "base_uri": "https://localhost:8080/"
        },
        "id": "r6mkF3mgY27q",
        "outputId": "ff91a8ce-9499-4ea5-a39a-2160b5fe5f10"
      },
      "cell_type": "code",
      "source": [
        "df.drop(df[df['budget'] < 1000000].index, inplace=True)\n",
        "#df.drop(df[df['vote_count'] < 100].index, inplace=True)\n",
        "df.drop(df[df['revenue'] < 2000000].index, inplace=True)\n",
        "#df.drop(df[df['vote_average'] == 0].index, inplace=True)\n",
        "df.shape"
      ],
      "execution_count": 139,
      "outputs": [
        {
          "output_type": "stream",
          "name": "stderr",
          "text": [
            "/usr/local/lib/python3.7/dist-packages/pandas/core/frame.py:4913: SettingWithCopyWarning: \n",
            "A value is trying to be set on a copy of a slice from a DataFrame\n",
            "\n",
            "See the caveats in the documentation: https://pandas.pydata.org/pandas-docs/stable/user_guide/indexing.html#returning-a-view-versus-a-copy\n",
            "  errors=errors,\n"
          ]
        },
        {
          "output_type": "execute_result",
          "data": {
            "text/plain": [
              "(4255, 8)"
            ]
          },
          "metadata": {},
          "execution_count": 139
        }
      ]
    },
    {
      "metadata": {
        "trusted": true,
        "colab": {
          "base_uri": "https://localhost:8080/",
          "height": 725
        },
        "id": "Gw7QKq_BY27r",
        "outputId": "7aa91904-d351-41c9-9afb-a2e61f5d42f2"
      },
      "cell_type": "code",
      "source": [
        "#Drop original column from dataset\n",
        "df.drop(['genres'], axis=1, inplace=True)\n",
        "#get dummy columns for genre\n",
        "df= pd.get_dummies(df, columns=[\"genre_ed\"])\n",
        "df.info()\n",
        "df.head()"
      ],
      "execution_count": 140,
      "outputs": [
        {
          "output_type": "stream",
          "name": "stdout",
          "text": [
            "<class 'pandas.core.frame.DataFrame'>\n",
            "Int64Index: 4255 entries, 0 to 45250\n",
            "Data columns (total 17 columns):\n",
            " #   Column                    Non-Null Count  Dtype  \n",
            "---  ------                    --------------  -----  \n",
            " 0   budget                    4255 non-null   float64\n",
            " 1   popularity                4255 non-null   float64\n",
            " 2   revenue                   4255 non-null   float64\n",
            " 3   vote_average              4255 non-null   float64\n",
            " 4   vote_count                4255 non-null   float64\n",
            " 5   return                    4255 non-null   float64\n",
            " 6   genre_ed_Action           4255 non-null   uint8  \n",
            " 7   genre_ed_Adventure        4255 non-null   uint8  \n",
            " 8   genre_ed_Animation        4255 non-null   uint8  \n",
            " 9   genre_ed_Comedy           4255 non-null   uint8  \n",
            " 10  genre_ed_Crime            4255 non-null   uint8  \n",
            " 11  genre_ed_Drama            4255 non-null   uint8  \n",
            " 12  genre_ed_Fantasy          4255 non-null   uint8  \n",
            " 13  genre_ed_Horror           4255 non-null   uint8  \n",
            " 14  genre_ed_Romance          4255 non-null   uint8  \n",
            " 15  genre_ed_Science Fiction  4255 non-null   uint8  \n",
            " 16  genre_ed_Thriller         4255 non-null   uint8  \n",
            "dtypes: float64(6), uint8(11)\n",
            "memory usage: 278.4 KB\n"
          ]
        },
        {
          "output_type": "execute_result",
          "data": {
            "text/plain": [
              "       budget  popularity      revenue  vote_average  vote_count     return  \\\n",
              "0  30000000.0       21.95  373554033.0           7.7      5415.0  12.451801   \n",
              "1  65000000.0       17.02  262797249.0           6.9      2413.0   4.043035   \n",
              "3  16000000.0        3.86   81452156.0           6.1        34.0   5.090760   \n",
              "5  60000000.0       17.92  187436818.0           7.7      1886.0   3.123947   \n",
              "8  35000000.0        5.23   64350171.0           5.5       174.0   1.838576   \n",
              "\n",
              "   genre_ed_Action  genre_ed_Adventure  genre_ed_Animation  genre_ed_Comedy  \\\n",
              "0                0                   0                   1                0   \n",
              "1                0                   1                   0                0   \n",
              "3                0                   0                   0                1   \n",
              "5                1                   0                   0                0   \n",
              "8                1                   0                   0                0   \n",
              "\n",
              "   genre_ed_Crime  genre_ed_Drama  genre_ed_Fantasy  genre_ed_Horror  \\\n",
              "0               0               0                 0                0   \n",
              "1               0               0                 0                0   \n",
              "3               0               0                 0                0   \n",
              "5               0               0                 0                0   \n",
              "8               0               0                 0                0   \n",
              "\n",
              "   genre_ed_Romance  genre_ed_Science Fiction  genre_ed_Thriller  \n",
              "0                 0                         0                  0  \n",
              "1                 0                         0                  0  \n",
              "3                 0                         0                  0  \n",
              "5                 0                         0                  0  \n",
              "8                 0                         0                  0  "
            ],
            "text/html": [
              "\n",
              "  <div id=\"df-bd344f2d-be6b-4136-a620-b98e781cc07f\">\n",
              "    <div class=\"colab-df-container\">\n",
              "      <div>\n",
              "<style scoped>\n",
              "    .dataframe tbody tr th:only-of-type {\n",
              "        vertical-align: middle;\n",
              "    }\n",
              "\n",
              "    .dataframe tbody tr th {\n",
              "        vertical-align: top;\n",
              "    }\n",
              "\n",
              "    .dataframe thead th {\n",
              "        text-align: right;\n",
              "    }\n",
              "</style>\n",
              "<table border=\"1\" class=\"dataframe\">\n",
              "  <thead>\n",
              "    <tr style=\"text-align: right;\">\n",
              "      <th></th>\n",
              "      <th>budget</th>\n",
              "      <th>popularity</th>\n",
              "      <th>revenue</th>\n",
              "      <th>vote_average</th>\n",
              "      <th>vote_count</th>\n",
              "      <th>return</th>\n",
              "      <th>genre_ed_Action</th>\n",
              "      <th>genre_ed_Adventure</th>\n",
              "      <th>genre_ed_Animation</th>\n",
              "      <th>genre_ed_Comedy</th>\n",
              "      <th>genre_ed_Crime</th>\n",
              "      <th>genre_ed_Drama</th>\n",
              "      <th>genre_ed_Fantasy</th>\n",
              "      <th>genre_ed_Horror</th>\n",
              "      <th>genre_ed_Romance</th>\n",
              "      <th>genre_ed_Science Fiction</th>\n",
              "      <th>genre_ed_Thriller</th>\n",
              "    </tr>\n",
              "  </thead>\n",
              "  <tbody>\n",
              "    <tr>\n",
              "      <th>0</th>\n",
              "      <td>30000000.0</td>\n",
              "      <td>21.95</td>\n",
              "      <td>373554033.0</td>\n",
              "      <td>7.7</td>\n",
              "      <td>5415.0</td>\n",
              "      <td>12.451801</td>\n",
              "      <td>0</td>\n",
              "      <td>0</td>\n",
              "      <td>1</td>\n",
              "      <td>0</td>\n",
              "      <td>0</td>\n",
              "      <td>0</td>\n",
              "      <td>0</td>\n",
              "      <td>0</td>\n",
              "      <td>0</td>\n",
              "      <td>0</td>\n",
              "      <td>0</td>\n",
              "    </tr>\n",
              "    <tr>\n",
              "      <th>1</th>\n",
              "      <td>65000000.0</td>\n",
              "      <td>17.02</td>\n",
              "      <td>262797249.0</td>\n",
              "      <td>6.9</td>\n",
              "      <td>2413.0</td>\n",
              "      <td>4.043035</td>\n",
              "      <td>0</td>\n",
              "      <td>1</td>\n",
              "      <td>0</td>\n",
              "      <td>0</td>\n",
              "      <td>0</td>\n",
              "      <td>0</td>\n",
              "      <td>0</td>\n",
              "      <td>0</td>\n",
              "      <td>0</td>\n",
              "      <td>0</td>\n",
              "      <td>0</td>\n",
              "    </tr>\n",
              "    <tr>\n",
              "      <th>3</th>\n",
              "      <td>16000000.0</td>\n",
              "      <td>3.86</td>\n",
              "      <td>81452156.0</td>\n",
              "      <td>6.1</td>\n",
              "      <td>34.0</td>\n",
              "      <td>5.090760</td>\n",
              "      <td>0</td>\n",
              "      <td>0</td>\n",
              "      <td>0</td>\n",
              "      <td>1</td>\n",
              "      <td>0</td>\n",
              "      <td>0</td>\n",
              "      <td>0</td>\n",
              "      <td>0</td>\n",
              "      <td>0</td>\n",
              "      <td>0</td>\n",
              "      <td>0</td>\n",
              "    </tr>\n",
              "    <tr>\n",
              "      <th>5</th>\n",
              "      <td>60000000.0</td>\n",
              "      <td>17.92</td>\n",
              "      <td>187436818.0</td>\n",
              "      <td>7.7</td>\n",
              "      <td>1886.0</td>\n",
              "      <td>3.123947</td>\n",
              "      <td>1</td>\n",
              "      <td>0</td>\n",
              "      <td>0</td>\n",
              "      <td>0</td>\n",
              "      <td>0</td>\n",
              "      <td>0</td>\n",
              "      <td>0</td>\n",
              "      <td>0</td>\n",
              "      <td>0</td>\n",
              "      <td>0</td>\n",
              "      <td>0</td>\n",
              "    </tr>\n",
              "    <tr>\n",
              "      <th>8</th>\n",
              "      <td>35000000.0</td>\n",
              "      <td>5.23</td>\n",
              "      <td>64350171.0</td>\n",
              "      <td>5.5</td>\n",
              "      <td>174.0</td>\n",
              "      <td>1.838576</td>\n",
              "      <td>1</td>\n",
              "      <td>0</td>\n",
              "      <td>0</td>\n",
              "      <td>0</td>\n",
              "      <td>0</td>\n",
              "      <td>0</td>\n",
              "      <td>0</td>\n",
              "      <td>0</td>\n",
              "      <td>0</td>\n",
              "      <td>0</td>\n",
              "      <td>0</td>\n",
              "    </tr>\n",
              "  </tbody>\n",
              "</table>\n",
              "</div>\n",
              "      <button class=\"colab-df-convert\" onclick=\"convertToInteractive('df-bd344f2d-be6b-4136-a620-b98e781cc07f')\"\n",
              "              title=\"Convert this dataframe to an interactive table.\"\n",
              "              style=\"display:none;\">\n",
              "        \n",
              "  <svg xmlns=\"http://www.w3.org/2000/svg\" height=\"24px\"viewBox=\"0 0 24 24\"\n",
              "       width=\"24px\">\n",
              "    <path d=\"M0 0h24v24H0V0z\" fill=\"none\"/>\n",
              "    <path d=\"M18.56 5.44l.94 2.06.94-2.06 2.06-.94-2.06-.94-.94-2.06-.94 2.06-2.06.94zm-11 1L8.5 8.5l.94-2.06 2.06-.94-2.06-.94L8.5 2.5l-.94 2.06-2.06.94zm10 10l.94 2.06.94-2.06 2.06-.94-2.06-.94-.94-2.06-.94 2.06-2.06.94z\"/><path d=\"M17.41 7.96l-1.37-1.37c-.4-.4-.92-.59-1.43-.59-.52 0-1.04.2-1.43.59L10.3 9.45l-7.72 7.72c-.78.78-.78 2.05 0 2.83L4 21.41c.39.39.9.59 1.41.59.51 0 1.02-.2 1.41-.59l7.78-7.78 2.81-2.81c.8-.78.8-2.07 0-2.86zM5.41 20L4 18.59l7.72-7.72 1.47 1.35L5.41 20z\"/>\n",
              "  </svg>\n",
              "      </button>\n",
              "      \n",
              "  <style>\n",
              "    .colab-df-container {\n",
              "      display:flex;\n",
              "      flex-wrap:wrap;\n",
              "      gap: 12px;\n",
              "    }\n",
              "\n",
              "    .colab-df-convert {\n",
              "      background-color: #E8F0FE;\n",
              "      border: none;\n",
              "      border-radius: 50%;\n",
              "      cursor: pointer;\n",
              "      display: none;\n",
              "      fill: #1967D2;\n",
              "      height: 32px;\n",
              "      padding: 0 0 0 0;\n",
              "      width: 32px;\n",
              "    }\n",
              "\n",
              "    .colab-df-convert:hover {\n",
              "      background-color: #E2EBFA;\n",
              "      box-shadow: 0px 1px 2px rgba(60, 64, 67, 0.3), 0px 1px 3px 1px rgba(60, 64, 67, 0.15);\n",
              "      fill: #174EA6;\n",
              "    }\n",
              "\n",
              "    [theme=dark] .colab-df-convert {\n",
              "      background-color: #3B4455;\n",
              "      fill: #D2E3FC;\n",
              "    }\n",
              "\n",
              "    [theme=dark] .colab-df-convert:hover {\n",
              "      background-color: #434B5C;\n",
              "      box-shadow: 0px 1px 3px 1px rgba(0, 0, 0, 0.15);\n",
              "      filter: drop-shadow(0px 1px 2px rgba(0, 0, 0, 0.3));\n",
              "      fill: #FFFFFF;\n",
              "    }\n",
              "  </style>\n",
              "\n",
              "      <script>\n",
              "        const buttonEl =\n",
              "          document.querySelector('#df-bd344f2d-be6b-4136-a620-b98e781cc07f button.colab-df-convert');\n",
              "        buttonEl.style.display =\n",
              "          google.colab.kernel.accessAllowed ? 'block' : 'none';\n",
              "\n",
              "        async function convertToInteractive(key) {\n",
              "          const element = document.querySelector('#df-bd344f2d-be6b-4136-a620-b98e781cc07f');\n",
              "          const dataTable =\n",
              "            await google.colab.kernel.invokeFunction('convertToInteractive',\n",
              "                                                     [key], {});\n",
              "          if (!dataTable) return;\n",
              "\n",
              "          const docLinkHtml = 'Like what you see? Visit the ' +\n",
              "            '<a target=\"_blank\" href=https://colab.research.google.com/notebooks/data_table.ipynb>data table notebook</a>'\n",
              "            + ' to learn more about interactive tables.';\n",
              "          element.innerHTML = '';\n",
              "          dataTable['output_type'] = 'display_data';\n",
              "          await google.colab.output.renderOutput(dataTable, element);\n",
              "          const docLink = document.createElement('div');\n",
              "          docLink.innerHTML = docLinkHtml;\n",
              "          element.appendChild(docLink);\n",
              "        }\n",
              "      </script>\n",
              "    </div>\n",
              "  </div>\n",
              "  "
            ]
          },
          "metadata": {},
          "execution_count": 140
        }
      ]
    },
    {
      "metadata": {
        "trusted": true,
        "colab": {
          "base_uri": "https://localhost:8080/",
          "height": 381
        },
        "id": "pD261Jf7Y27r",
        "outputId": "29d599a8-1c14-4a88-e131-3dc3633dc398"
      },
      "cell_type": "code",
      "source": [
        "#Summary statistics of dataset \n",
        "df.describe()"
      ],
      "execution_count": 141,
      "outputs": [
        {
          "output_type": "execute_result",
          "data": {
            "text/plain": [
              "             budget   popularity       revenue  vote_average    vote_count  \\\n",
              "count  4.255000e+03  4255.000000  4.255000e+03   4255.000000   4255.000000   \n",
              "mean   3.644988e+07    10.570820  1.076752e+08      6.290881    860.522444   \n",
              "std    4.202929e+07    11.798288  1.755071e+08      0.863542   1339.260543   \n",
              "min    1.000000e+06     0.010000  2.000000e+06      2.500000      1.000000   \n",
              "25%    9.000000e+06     6.450000  1.494000e+07      5.750000    130.000000   \n",
              "50%    2.200000e+07     9.100000  4.401737e+07      6.300000    368.000000   \n",
              "75%    4.700000e+07    12.330000  1.219721e+08      6.900000    981.000000   \n",
              "max    3.800000e+08   294.340000  2.787965e+09      9.100000  14075.000000   \n",
              "\n",
              "            return  genre_ed_Action  genre_ed_Adventure  genre_ed_Animation  \\\n",
              "count  4255.000000      4255.000000         4255.000000         4255.000000   \n",
              "mean      4.132138         0.207756            0.089307            0.031962   \n",
              "std       7.851683         0.405749            0.285219            0.175921   \n",
              "min       0.047879         0.000000            0.000000            0.000000   \n",
              "25%       1.090403         0.000000            0.000000            0.000000   \n",
              "50%       2.285714         0.000000            0.000000            0.000000   \n",
              "75%       4.318010         0.000000            0.000000            0.000000   \n",
              "max     190.666667         1.000000            1.000000            1.000000   \n",
              "\n",
              "       genre_ed_Comedy  genre_ed_Crime  genre_ed_Drama  genre_ed_Fantasy  \\\n",
              "count      4255.000000     4255.000000     4255.000000       4255.000000   \n",
              "mean          0.211516        0.051469        0.236193          0.028907   \n",
              "std           0.408431        0.220978        0.424792          0.167565   \n",
              "min           0.000000        0.000000        0.000000          0.000000   \n",
              "25%           0.000000        0.000000        0.000000          0.000000   \n",
              "50%           0.000000        0.000000        0.000000          0.000000   \n",
              "75%           0.000000        0.000000        0.000000          0.000000   \n",
              "max           1.000000        1.000000        1.000000          1.000000   \n",
              "\n",
              "       genre_ed_Horror  genre_ed_Romance  genre_ed_Science Fiction  \\\n",
              "count      4255.000000       4255.000000               4255.000000   \n",
              "mean          0.059929          0.021857                  0.021857   \n",
              "std           0.237384          0.146233                  0.146233   \n",
              "min           0.000000          0.000000                  0.000000   \n",
              "25%           0.000000          0.000000                  0.000000   \n",
              "50%           0.000000          0.000000                  0.000000   \n",
              "75%           0.000000          0.000000                  0.000000   \n",
              "max           1.000000          1.000000                  1.000000   \n",
              "\n",
              "       genre_ed_Thriller  \n",
              "count        4255.000000  \n",
              "mean            0.038308  \n",
              "std             0.191961  \n",
              "min             0.000000  \n",
              "25%             0.000000  \n",
              "50%             0.000000  \n",
              "75%             0.000000  \n",
              "max             1.000000  "
            ],
            "text/html": [
              "\n",
              "  <div id=\"df-a9ae048e-223b-42ab-949f-37e0e3f306e9\">\n",
              "    <div class=\"colab-df-container\">\n",
              "      <div>\n",
              "<style scoped>\n",
              "    .dataframe tbody tr th:only-of-type {\n",
              "        vertical-align: middle;\n",
              "    }\n",
              "\n",
              "    .dataframe tbody tr th {\n",
              "        vertical-align: top;\n",
              "    }\n",
              "\n",
              "    .dataframe thead th {\n",
              "        text-align: right;\n",
              "    }\n",
              "</style>\n",
              "<table border=\"1\" class=\"dataframe\">\n",
              "  <thead>\n",
              "    <tr style=\"text-align: right;\">\n",
              "      <th></th>\n",
              "      <th>budget</th>\n",
              "      <th>popularity</th>\n",
              "      <th>revenue</th>\n",
              "      <th>vote_average</th>\n",
              "      <th>vote_count</th>\n",
              "      <th>return</th>\n",
              "      <th>genre_ed_Action</th>\n",
              "      <th>genre_ed_Adventure</th>\n",
              "      <th>genre_ed_Animation</th>\n",
              "      <th>genre_ed_Comedy</th>\n",
              "      <th>genre_ed_Crime</th>\n",
              "      <th>genre_ed_Drama</th>\n",
              "      <th>genre_ed_Fantasy</th>\n",
              "      <th>genre_ed_Horror</th>\n",
              "      <th>genre_ed_Romance</th>\n",
              "      <th>genre_ed_Science Fiction</th>\n",
              "      <th>genre_ed_Thriller</th>\n",
              "    </tr>\n",
              "  </thead>\n",
              "  <tbody>\n",
              "    <tr>\n",
              "      <th>count</th>\n",
              "      <td>4.255000e+03</td>\n",
              "      <td>4255.000000</td>\n",
              "      <td>4.255000e+03</td>\n",
              "      <td>4255.000000</td>\n",
              "      <td>4255.000000</td>\n",
              "      <td>4255.000000</td>\n",
              "      <td>4255.000000</td>\n",
              "      <td>4255.000000</td>\n",
              "      <td>4255.000000</td>\n",
              "      <td>4255.000000</td>\n",
              "      <td>4255.000000</td>\n",
              "      <td>4255.000000</td>\n",
              "      <td>4255.000000</td>\n",
              "      <td>4255.000000</td>\n",
              "      <td>4255.000000</td>\n",
              "      <td>4255.000000</td>\n",
              "      <td>4255.000000</td>\n",
              "    </tr>\n",
              "    <tr>\n",
              "      <th>mean</th>\n",
              "      <td>3.644988e+07</td>\n",
              "      <td>10.570820</td>\n",
              "      <td>1.076752e+08</td>\n",
              "      <td>6.290881</td>\n",
              "      <td>860.522444</td>\n",
              "      <td>4.132138</td>\n",
              "      <td>0.207756</td>\n",
              "      <td>0.089307</td>\n",
              "      <td>0.031962</td>\n",
              "      <td>0.211516</td>\n",
              "      <td>0.051469</td>\n",
              "      <td>0.236193</td>\n",
              "      <td>0.028907</td>\n",
              "      <td>0.059929</td>\n",
              "      <td>0.021857</td>\n",
              "      <td>0.021857</td>\n",
              "      <td>0.038308</td>\n",
              "    </tr>\n",
              "    <tr>\n",
              "      <th>std</th>\n",
              "      <td>4.202929e+07</td>\n",
              "      <td>11.798288</td>\n",
              "      <td>1.755071e+08</td>\n",
              "      <td>0.863542</td>\n",
              "      <td>1339.260543</td>\n",
              "      <td>7.851683</td>\n",
              "      <td>0.405749</td>\n",
              "      <td>0.285219</td>\n",
              "      <td>0.175921</td>\n",
              "      <td>0.408431</td>\n",
              "      <td>0.220978</td>\n",
              "      <td>0.424792</td>\n",
              "      <td>0.167565</td>\n",
              "      <td>0.237384</td>\n",
              "      <td>0.146233</td>\n",
              "      <td>0.146233</td>\n",
              "      <td>0.191961</td>\n",
              "    </tr>\n",
              "    <tr>\n",
              "      <th>min</th>\n",
              "      <td>1.000000e+06</td>\n",
              "      <td>0.010000</td>\n",
              "      <td>2.000000e+06</td>\n",
              "      <td>2.500000</td>\n",
              "      <td>1.000000</td>\n",
              "      <td>0.047879</td>\n",
              "      <td>0.000000</td>\n",
              "      <td>0.000000</td>\n",
              "      <td>0.000000</td>\n",
              "      <td>0.000000</td>\n",
              "      <td>0.000000</td>\n",
              "      <td>0.000000</td>\n",
              "      <td>0.000000</td>\n",
              "      <td>0.000000</td>\n",
              "      <td>0.000000</td>\n",
              "      <td>0.000000</td>\n",
              "      <td>0.000000</td>\n",
              "    </tr>\n",
              "    <tr>\n",
              "      <th>25%</th>\n",
              "      <td>9.000000e+06</td>\n",
              "      <td>6.450000</td>\n",
              "      <td>1.494000e+07</td>\n",
              "      <td>5.750000</td>\n",
              "      <td>130.000000</td>\n",
              "      <td>1.090403</td>\n",
              "      <td>0.000000</td>\n",
              "      <td>0.000000</td>\n",
              "      <td>0.000000</td>\n",
              "      <td>0.000000</td>\n",
              "      <td>0.000000</td>\n",
              "      <td>0.000000</td>\n",
              "      <td>0.000000</td>\n",
              "      <td>0.000000</td>\n",
              "      <td>0.000000</td>\n",
              "      <td>0.000000</td>\n",
              "      <td>0.000000</td>\n",
              "    </tr>\n",
              "    <tr>\n",
              "      <th>50%</th>\n",
              "      <td>2.200000e+07</td>\n",
              "      <td>9.100000</td>\n",
              "      <td>4.401737e+07</td>\n",
              "      <td>6.300000</td>\n",
              "      <td>368.000000</td>\n",
              "      <td>2.285714</td>\n",
              "      <td>0.000000</td>\n",
              "      <td>0.000000</td>\n",
              "      <td>0.000000</td>\n",
              "      <td>0.000000</td>\n",
              "      <td>0.000000</td>\n",
              "      <td>0.000000</td>\n",
              "      <td>0.000000</td>\n",
              "      <td>0.000000</td>\n",
              "      <td>0.000000</td>\n",
              "      <td>0.000000</td>\n",
              "      <td>0.000000</td>\n",
              "    </tr>\n",
              "    <tr>\n",
              "      <th>75%</th>\n",
              "      <td>4.700000e+07</td>\n",
              "      <td>12.330000</td>\n",
              "      <td>1.219721e+08</td>\n",
              "      <td>6.900000</td>\n",
              "      <td>981.000000</td>\n",
              "      <td>4.318010</td>\n",
              "      <td>0.000000</td>\n",
              "      <td>0.000000</td>\n",
              "      <td>0.000000</td>\n",
              "      <td>0.000000</td>\n",
              "      <td>0.000000</td>\n",
              "      <td>0.000000</td>\n",
              "      <td>0.000000</td>\n",
              "      <td>0.000000</td>\n",
              "      <td>0.000000</td>\n",
              "      <td>0.000000</td>\n",
              "      <td>0.000000</td>\n",
              "    </tr>\n",
              "    <tr>\n",
              "      <th>max</th>\n",
              "      <td>3.800000e+08</td>\n",
              "      <td>294.340000</td>\n",
              "      <td>2.787965e+09</td>\n",
              "      <td>9.100000</td>\n",
              "      <td>14075.000000</td>\n",
              "      <td>190.666667</td>\n",
              "      <td>1.000000</td>\n",
              "      <td>1.000000</td>\n",
              "      <td>1.000000</td>\n",
              "      <td>1.000000</td>\n",
              "      <td>1.000000</td>\n",
              "      <td>1.000000</td>\n",
              "      <td>1.000000</td>\n",
              "      <td>1.000000</td>\n",
              "      <td>1.000000</td>\n",
              "      <td>1.000000</td>\n",
              "      <td>1.000000</td>\n",
              "    </tr>\n",
              "  </tbody>\n",
              "</table>\n",
              "</div>\n",
              "      <button class=\"colab-df-convert\" onclick=\"convertToInteractive('df-a9ae048e-223b-42ab-949f-37e0e3f306e9')\"\n",
              "              title=\"Convert this dataframe to an interactive table.\"\n",
              "              style=\"display:none;\">\n",
              "        \n",
              "  <svg xmlns=\"http://www.w3.org/2000/svg\" height=\"24px\"viewBox=\"0 0 24 24\"\n",
              "       width=\"24px\">\n",
              "    <path d=\"M0 0h24v24H0V0z\" fill=\"none\"/>\n",
              "    <path d=\"M18.56 5.44l.94 2.06.94-2.06 2.06-.94-2.06-.94-.94-2.06-.94 2.06-2.06.94zm-11 1L8.5 8.5l.94-2.06 2.06-.94-2.06-.94L8.5 2.5l-.94 2.06-2.06.94zm10 10l.94 2.06.94-2.06 2.06-.94-2.06-.94-.94-2.06-.94 2.06-2.06.94z\"/><path d=\"M17.41 7.96l-1.37-1.37c-.4-.4-.92-.59-1.43-.59-.52 0-1.04.2-1.43.59L10.3 9.45l-7.72 7.72c-.78.78-.78 2.05 0 2.83L4 21.41c.39.39.9.59 1.41.59.51 0 1.02-.2 1.41-.59l7.78-7.78 2.81-2.81c.8-.78.8-2.07 0-2.86zM5.41 20L4 18.59l7.72-7.72 1.47 1.35L5.41 20z\"/>\n",
              "  </svg>\n",
              "      </button>\n",
              "      \n",
              "  <style>\n",
              "    .colab-df-container {\n",
              "      display:flex;\n",
              "      flex-wrap:wrap;\n",
              "      gap: 12px;\n",
              "    }\n",
              "\n",
              "    .colab-df-convert {\n",
              "      background-color: #E8F0FE;\n",
              "      border: none;\n",
              "      border-radius: 50%;\n",
              "      cursor: pointer;\n",
              "      display: none;\n",
              "      fill: #1967D2;\n",
              "      height: 32px;\n",
              "      padding: 0 0 0 0;\n",
              "      width: 32px;\n",
              "    }\n",
              "\n",
              "    .colab-df-convert:hover {\n",
              "      background-color: #E2EBFA;\n",
              "      box-shadow: 0px 1px 2px rgba(60, 64, 67, 0.3), 0px 1px 3px 1px rgba(60, 64, 67, 0.15);\n",
              "      fill: #174EA6;\n",
              "    }\n",
              "\n",
              "    [theme=dark] .colab-df-convert {\n",
              "      background-color: #3B4455;\n",
              "      fill: #D2E3FC;\n",
              "    }\n",
              "\n",
              "    [theme=dark] .colab-df-convert:hover {\n",
              "      background-color: #434B5C;\n",
              "      box-shadow: 0px 1px 3px 1px rgba(0, 0, 0, 0.15);\n",
              "      filter: drop-shadow(0px 1px 2px rgba(0, 0, 0, 0.3));\n",
              "      fill: #FFFFFF;\n",
              "    }\n",
              "  </style>\n",
              "\n",
              "      <script>\n",
              "        const buttonEl =\n",
              "          document.querySelector('#df-a9ae048e-223b-42ab-949f-37e0e3f306e9 button.colab-df-convert');\n",
              "        buttonEl.style.display =\n",
              "          google.colab.kernel.accessAllowed ? 'block' : 'none';\n",
              "\n",
              "        async function convertToInteractive(key) {\n",
              "          const element = document.querySelector('#df-a9ae048e-223b-42ab-949f-37e0e3f306e9');\n",
              "          const dataTable =\n",
              "            await google.colab.kernel.invokeFunction('convertToInteractive',\n",
              "                                                     [key], {});\n",
              "          if (!dataTable) return;\n",
              "\n",
              "          const docLinkHtml = 'Like what you see? Visit the ' +\n",
              "            '<a target=\"_blank\" href=https://colab.research.google.com/notebooks/data_table.ipynb>data table notebook</a>'\n",
              "            + ' to learn more about interactive tables.';\n",
              "          element.innerHTML = '';\n",
              "          dataTable['output_type'] = 'display_data';\n",
              "          await google.colab.output.renderOutput(dataTable, element);\n",
              "          const docLink = document.createElement('div');\n",
              "          docLink.innerHTML = docLinkHtml;\n",
              "          element.appendChild(docLink);\n",
              "        }\n",
              "      </script>\n",
              "    </div>\n",
              "  </div>\n",
              "  "
            ]
          },
          "metadata": {},
          "execution_count": 141
        }
      ]
    },
    {
      "metadata": {
        "trusted": true,
        "colab": {
          "base_uri": "https://localhost:8080/",
          "height": 294
        },
        "id": "BSYBU-TrY27s",
        "outputId": "1655e8c3-ec9b-4e71-b559-48feb2b7ed35"
      },
      "cell_type": "code",
      "source": [
        "#Let's check for outliers\n",
        "df.boxplot(column=['budget', 'revenue'])"
      ],
      "execution_count": 142,
      "outputs": [
        {
          "output_type": "execute_result",
          "data": {
            "text/plain": [
              "<matplotlib.axes._subplots.AxesSubplot at 0x7f5d02b30610>"
            ]
          },
          "metadata": {},
          "execution_count": 142
        },
        {
          "output_type": "display_data",
          "data": {
            "text/plain": [
              "<Figure size 432x288 with 1 Axes>"
            ],
            "image/png": "[encoded data removed]"
          },
          "metadata": {
            "needs_background": "light"
          }
        }
      ]
    },
    {
      "metadata": {
        "trusted": true,
        "colab": {
          "base_uri": "https://localhost:8080/",
          "height": 284
        },
        "id": "c4-4pO4cY27s",
        "outputId": "b90d5eed-c372-4e45-dd07-cd920883d5b1"
      },
      "cell_type": "code",
      "source": [
        "df.boxplot(column=['popularity', 'vote_average', 'vote_count'])"
      ],
      "execution_count": 143,
      "outputs": [
        {
          "output_type": "execute_result",
          "data": {
            "text/plain": [
              "<matplotlib.axes._subplots.AxesSubplot at 0x7f5cfd140050>"
            ]
          },
          "metadata": {},
          "execution_count": 143
        },
        {
          "output_type": "display_data",
          "data": {
            "text/plain": [
              "<Figure size 432x288 with 1 Axes>"
            ],
            "image/png": "[encoded data removed]"
          },
          "metadata": {
            "needs_background": "light"
          }
        }
      ]
    },
    {
      "metadata": {
        "trusted": true,
        "id": "EmIxUZc6Y27t"
      },
      "cell_type": "code",
      "source": [
        "df_o= df[(np.nan_to_num(np.abs(stats.zscore(df,nan_policy='omit')),0) < 3).all(axis=1)]"
      ],
      "execution_count": 144,
      "outputs": []
    },
    {
      "metadata": {
        "trusted": true,
        "colab": {
          "base_uri": "https://localhost:8080/"
        },
        "id": "JdjccFOJY27t",
        "outputId": "faaaf99c-0028-41ae-e7c5-326c834122da"
      },
      "cell_type": "code",
      "source": [
        "df.shape\n",
        "print ('Shape of original input dataset:', df.shape)\n",
        "#After removing outliers\n",
        "df_o.shape\n",
        "print ('Shape of input dataset after removing outliers:', df_o.shape)"
      ],
      "execution_count": 145,
      "outputs": [
        {
          "output_type": "stream",
          "name": "stdout",
          "text": [
            "Shape of original input dataset: (4255, 17)\n",
            "Shape of input dataset after removing outliers: (2645, 17)\n"
          ]
        }
      ]
    },
    {
      "metadata": {
        "trusted": true,
        "colab": {
          "base_uri": "https://localhost:8080/"
        },
        "id": "cnEGcpuKY27u",
        "outputId": "97d0445f-4fe5-4e5a-bd34-88bffb1955a1"
      },
      "cell_type": "code",
      "source": [
        "Q1 = df_o.quantile(0.25)\n",
        "Q3 = df_o.quantile(0.75)\n",
        "IQR = Q3 - Q1\n",
        "print(IQR)"
      ],
      "execution_count": 146,
      "outputs": [
        {
          "output_type": "stream",
          "name": "stdout",
          "text": [
            "budget                      3.100000e+07\n",
            "popularity                  5.420000e+00\n",
            "revenue                     8.061701e+07\n",
            "vote_average                1.200000e+00\n",
            "vote_count                  6.320000e+02\n",
            "return                      2.998467e+00\n",
            "genre_ed_Action             1.000000e+00\n",
            "genre_ed_Adventure          0.000000e+00\n",
            "genre_ed_Animation          0.000000e+00\n",
            "genre_ed_Comedy             1.000000e+00\n",
            "genre_ed_Crime              0.000000e+00\n",
            "genre_ed_Drama              1.000000e+00\n",
            "genre_ed_Fantasy            0.000000e+00\n",
            "genre_ed_Horror             0.000000e+00\n",
            "genre_ed_Romance            0.000000e+00\n",
            "genre_ed_Science Fiction    0.000000e+00\n",
            "genre_ed_Thriller           0.000000e+00\n",
            "dtype: float64\n"
          ]
        }
      ]
    },
    {
      "metadata": {
        "trusted": true,
        "id": "QU2UIMfOY27v"
      },
      "cell_type": "code",
      "source": [
        "df_out = df_o[~((df_o < (Q1 - 1.5 * IQR)) |(df_o > (Q3 + 1.5 * IQR))).any(axis=1)]"
      ],
      "execution_count": 147,
      "outputs": []
    },
    {
      "metadata": {
        "trusted": true,
        "colab": {
          "base_uri": "https://localhost:8080/"
        },
        "id": "Rj-6tmjMY27w",
        "outputId": "6072b457-1fbc-4545-b40e-94d70c2b50e6"
      },
      "cell_type": "code",
      "source": [
        "print ('Shape of input dataset after managing misspread:', df_out.shape)"
      ],
      "execution_count": 148,
      "outputs": [
        {
          "output_type": "stream",
          "name": "stdout",
          "text": [
            "Shape of input dataset after managing misspread: (2106, 17)\n"
          ]
        }
      ]
    },
    {
      "metadata": {
        "trusted": true,
        "colab": {
          "base_uri": "https://localhost:8080/",
          "height": 294
        },
        "id": "AdXgYak-Y27x",
        "outputId": "438bb80b-7e42-4fe1-a2c4-9c9806687ccc"
      },
      "cell_type": "code",
      "source": [
        "df_out.boxplot(column=['budget', 'revenue'])"
      ],
      "execution_count": 149,
      "outputs": [
        {
          "output_type": "execute_result",
          "data": {
            "text/plain": [
              "<matplotlib.axes._subplots.AxesSubplot at 0x7f5d03063110>"
            ]
          },
          "metadata": {},
          "execution_count": 149
        },
        {
          "output_type": "display_data",
          "data": {
            "text/plain": [
              "<Figure size 432x288 with 1 Axes>"
            ],
            "image/png": "[encoded data removed]"
          },
          "metadata": {
            "needs_background": "light"
          }
        }
      ]
    },
    {
      "metadata": {
        "trusted": true,
        "colab": {
          "base_uri": "https://localhost:8080/"
        },
        "id": "QUCMrBWwY27y",
        "outputId": "afc2b094-e347-4c31-e7df-8be4ec22a325"
      },
      "cell_type": "code",
      "source": [
        "df_out_high = df_out.apply(lambda x : True\n",
        "            if x['revenue'] > 13500000 or x['budget'] > 30000000 else False, axis = 1) \n",
        "num_rows = len(df_out_high[df_out_high == True].index) \n",
        "  \n",
        "print('Number of Rows in dataframe with revenue more than 13.5 million dollars or budget more than 30 million: ', \n",
        "      num_rows ) "
      ],
      "execution_count": 150,
      "outputs": [
        {
          "output_type": "stream",
          "name": "stdout",
          "text": [
            "Number of Rows in dataframe with revenue more than 13.5 million dollars or budget more than 30 million:  1482\n"
          ]
        }
      ]
    },
    {
      "metadata": {
        "trusted": true,
        "colab": {
          "base_uri": "https://localhost:8080/"
        },
        "id": "sx_hHMpPY27z",
        "outputId": "62d560fc-f2bc-4a5f-9be1-543167fc3b6b"
      },
      "cell_type": "code",
      "source": [
        "df_out.drop(df_out[df_out['revenue'] > 13500000].index, inplace=True)\n",
        "df_out.drop(df_out[df_out['budget'] > 30000000].index, inplace=True)"
      ],
      "execution_count": 151,
      "outputs": [
        {
          "output_type": "stream",
          "name": "stderr",
          "text": [
            "/usr/local/lib/python3.7/dist-packages/pandas/core/frame.py:4913: SettingWithCopyWarning: \n",
            "A value is trying to be set on a copy of a slice from a DataFrame\n",
            "\n",
            "See the caveats in the documentation: https://pandas.pydata.org/pandas-docs/stable/user_guide/indexing.html#returning-a-view-versus-a-copy\n",
            "  errors=errors,\n"
          ]
        }
      ]
    },
    {
      "metadata": {
        "trusted": true,
        "colab": {
          "base_uri": "https://localhost:8080/",
          "height": 294
        },
        "id": "9dvCV17qY27z",
        "outputId": "4f89c4d1-cf61-4beb-9b70-e7f18608c464"
      },
      "cell_type": "code",
      "source": [
        "df_out.boxplot(column=['budget', 'revenue'])"
      ],
      "execution_count": 152,
      "outputs": [
        {
          "output_type": "execute_result",
          "data": {
            "text/plain": [
              "<matplotlib.axes._subplots.AxesSubplot at 0x7f5cf659d550>"
            ]
          },
          "metadata": {},
          "execution_count": 152
        },
        {
          "output_type": "display_data",
          "data": {
            "text/plain": [
              "<Figure size 432x288 with 1 Axes>"
            ],
            "image/png": "[encoded data removed]"
          },
          "metadata": {
            "needs_background": "light"
          }
        }
      ]
    },
    {
      "metadata": {
        "id": "qUiXTJmaY270"
      },
      "cell_type": "markdown",
      "source": [
        "Looking at the range I can say the dataset has movies which are high budget, low revenue."
      ]
    },
    {
      "metadata": {
        "trusted": true,
        "colab": {
          "base_uri": "https://localhost:8080/"
        },
        "id": "3odUyDNEY271",
        "outputId": "a22912eb-45fc-462e-e200-20408de657df"
      },
      "cell_type": "code",
      "source": [
        "df_out['revenue'].describe()"
      ],
      "execution_count": 153,
      "outputs": [
        {
          "output_type": "execute_result",
          "data": {
            "text/plain": [
              "count    6.240000e+02\n",
              "mean     7.017731e+06\n",
              "std      3.370582e+06\n",
              "min      2.000000e+06\n",
              "25%      4.069512e+06\n",
              "50%      6.737532e+06\n",
              "75%      1.000000e+07\n",
              "max      1.350000e+07\n",
              "Name: revenue, dtype: float64"
            ]
          },
          "metadata": {},
          "execution_count": 153
        }
      ]
    },
    {
      "metadata": {
        "trusted": true,
        "colab": {
          "base_uri": "https://localhost:8080/",
          "height": 506
        },
        "id": "Do3kWyEhY271",
        "outputId": "a0e3d832-f2a5-47df-c486-22fcf87fe804"
      },
      "cell_type": "code",
      "source": [
        "# recode the revenue into high and low\n",
        "df_out['Revenue'] = 0\n",
        "df_out.loc[df_out['revenue'] <7017731,'Revenue'] = 0\n",
        "df_out.loc[df_out['revenue'] >=7017731,'Revenue'] = 1\n",
        "df_out.head()"
      ],
      "execution_count": 154,
      "outputs": [
        {
          "output_type": "stream",
          "name": "stderr",
          "text": [
            "/usr/local/lib/python3.7/dist-packages/ipykernel_launcher.py:2: SettingWithCopyWarning: \n",
            "A value is trying to be set on a copy of a slice from a DataFrame.\n",
            "Try using .loc[row_indexer,col_indexer] = value instead\n",
            "\n",
            "See the caveats in the documentation: https://pandas.pydata.org/pandas-docs/stable/user_guide/indexing.html#returning-a-view-versus-a-copy\n",
            "  \n",
            "/usr/local/lib/python3.7/dist-packages/pandas/core/indexing.py:1817: SettingWithCopyWarning: \n",
            "A value is trying to be set on a copy of a slice from a DataFrame.\n",
            "Try using .loc[row_indexer,col_indexer] = value instead\n",
            "\n",
            "See the caveats in the documentation: https://pandas.pydata.org/pandas-docs/stable/user_guide/indexing.html#returning-a-view-versus-a-copy\n",
            "  self._setitem_single_column(loc, value, pi)\n"
          ]
        },
        {
          "output_type": "execute_result",
          "data": {
            "text/plain": [
              "         budget  popularity    revenue  vote_average  vote_count    return  \\\n",
              "51   15000000.0       15.90  6700000.0           6.7       145.0  0.446667   \n",
              "74   15000000.0        2.94  2042530.0           3.9        16.0  0.136169   \n",
              "117  25000000.0        1.52  6278139.0           5.1         7.0  0.251126   \n",
              "167  20000000.0       14.81  7563728.0           6.2       406.0  0.378186   \n",
              "172   1500000.0        4.88  7412216.0           6.8       280.0  4.941477   \n",
              "\n",
              "     genre_ed_Action  genre_ed_Adventure  genre_ed_Animation  genre_ed_Comedy  \\\n",
              "51                 0                   0                   0                1   \n",
              "74                 0                   0                   0                1   \n",
              "117                0                   0                   0                1   \n",
              "167                1                   0                   0                0   \n",
              "172                0                   0                   0                0   \n",
              "\n",
              "     genre_ed_Crime  genre_ed_Drama  genre_ed_Fantasy  genre_ed_Horror  \\\n",
              "51                0               0                 0                0   \n",
              "74                0               0                 0                0   \n",
              "117               0               0                 0                0   \n",
              "167               0               0                 0                0   \n",
              "172               0               1                 0                0   \n",
              "\n",
              "     genre_ed_Romance  genre_ed_Science Fiction  genre_ed_Thriller  Revenue  \n",
              "51                  0                         0                  0        0  \n",
              "74                  0                         0                  0        0  \n",
              "117                 0                         0                  0        0  \n",
              "167                 0                         0                  0        1  \n",
              "172                 0                         0                  0        1  "
            ],
            "text/html": [
              "\n",
              "  <div id=\"df-0cb8a15d-6947-44a1-8960-dcb135442946\">\n",
              "    <div class=\"colab-df-container\">\n",
              "      <div>\n",
              "<style scoped>\n",
              "    .dataframe tbody tr th:only-of-type {\n",
              "        vertical-align: middle;\n",
              "    }\n",
              "\n",
              "    .dataframe tbody tr th {\n",
              "        vertical-align: top;\n",
              "    }\n",
              "\n",
              "    .dataframe thead th {\n",
              "        text-align: right;\n",
              "    }\n",
              "</style>\n",
              "<table border=\"1\" class=\"dataframe\">\n",
              "  <thead>\n",
              "    <tr style=\"text-align: right;\">\n",
              "      <th></th>\n",
              "      <th>budget</th>\n",
              "      <th>popularity</th>\n",
              "      <th>revenue</th>\n",
              "      <th>vote_average</th>\n",
              "      <th>vote_count</th>\n",
              "      <th>return</th>\n",
              "      <th>genre_ed_Action</th>\n",
              "      <th>genre_ed_Adventure</th>\n",
              "      <th>genre_ed_Animation</th>\n",
              "      <th>genre_ed_Comedy</th>\n",
              "      <th>genre_ed_Crime</th>\n",
              "      <th>genre_ed_Drama</th>\n",
              "      <th>genre_ed_Fantasy</th>\n",
              "      <th>genre_ed_Horror</th>\n",
              "      <th>genre_ed_Romance</th>\n",
              "      <th>genre_ed_Science Fiction</th>\n",
              "      <th>genre_ed_Thriller</th>\n",
              "      <th>Revenue</th>\n",
              "    </tr>\n",
              "  </thead>\n",
              "  <tbody>\n",
              "    <tr>\n",
              "      <th>51</th>\n",
              "      <td>15000000.0</td>\n",
              "      <td>15.90</td>\n",
              "      <td>6700000.0</td>\n",
              "      <td>6.7</td>\n",
              "      <td>145.0</td>\n",
              "      <td>0.446667</td>\n",
              "      <td>0</td>\n",
              "      <td>0</td>\n",
              "      <td>0</td>\n",
              "      <td>1</td>\n",
              "      <td>0</td>\n",
              "      <td>0</td>\n",
              "      <td>0</td>\n",
              "      <td>0</td>\n",
              "      <td>0</td>\n",
              "      <td>0</td>\n",
              "      <td>0</td>\n",
              "      <td>0</td>\n",
              "    </tr>\n",
              "    <tr>\n",
              "      <th>74</th>\n",
              "      <td>15000000.0</td>\n",
              "      <td>2.94</td>\n",
              "      <td>2042530.0</td>\n",
              "      <td>3.9</td>\n",
              "      <td>16.0</td>\n",
              "      <td>0.136169</td>\n",
              "      <td>0</td>\n",
              "      <td>0</td>\n",
              "      <td>0</td>\n",
              "      <td>1</td>\n",
              "      <td>0</td>\n",
              "      <td>0</td>\n",
              "      <td>0</td>\n",
              "      <td>0</td>\n",
              "      <td>0</td>\n",
              "      <td>0</td>\n",
              "      <td>0</td>\n",
              "      <td>0</td>\n",
              "    </tr>\n",
              "    <tr>\n",
              "      <th>117</th>\n",
              "      <td>25000000.0</td>\n",
              "      <td>1.52</td>\n",
              "      <td>6278139.0</td>\n",
              "      <td>5.1</td>\n",
              "      <td>7.0</td>\n",
              "      <td>0.251126</td>\n",
              "      <td>0</td>\n",
              "      <td>0</td>\n",
              "      <td>0</td>\n",
              "      <td>1</td>\n",
              "      <td>0</td>\n",
              "      <td>0</td>\n",
              "      <td>0</td>\n",
              "      <td>0</td>\n",
              "      <td>0</td>\n",
              "      <td>0</td>\n",
              "      <td>0</td>\n",
              "      <td>0</td>\n",
              "    </tr>\n",
              "    <tr>\n",
              "      <th>167</th>\n",
              "      <td>20000000.0</td>\n",
              "      <td>14.81</td>\n",
              "      <td>7563728.0</td>\n",
              "      <td>6.2</td>\n",
              "      <td>406.0</td>\n",
              "      <td>0.378186</td>\n",
              "      <td>1</td>\n",
              "      <td>0</td>\n",
              "      <td>0</td>\n",
              "      <td>0</td>\n",
              "      <td>0</td>\n",
              "      <td>0</td>\n",
              "      <td>0</td>\n",
              "      <td>0</td>\n",
              "      <td>0</td>\n",
              "      <td>0</td>\n",
              "      <td>0</td>\n",
              "      <td>1</td>\n",
              "    </tr>\n",
              "    <tr>\n",
              "      <th>172</th>\n",
              "      <td>1500000.0</td>\n",
              "      <td>4.88</td>\n",
              "      <td>7412216.0</td>\n",
              "      <td>6.8</td>\n",
              "      <td>280.0</td>\n",
              "      <td>4.941477</td>\n",
              "      <td>0</td>\n",
              "      <td>0</td>\n",
              "      <td>0</td>\n",
              "      <td>0</td>\n",
              "      <td>0</td>\n",
              "      <td>1</td>\n",
              "      <td>0</td>\n",
              "      <td>0</td>\n",
              "      <td>0</td>\n",
              "      <td>0</td>\n",
              "      <td>0</td>\n",
              "      <td>1</td>\n",
              "    </tr>\n",
              "  </tbody>\n",
              "</table>\n",
              "</div>\n",
              "      <button class=\"colab-df-convert\" onclick=\"convertToInteractive('df-0cb8a15d-6947-44a1-8960-dcb135442946')\"\n",
              "              title=\"Convert this dataframe to an interactive table.\"\n",
              "              style=\"display:none;\">\n",
              "        \n",
              "  <svg xmlns=\"http://www.w3.org/2000/svg\" height=\"24px\"viewBox=\"0 0 24 24\"\n",
              "       width=\"24px\">\n",
              "    <path d=\"M0 0h24v24H0V0z\" fill=\"none\"/>\n",
              "    <path d=\"M18.56 5.44l.94 2.06.94-2.06 2.06-.94-2.06-.94-.94-2.06-.94 2.06-2.06.94zm-11 1L8.5 8.5l.94-2.06 2.06-.94-2.06-.94L8.5 2.5l-.94 2.06-2.06.94zm10 10l.94 2.06.94-2.06 2.06-.94-2.06-.94-.94-2.06-.94 2.06-2.06.94z\"/><path d=\"M17.41 7.96l-1.37-1.37c-.4-.4-.92-.59-1.43-.59-.52 0-1.04.2-1.43.59L10.3 9.45l-7.72 7.72c-.78.78-.78 2.05 0 2.83L4 21.41c.39.39.9.59 1.41.59.51 0 1.02-.2 1.41-.59l7.78-7.78 2.81-2.81c.8-.78.8-2.07 0-2.86zM5.41 20L4 18.59l7.72-7.72 1.47 1.35L5.41 20z\"/>\n",
              "  </svg>\n",
              "      </button>\n",
              "      \n",
              "  <style>\n",
              "    .colab-df-container {\n",
              "      display:flex;\n",
              "      flex-wrap:wrap;\n",
              "      gap: 12px;\n",
              "    }\n",
              "\n",
              "    .colab-df-convert {\n",
              "      background-color: #E8F0FE;\n",
              "      border: none;\n",
              "      border-radius: 50%;\n",
              "      cursor: pointer;\n",
              "      display: none;\n",
              "      fill: #1967D2;\n",
              "      height: 32px;\n",
              "      padding: 0 0 0 0;\n",
              "      width: 32px;\n",
              "    }\n",
              "\n",
              "    .colab-df-convert:hover {\n",
              "      background-color: #E2EBFA;\n",
              "      box-shadow: 0px 1px 2px rgba(60, 64, 67, 0.3), 0px 1px 3px 1px rgba(60, 64, 67, 0.15);\n",
              "      fill: #174EA6;\n",
              "    }\n",
              "\n",
              "    [theme=dark] .colab-df-convert {\n",
              "      background-color: #3B4455;\n",
              "      fill: #D2E3FC;\n",
              "    }\n",
              "\n",
              "    [theme=dark] .colab-df-convert:hover {\n",
              "      background-color: #434B5C;\n",
              "      box-shadow: 0px 1px 3px 1px rgba(0, 0, 0, 0.15);\n",
              "      filter: drop-shadow(0px 1px 2px rgba(0, 0, 0, 0.3));\n",
              "      fill: #FFFFFF;\n",
              "    }\n",
              "  </style>\n",
              "\n",
              "      <script>\n",
              "        const buttonEl =\n",
              "          document.querySelector('#df-0cb8a15d-6947-44a1-8960-dcb135442946 button.colab-df-convert');\n",
              "        buttonEl.style.display =\n",
              "          google.colab.kernel.accessAllowed ? 'block' : 'none';\n",
              "\n",
              "        async function convertToInteractive(key) {\n",
              "          const element = document.querySelector('#df-0cb8a15d-6947-44a1-8960-dcb135442946');\n",
              "          const dataTable =\n",
              "            await google.colab.kernel.invokeFunction('convertToInteractive',\n",
              "                                                     [key], {});\n",
              "          if (!dataTable) return;\n",
              "\n",
              "          const docLinkHtml = 'Like what you see? Visit the ' +\n",
              "            '<a target=\"_blank\" href=https://colab.research.google.com/notebooks/data_table.ipynb>data table notebook</a>'\n",
              "            + ' to learn more about interactive tables.';\n",
              "          element.innerHTML = '';\n",
              "          dataTable['output_type'] = 'display_data';\n",
              "          await google.colab.output.renderOutput(dataTable, element);\n",
              "          const docLink = document.createElement('div');\n",
              "          docLink.innerHTML = docLinkHtml;\n",
              "          element.appendChild(docLink);\n",
              "        }\n",
              "      </script>\n",
              "    </div>\n",
              "  </div>\n",
              "  "
            ]
          },
          "metadata": {},
          "execution_count": 154
        }
      ]
    },
    {
      "metadata": {
        "trusted": true,
        "colab": {
          "base_uri": "https://localhost:8080/"
        },
        "id": "2N_hbyaNY272",
        "outputId": "24cdcf9e-f488-46a9-e08c-511160da30cd"
      },
      "cell_type": "code",
      "source": [
        "# check distribution of target variable\n",
        "df_out['Revenue'].value_counts()"
      ],
      "execution_count": 155,
      "outputs": [
        {
          "output_type": "execute_result",
          "data": {
            "text/plain": [
              "0    336\n",
              "1    288\n",
              "Name: Revenue, dtype: int64"
            ]
          },
          "metadata": {},
          "execution_count": 155
        }
      ]
    },
    {
      "metadata": {
        "trusted": true,
        "colab": {
          "base_uri": "https://localhost:8080/"
        },
        "id": "fx-mFXSkY273",
        "outputId": "af81f19f-7938-4634-daf5-5cf24e1bea86"
      },
      "cell_type": "code",
      "source": [
        "df_out.drop(['revenue'],axis=1, inplace=True)"
      ],
      "execution_count": 156,
      "outputs": [
        {
          "output_type": "stream",
          "name": "stderr",
          "text": [
            "/usr/local/lib/python3.7/dist-packages/pandas/core/frame.py:4913: SettingWithCopyWarning: \n",
            "A value is trying to be set on a copy of a slice from a DataFrame\n",
            "\n",
            "See the caveats in the documentation: https://pandas.pydata.org/pandas-docs/stable/user_guide/indexing.html#returning-a-view-versus-a-copy\n",
            "  errors=errors,\n"
          ]
        }
      ]
    },
    {
      "metadata": {
        "trusted": true,
        "colab": {
          "base_uri": "https://localhost:8080/",
          "height": 505
        },
        "id": "27Qy2nQ2Y273",
        "outputId": "09789bb9-a4de-4c62-ab79-2b7aa1ad882a"
      },
      "cell_type": "code",
      "source": [
        "df_out"
      ],
      "execution_count": 157,
      "outputs": [
        {
          "output_type": "execute_result",
          "data": {
            "text/plain": [
              "           budget  popularity  vote_average  vote_count    return  \\\n",
              "51     15000000.0       15.90           6.7       145.0  0.446667   \n",
              "74     15000000.0        2.94           3.9        16.0  0.136169   \n",
              "117    25000000.0        1.52           5.1         7.0  0.251126   \n",
              "167    20000000.0       14.81           6.2       406.0  0.378186   \n",
              "172     1500000.0        4.88           6.8       280.0  4.941477   \n",
              "...           ...         ...           ...         ...       ...   \n",
              "44103   5000000.0        0.41           5.6         7.0  0.783946   \n",
              "44129   5000000.0        8.97           6.4        25.0  1.340000   \n",
              "44711   8500000.0        1.54           4.7        14.0  0.674188   \n",
              "44848   2000000.0        1.46           5.3         9.0  5.833044   \n",
              "44970   2196531.0        0.95           5.6        10.0  1.097910   \n",
              "\n",
              "       genre_ed_Action  genre_ed_Adventure  genre_ed_Animation  \\\n",
              "51                   0                   0                   0   \n",
              "74                   0                   0                   0   \n",
              "117                  0                   0                   0   \n",
              "167                  1                   0                   0   \n",
              "172                  0                   0                   0   \n",
              "...                ...                 ...                 ...   \n",
              "44103                1                   0                   0   \n",
              "44129                0                   0                   0   \n",
              "44711                1                   0                   0   \n",
              "44848                0                   0                   0   \n",
              "44970                0                   0                   0   \n",
              "\n",
              "       genre_ed_Comedy  genre_ed_Crime  genre_ed_Drama  genre_ed_Fantasy  \\\n",
              "51                   1               0               0                 0   \n",
              "74                   1               0               0                 0   \n",
              "117                  1               0               0                 0   \n",
              "167                  0               0               0                 0   \n",
              "172                  0               0               1                 0   \n",
              "...                ...             ...             ...               ...   \n",
              "44103                0               0               0                 0   \n",
              "44129                0               0               1                 0   \n",
              "44711                0               0               0                 0   \n",
              "44848                1               0               0                 0   \n",
              "44970                1               0               0                 0   \n",
              "\n",
              "       genre_ed_Horror  genre_ed_Romance  genre_ed_Science Fiction  \\\n",
              "51                   0                 0                         0   \n",
              "74                   0                 0                         0   \n",
              "117                  0                 0                         0   \n",
              "167                  0                 0                         0   \n",
              "172                  0                 0                         0   \n",
              "...                ...               ...                       ...   \n",
              "44103                0                 0                         0   \n",
              "44129                0                 0                         0   \n",
              "44711                0                 0                         0   \n",
              "44848                0                 0                         0   \n",
              "44970                0                 0                         0   \n",
              "\n",
              "       genre_ed_Thriller  Revenue  \n",
              "51                     0        0  \n",
              "74                     0        0  \n",
              "117                    0        0  \n",
              "167                    0        1  \n",
              "172                    0        1  \n",
              "...                  ...      ...  \n",
              "44103                  0        0  \n",
              "44129                  0        0  \n",
              "44711                  0        0  \n",
              "44848                  0        1  \n",
              "44970                  0        0  \n",
              "\n",
              "[624 rows x 17 columns]"
            ],
            "text/html": [
              "\n",
              "  <div id=\"df-a4e762e6-c931-4374-a9d6-fbe6203575f3\">\n",
              "    <div class=\"colab-df-container\">\n",
              "      <div>\n",
              "<style scoped>\n",
              "    .dataframe tbody tr th:only-of-type {\n",
              "        vertical-align: middle;\n",
              "    }\n",
              "\n",
              "    .dataframe tbody tr th {\n",
              "        vertical-align: top;\n",
              "    }\n",
              "\n",
              "    .dataframe thead th {\n",
              "        text-align: right;\n",
              "    }\n",
              "</style>\n",
              "<table border=\"1\" class=\"dataframe\">\n",
              "  <thead>\n",
              "    <tr style=\"text-align: right;\">\n",
              "      <th></th>\n",
              "      <th>budget</th>\n",
              "      <th>popularity</th>\n",
              "      <th>vote_average</th>\n",
              "      <th>vote_count</th>\n",
              "      <th>return</th>\n",
              "      <th>genre_ed_Action</th>\n",
              "      <th>genre_ed_Adventure</th>\n",
              "      <th>genre_ed_Animation</th>\n",
              "      <th>genre_ed_Comedy</th>\n",
              "      <th>genre_ed_Crime</th>\n",
              "      <th>genre_ed_Drama</th>\n",
              "      <th>genre_ed_Fantasy</th>\n",
              "      <th>genre_ed_Horror</th>\n",
              "      <th>genre_ed_Romance</th>\n",
              "      <th>genre_ed_Science Fiction</th>\n",
              "      <th>genre_ed_Thriller</th>\n",
              "      <th>Revenue</th>\n",
              "    </tr>\n",
              "  </thead>\n",
              "  <tbody>\n",
              "    <tr>\n",
              "      <th>51</th>\n",
              "      <td>15000000.0</td>\n",
              "      <td>15.90</td>\n",
              "      <td>6.7</td>\n",
              "      <td>145.0</td>\n",
              "      <td>0.446667</td>\n",
              "      <td>0</td>\n",
              "      <td>0</td>\n",
              "      <td>0</td>\n",
              "      <td>1</td>\n",
              "      <td>0</td>\n",
              "      <td>0</td>\n",
              "      <td>0</td>\n",
              "      <td>0</td>\n",
              "      <td>0</td>\n",
              "      <td>0</td>\n",
              "      <td>0</td>\n",
              "      <td>0</td>\n",
              "    </tr>\n",
              "    <tr>\n",
              "      <th>74</th>\n",
              "      <td>15000000.0</td>\n",
              "      <td>2.94</td>\n",
              "      <td>3.9</td>\n",
              "      <td>16.0</td>\n",
              "      <td>0.136169</td>\n",
              "      <td>0</td>\n",
              "      <td>0</td>\n",
              "      <td>0</td>\n",
              "      <td>1</td>\n",
              "      <td>0</td>\n",
              "      <td>0</td>\n",
              "      <td>0</td>\n",
              "      <td>0</td>\n",
              "      <td>0</td>\n",
              "      <td>0</td>\n",
              "      <td>0</td>\n",
              "      <td>0</td>\n",
              "    </tr>\n",
              "    <tr>\n",
              "      <th>117</th>\n",
              "      <td>25000000.0</td>\n",
              "      <td>1.52</td>\n",
              "      <td>5.1</td>\n",
              "      <td>7.0</td>\n",
              "      <td>0.251126</td>\n",
              "      <td>0</td>\n",
              "      <td>0</td>\n",
              "      <td>0</td>\n",
              "      <td>1</td>\n",
              "      <td>0</td>\n",
              "      <td>0</td>\n",
              "      <td>0</td>\n",
              "      <td>0</td>\n",
              "      <td>0</td>\n",
              "      <td>0</td>\n",
              "      <td>0</td>\n",
              "      <td>0</td>\n",
              "    </tr>\n",
              "    <tr>\n",
              "      <th>167</th>\n",
              "      <td>20000000.0</td>\n",
              "      <td>14.81</td>\n",
              "      <td>6.2</td>\n",
              "      <td>406.0</td>\n",
              "      <td>0.378186</td>\n",
              "      <td>1</td>\n",
              "      <td>0</td>\n",
              "      <td>0</td>\n",
              "      <td>0</td>\n",
              "      <td>0</td>\n",
              "      <td>0</td>\n",
              "      <td>0</td>\n",
              "      <td>0</td>\n",
              "      <td>0</td>\n",
              "      <td>0</td>\n",
              "      <td>0</td>\n",
              "      <td>1</td>\n",
              "    </tr>\n",
              "    <tr>\n",
              "      <th>172</th>\n",
              "      <td>1500000.0</td>\n",
              "      <td>4.88</td>\n",
              "      <td>6.8</td>\n",
              "      <td>280.0</td>\n",
              "      <td>4.941477</td>\n",
              "      <td>0</td>\n",
              "      <td>0</td>\n",
              "      <td>0</td>\n",
              "      <td>0</td>\n",
              "      <td>0</td>\n",
              "      <td>1</td>\n",
              "      <td>0</td>\n",
              "      <td>0</td>\n",
              "      <td>0</td>\n",
              "      <td>0</td>\n",
              "      <td>0</td>\n",
              "      <td>1</td>\n",
              "    </tr>\n",
              "    <tr>\n",
              "      <th>...</th>\n",
              "      <td>...</td>\n",
              "      <td>...</td>\n",
              "      <td>...</td>\n",
              "      <td>...</td>\n",
              "      <td>...</td>\n",
              "      <td>...</td>\n",
              "      <td>...</td>\n",
              "      <td>...</td>\n",
              "      <td>...</td>\n",
              "      <td>...</td>\n",
              "      <td>...</td>\n",
              "      <td>...</td>\n",
              "      <td>...</td>\n",
              "      <td>...</td>\n",
              "      <td>...</td>\n",
              "      <td>...</td>\n",
              "      <td>...</td>\n",
              "    </tr>\n",
              "    <tr>\n",
              "      <th>44103</th>\n",
              "      <td>5000000.0</td>\n",
              "      <td>0.41</td>\n",
              "      <td>5.6</td>\n",
              "      <td>7.0</td>\n",
              "      <td>0.783946</td>\n",
              "      <td>1</td>\n",
              "      <td>0</td>\n",
              "      <td>0</td>\n",
              "      <td>0</td>\n",
              "      <td>0</td>\n",
              "      <td>0</td>\n",
              "      <td>0</td>\n",
              "      <td>0</td>\n",
              "      <td>0</td>\n",
              "      <td>0</td>\n",
              "      <td>0</td>\n",
              "      <td>0</td>\n",
              "    </tr>\n",
              "    <tr>\n",
              "      <th>44129</th>\n",
              "      <td>5000000.0</td>\n",
              "      <td>8.97</td>\n",
              "      <td>6.4</td>\n",
              "      <td>25.0</td>\n",
              "      <td>1.340000</td>\n",
              "      <td>0</td>\n",
              "      <td>0</td>\n",
              "      <td>0</td>\n",
              "      <td>0</td>\n",
              "      <td>0</td>\n",
              "      <td>1</td>\n",
              "      <td>0</td>\n",
              "      <td>0</td>\n",
              "      <td>0</td>\n",
              "      <td>0</td>\n",
              "      <td>0</td>\n",
              "      <td>0</td>\n",
              "    </tr>\n",
              "    <tr>\n",
              "      <th>44711</th>\n",
              "      <td>8500000.0</td>\n",
              "      <td>1.54</td>\n",
              "      <td>4.7</td>\n",
              "      <td>14.0</td>\n",
              "      <td>0.674188</td>\n",
              "      <td>1</td>\n",
              "      <td>0</td>\n",
              "      <td>0</td>\n",
              "      <td>0</td>\n",
              "      <td>0</td>\n",
              "      <td>0</td>\n",
              "      <td>0</td>\n",
              "      <td>0</td>\n",
              "      <td>0</td>\n",
              "      <td>0</td>\n",
              "      <td>0</td>\n",
              "      <td>0</td>\n",
              "    </tr>\n",
              "    <tr>\n",
              "      <th>44848</th>\n",
              "      <td>2000000.0</td>\n",
              "      <td>1.46</td>\n",
              "      <td>5.3</td>\n",
              "      <td>9.0</td>\n",
              "      <td>5.833044</td>\n",
              "      <td>0</td>\n",
              "      <td>0</td>\n",
              "      <td>0</td>\n",
              "      <td>1</td>\n",
              "      <td>0</td>\n",
              "      <td>0</td>\n",
              "      <td>0</td>\n",
              "      <td>0</td>\n",
              "      <td>0</td>\n",
              "      <td>0</td>\n",
              "      <td>0</td>\n",
              "      <td>1</td>\n",
              "    </tr>\n",
              "    <tr>\n",
              "      <th>44970</th>\n",
              "      <td>2196531.0</td>\n",
              "      <td>0.95</td>\n",
              "      <td>5.6</td>\n",
              "      <td>10.0</td>\n",
              "      <td>1.097910</td>\n",
              "      <td>0</td>\n",
              "      <td>0</td>\n",
              "      <td>0</td>\n",
              "      <td>1</td>\n",
              "      <td>0</td>\n",
              "      <td>0</td>\n",
              "      <td>0</td>\n",
              "      <td>0</td>\n",
              "      <td>0</td>\n",
              "      <td>0</td>\n",
              "      <td>0</td>\n",
              "      <td>0</td>\n",
              "    </tr>\n",
              "  </tbody>\n",
              "</table>\n",
              "<p>624 rows × 17 columns</p>\n",
              "</div>\n",
              "      <button class=\"colab-df-convert\" onclick=\"convertToInteractive('df-a4e762e6-c931-4374-a9d6-fbe6203575f3')\"\n",
              "              title=\"Convert this dataframe to an interactive table.\"\n",
              "              style=\"display:none;\">\n",
              "        \n",
              "  <svg xmlns=\"http://www.w3.org/2000/svg\" height=\"24px\"viewBox=\"0 0 24 24\"\n",
              "       width=\"24px\">\n",
              "    <path d=\"M0 0h24v24H0V0z\" fill=\"none\"/>\n",
              "    <path d=\"M18.56 5.44l.94 2.06.94-2.06 2.06-.94-2.06-.94-.94-2.06-.94 2.06-2.06.94zm-11 1L8.5 8.5l.94-2.06 2.06-.94-2.06-.94L8.5 2.5l-.94 2.06-2.06.94zm10 10l.94 2.06.94-2.06 2.06-.94-2.06-.94-.94-2.06-.94 2.06-2.06.94z\"/><path d=\"M17.41 7.96l-1.37-1.37c-.4-.4-.92-.59-1.43-.59-.52 0-1.04.2-1.43.59L10.3 9.45l-7.72 7.72c-.78.78-.78 2.05 0 2.83L4 21.41c.39.39.9.59 1.41.59.51 0 1.02-.2 1.41-.59l7.78-7.78 2.81-2.81c.8-.78.8-2.07 0-2.86zM5.41 20L4 18.59l7.72-7.72 1.47 1.35L5.41 20z\"/>\n",
              "  </svg>\n",
              "      </button>\n",
              "      \n",
              "  <style>\n",
              "    .colab-df-container {\n",
              "      display:flex;\n",
              "      flex-wrap:wrap;\n",
              "      gap: 12px;\n",
              "    }\n",
              "\n",
              "    .colab-df-convert {\n",
              "      background-color: #E8F0FE;\n",
              "      border: none;\n",
              "      border-radius: 50%;\n",
              "      cursor: pointer;\n",
              "      display: none;\n",
              "      fill: #1967D2;\n",
              "      height: 32px;\n",
              "      padding: 0 0 0 0;\n",
              "      width: 32px;\n",
              "    }\n",
              "\n",
              "    .colab-df-convert:hover {\n",
              "      background-color: #E2EBFA;\n",
              "      box-shadow: 0px 1px 2px rgba(60, 64, 67, 0.3), 0px 1px 3px 1px rgba(60, 64, 67, 0.15);\n",
              "      fill: #174EA6;\n",
              "    }\n",
              "\n",
              "    [theme=dark] .colab-df-convert {\n",
              "      background-color: #3B4455;\n",
              "      fill: #D2E3FC;\n",
              "    }\n",
              "\n",
              "    [theme=dark] .colab-df-convert:hover {\n",
              "      background-color: #434B5C;\n",
              "      box-shadow: 0px 1px 3px 1px rgba(0, 0, 0, 0.15);\n",
              "      filter: drop-shadow(0px 1px 2px rgba(0, 0, 0, 0.3));\n",
              "      fill: #FFFFFF;\n",
              "    }\n",
              "  </style>\n",
              "\n",
              "      <script>\n",
              "        const buttonEl =\n",
              "          document.querySelector('#df-a4e762e6-c931-4374-a9d6-fbe6203575f3 button.colab-df-convert');\n",
              "        buttonEl.style.display =\n",
              "          google.colab.kernel.accessAllowed ? 'block' : 'none';\n",
              "\n",
              "        async function convertToInteractive(key) {\n",
              "          const element = document.querySelector('#df-a4e762e6-c931-4374-a9d6-fbe6203575f3');\n",
              "          const dataTable =\n",
              "            await google.colab.kernel.invokeFunction('convertToInteractive',\n",
              "                                                     [key], {});\n",
              "          if (!dataTable) return;\n",
              "\n",
              "          const docLinkHtml = 'Like what you see? Visit the ' +\n",
              "            '<a target=\"_blank\" href=https://colab.research.google.com/notebooks/data_table.ipynb>data table notebook</a>'\n",
              "            + ' to learn more about interactive tables.';\n",
              "          element.innerHTML = '';\n",
              "          dataTable['output_type'] = 'display_data';\n",
              "          await google.colab.output.renderOutput(dataTable, element);\n",
              "          const docLink = document.createElement('div');\n",
              "          docLink.innerHTML = docLinkHtml;\n",
              "          element.appendChild(docLink);\n",
              "        }\n",
              "      </script>\n",
              "    </div>\n",
              "  </div>\n",
              "  "
            ]
          },
          "metadata": {},
          "execution_count": 157
        }
      ]
    },
    {
      "metadata": {
        "id": "SBjD6W1XY274"
      },
      "cell_type": "markdown",
      "source": [
        "# 3) Split Data into X and Y"
      ]
    },
    {
      "metadata": {
        "trusted": true,
        "colab": {
          "base_uri": "https://localhost:8080/"
        },
        "id": "JmUPFSs1Y275",
        "outputId": "83d41fc3-a383-4fa0-fab3-db59608dc797"
      },
      "cell_type": "code",
      "source": [
        "# Assign X and Y\n",
        "X = df_out.drop(['Revenue'], axis=1)\n",
        "y = df_out['Revenue']\n",
        "\n",
        "print(X.shape)\n",
        "print(y.shape)"
      ],
      "execution_count": 158,
      "outputs": [
        {
          "output_type": "stream",
          "name": "stdout",
          "text": [
            "(624, 16)\n",
            "(624,)\n"
          ]
        }
      ]
    },
    {
      "metadata": {
        "trusted": true,
        "id": "LS57BnbAY276"
      },
      "cell_type": "code",
      "source": [
        "import imblearn.under_sampling as u\n",
        "# example of random oversampling to balance the class distribution\n",
        "from collections import Counter\n",
        "from sklearn.datasets import make_classification\n",
        "from imblearn.over_sampling import RandomOverSampler\n",
        "\n",
        "X,y = make_classification(n_features = 16, n_samples=312) \n",
        "# Make classification default = 20, so I need to set the number\n",
        "ros = u.RandomUnderSampler(sampling_strategy='majority')\n",
        "X_resampled, Y_resampled = ros.fit_resample(X, y)"
      ],
      "execution_count": 159,
      "outputs": []
    },
    {
      "metadata": {
        "trusted": true,
        "colab": {
          "base_uri": "https://localhost:8080/"
        },
        "id": "vbkkk8-nY279",
        "outputId": "0d228df5-a218-40a7-cd91-6f7899e40c5d"
      },
      "cell_type": "code",
      "source": [
        "X_resampled = pd.DataFrame(X_resampled)\n",
        "print(X_resampled.shape)\n",
        "\n",
        "Y_resampled = pd.DataFrame(Y_resampled)\n",
        "print(Y_resampled.shape)"
      ],
      "execution_count": 160,
      "outputs": [
        {
          "output_type": "stream",
          "name": "stdout",
          "text": [
            "(310, 16)\n",
            "(310, 1)\n"
          ]
        }
      ]
    },
    {
      "metadata": {
        "trusted": true,
        "id": "wk_qBOwZY27-"
      },
      "cell_type": "code",
      "source": [
        "X_resampled.columns = ['budget', 'popularity', 'vote_average', 'vote_count','return',\n",
        "       'genre_ed_Action', 'genre_ed_Adventure', 'genre_ed_Animation',\n",
        "       'genre_ed_Comedy', 'genre_ed_Crime', 'genre_ed_Drama',\n",
        "       'genre_ed_Fantasy', 'genre_ed_Horror', 'genre_ed_Romance',\n",
        "       'genre_ed_Science Fiction', 'genre_ed_Thriller']"
      ],
      "execution_count": 161,
      "outputs": []
    },
    {
      "metadata": {
        "trusted": true,
        "colab": {
          "base_uri": "https://localhost:8080/",
          "height": 505
        },
        "id": "Wui7RbJ8Y27_",
        "outputId": "99bf4558-dbe2-4611-aee6-0e13c0f18396"
      },
      "cell_type": "code",
      "source": [
        "X_resampled"
      ],
      "execution_count": 162,
      "outputs": [
        {
          "output_type": "execute_result",
          "data": {
            "text/plain": [
              "       budget  popularity  vote_average  vote_count    return  \\\n",
              "0    1.846469    1.282066     -1.263441   -0.272411  2.108029   \n",
              "1    0.618475    2.182981     -2.140589   -1.433647  0.961092   \n",
              "2    2.210608    0.320243     -1.352090    1.165471 -0.347026   \n",
              "3    2.661265   -0.988553     -1.440161   -0.631828 -1.843400   \n",
              "4    1.696721   -0.502090     -1.772586   -1.579814  0.622539   \n",
              "..        ...         ...           ...         ...       ...   \n",
              "305 -0.411653   -0.060995      0.173538   -0.345793  2.351842   \n",
              "306  0.817520    1.642295      1.178470    0.528715 -1.634626   \n",
              "307 -0.253257   -1.829597      0.940652   -0.015483 -0.252963   \n",
              "308 -0.822772    0.101952      0.300890    0.959425  0.780225   \n",
              "309 -0.828579   -0.889781      0.617654    0.796761 -0.905504   \n",
              "\n",
              "     genre_ed_Action  genre_ed_Adventure  genre_ed_Animation  genre_ed_Comedy  \\\n",
              "0           0.335009           -2.080483            0.528777        -0.149107   \n",
              "1          -0.097176           -1.282071            0.720880        -1.805027   \n",
              "2          -0.089673           -0.219642            0.707719         1.508215   \n",
              "3          -0.816821            0.574384            0.339254         0.599620   \n",
              "4          -0.409117            1.705254            0.096973         1.311342   \n",
              "..               ...                 ...                 ...              ...   \n",
              "305        -0.201201           -0.220623            0.986373         0.463482   \n",
              "306        -0.302321           -0.733614            1.530000         0.546612   \n",
              "307         0.223671           -2.001960            1.506602         2.100021   \n",
              "308         1.095802            1.163104           -1.557074         1.300012   \n",
              "309        -0.117289            2.269668            0.791785         0.659692   \n",
              "\n",
              "     genre_ed_Crime  genre_ed_Drama  genre_ed_Fantasy  genre_ed_Horror  \\\n",
              "0         -1.506415       -1.343031         -3.119663        -0.062748   \n",
              "1          0.276191       -1.341872          0.194364         1.155886   \n",
              "2         -0.910626       -1.524518          0.620267        -0.603283   \n",
              "3         -0.276357       -1.737884         -1.463156        -0.979793   \n",
              "4          0.711625       -1.551784         -2.869414         0.296505   \n",
              "..              ...             ...               ...              ...   \n",
              "305        2.018533        0.243251         -0.219805        -3.101002   \n",
              "306       -0.249475        0.308024         -0.616081        -1.054687   \n",
              "307       -1.158086        0.582777          0.198009        -0.289298   \n",
              "308       -1.044935        0.462314         -0.803540        -1.125618   \n",
              "309        1.110749        0.629002         -1.160364        -1.146712   \n",
              "\n",
              "     genre_ed_Romance  genre_ed_Science Fiction  genre_ed_Thriller  \n",
              "0           -0.814628                  0.088744           1.082756  \n",
              "1            0.309321                  2.291337          -0.883438  \n",
              "2           -1.385405                  0.255581           1.412749  \n",
              "3           -1.127033                 -1.042343           1.836848  \n",
              "4           -0.086956                  0.789643           0.551175  \n",
              "..                ...                       ...                ...  \n",
              "305         -0.303930                  1.199995          -0.319850  \n",
              "306         -0.826094                 -0.819280           1.740337  \n",
              "307         -0.641405                 -1.803393           0.408272  \n",
              "308          0.898376                 -1.341134          -0.672633  \n",
              "309          0.064124                 -0.408184          -0.449085  \n",
              "\n",
              "[310 rows x 16 columns]"
            ],
            "text/html": [
              "\n",
              "  <div id=\"df-87be50f7-ea61-46a1-b12d-a38d7ce053a6\">\n",
              "    <div class=\"colab-df-container\">\n",
              "      <div>\n",
              "<style scoped>\n",
              "    .dataframe tbody tr th:only-of-type {\n",
              "        vertical-align: middle;\n",
              "    }\n",
              "\n",
              "    .dataframe tbody tr th {\n",
              "        vertical-align: top;\n",
              "    }\n",
              "\n",
              "    .dataframe thead th {\n",
              "        text-align: right;\n",
              "    }\n",
              "</style>\n",
              "<table border=\"1\" class=\"dataframe\">\n",
              "  <thead>\n",
              "    <tr style=\"text-align: right;\">\n",
              "      <th></th>\n",
              "      <th>budget</th>\n",
              "      <th>popularity</th>\n",
              "      <th>vote_average</th>\n",
              "      <th>vote_count</th>\n",
              "      <th>return</th>\n",
              "      <th>genre_ed_Action</th>\n",
              "      <th>genre_ed_Adventure</th>\n",
              "      <th>genre_ed_Animation</th>\n",
              "      <th>genre_ed_Comedy</th>\n",
              "      <th>genre_ed_Crime</th>\n",
              "      <th>genre_ed_Drama</th>\n",
              "      <th>genre_ed_Fantasy</th>\n",
              "      <th>genre_ed_Horror</th>\n",
              "      <th>genre_ed_Romance</th>\n",
              "      <th>genre_ed_Science Fiction</th>\n",
              "      <th>genre_ed_Thriller</th>\n",
              "    </tr>\n",
              "  </thead>\n",
              "  <tbody>\n",
              "    <tr>\n",
              "      <th>0</th>\n",
              "      <td>1.846469</td>\n",
              "      <td>1.282066</td>\n",
              "      <td>-1.263441</td>\n",
              "      <td>-0.272411</td>\n",
              "      <td>2.108029</td>\n",
              "      <td>0.335009</td>\n",
              "      <td>-2.080483</td>\n",
              "      <td>0.528777</td>\n",
              "      <td>-0.149107</td>\n",
              "      <td>-1.506415</td>\n",
              "      <td>-1.343031</td>\n",
              "      <td>-3.119663</td>\n",
              "      <td>-0.062748</td>\n",
              "      <td>-0.814628</td>\n",
              "      <td>0.088744</td>\n",
              "      <td>1.082756</td>\n",
              "    </tr>\n",
              "    <tr>\n",
              "      <th>1</th>\n",
              "      <td>0.618475</td>\n",
              "      <td>2.182981</td>\n",
              "      <td>-2.140589</td>\n",
              "      <td>-1.433647</td>\n",
              "      <td>0.961092</td>\n",
              "      <td>-0.097176</td>\n",
              "      <td>-1.282071</td>\n",
              "      <td>0.720880</td>\n",
              "      <td>-1.805027</td>\n",
              "      <td>0.276191</td>\n",
              "      <td>-1.341872</td>\n",
              "      <td>0.194364</td>\n",
              "      <td>1.155886</td>\n",
              "      <td>0.309321</td>\n",
              "      <td>2.291337</td>\n",
              "      <td>-0.883438</td>\n",
              "    </tr>\n",
              "    <tr>\n",
              "      <th>2</th>\n",
              "      <td>2.210608</td>\n",
              "      <td>0.320243</td>\n",
              "      <td>-1.352090</td>\n",
              "      <td>1.165471</td>\n",
              "      <td>-0.347026</td>\n",
              "      <td>-0.089673</td>\n",
              "      <td>-0.219642</td>\n",
              "      <td>0.707719</td>\n",
              "      <td>1.508215</td>\n",
              "      <td>-0.910626</td>\n",
              "      <td>-1.524518</td>\n",
              "      <td>0.620267</td>\n",
              "      <td>-0.603283</td>\n",
              "      <td>-1.385405</td>\n",
              "      <td>0.255581</td>\n",
              "      <td>1.412749</td>\n",
              "    </tr>\n",
              "    <tr>\n",
              "      <th>3</th>\n",
              "      <td>2.661265</td>\n",
              "      <td>-0.988553</td>\n",
              "      <td>-1.440161</td>\n",
              "      <td>-0.631828</td>\n",
              "      <td>-1.843400</td>\n",
              "      <td>-0.816821</td>\n",
              "      <td>0.574384</td>\n",
              "      <td>0.339254</td>\n",
              "      <td>0.599620</td>\n",
              "      <td>-0.276357</td>\n",
              "      <td>-1.737884</td>\n",
              "      <td>-1.463156</td>\n",
              "      <td>-0.979793</td>\n",
              "      <td>-1.127033</td>\n",
              "      <td>-1.042343</td>\n",
              "      <td>1.836848</td>\n",
              "    </tr>\n",
              "    <tr>\n",
              "      <th>4</th>\n",
              "      <td>1.696721</td>\n",
              "      <td>-0.502090</td>\n",
              "      <td>-1.772586</td>\n",
              "      <td>-1.579814</td>\n",
              "      <td>0.622539</td>\n",
              "      <td>-0.409117</td>\n",
              "      <td>1.705254</td>\n",
              "      <td>0.096973</td>\n",
              "      <td>1.311342</td>\n",
              "      <td>0.711625</td>\n",
              "      <td>-1.551784</td>\n",
              "      <td>-2.869414</td>\n",
              "      <td>0.296505</td>\n",
              "      <td>-0.086956</td>\n",
              "      <td>0.789643</td>\n",
              "      <td>0.551175</td>\n",
              "    </tr>\n",
              "    <tr>\n",
              "      <th>...</th>\n",
              "      <td>...</td>\n",
              "      <td>...</td>\n",
              "      <td>...</td>\n",
              "      <td>...</td>\n",
              "      <td>...</td>\n",
              "      <td>...</td>\n",
              "      <td>...</td>\n",
              "      <td>...</td>\n",
              "      <td>...</td>\n",
              "      <td>...</td>\n",
              "      <td>...</td>\n",
              "      <td>...</td>\n",
              "      <td>...</td>\n",
              "      <td>...</td>\n",
              "      <td>...</td>\n",
              "      <td>...</td>\n",
              "    </tr>\n",
              "    <tr>\n",
              "      <th>305</th>\n",
              "      <td>-0.411653</td>\n",
              "      <td>-0.060995</td>\n",
              "      <td>0.173538</td>\n",
              "      <td>-0.345793</td>\n",
              "      <td>2.351842</td>\n",
              "      <td>-0.201201</td>\n",
              "      <td>-0.220623</td>\n",
              "      <td>0.986373</td>\n",
              "      <td>0.463482</td>\n",
              "      <td>2.018533</td>\n",
              "      <td>0.243251</td>\n",
              "      <td>-0.219805</td>\n",
              "      <td>-3.101002</td>\n",
              "      <td>-0.303930</td>\n",
              "      <td>1.199995</td>\n",
              "      <td>-0.319850</td>\n",
              "    </tr>\n",
              "    <tr>\n",
              "      <th>306</th>\n",
              "      <td>0.817520</td>\n",
              "      <td>1.642295</td>\n",
              "      <td>1.178470</td>\n",
              "      <td>0.528715</td>\n",
              "      <td>-1.634626</td>\n",
              "      <td>-0.302321</td>\n",
              "      <td>-0.733614</td>\n",
              "      <td>1.530000</td>\n",
              "      <td>0.546612</td>\n",
              "      <td>-0.249475</td>\n",
              "      <td>0.308024</td>\n",
              "      <td>-0.616081</td>\n",
              "      <td>-1.054687</td>\n",
              "      <td>-0.826094</td>\n",
              "      <td>-0.819280</td>\n",
              "      <td>1.740337</td>\n",
              "    </tr>\n",
              "    <tr>\n",
              "      <th>307</th>\n",
              "      <td>-0.253257</td>\n",
              "      <td>-1.829597</td>\n",
              "      <td>0.940652</td>\n",
              "      <td>-0.015483</td>\n",
              "      <td>-0.252963</td>\n",
              "      <td>0.223671</td>\n",
              "      <td>-2.001960</td>\n",
              "      <td>1.506602</td>\n",
              "      <td>2.100021</td>\n",
              "      <td>-1.158086</td>\n",
              "      <td>0.582777</td>\n",
              "      <td>0.198009</td>\n",
              "      <td>-0.289298</td>\n",
              "      <td>-0.641405</td>\n",
              "      <td>-1.803393</td>\n",
              "      <td>0.408272</td>\n",
              "    </tr>\n",
              "    <tr>\n",
              "      <th>308</th>\n",
              "      <td>-0.822772</td>\n",
              "      <td>0.101952</td>\n",
              "      <td>0.300890</td>\n",
              "      <td>0.959425</td>\n",
              "      <td>0.780225</td>\n",
              "      <td>1.095802</td>\n",
              "      <td>1.163104</td>\n",
              "      <td>-1.557074</td>\n",
              "      <td>1.300012</td>\n",
              "      <td>-1.044935</td>\n",
              "      <td>0.462314</td>\n",
              "      <td>-0.803540</td>\n",
              "      <td>-1.125618</td>\n",
              "      <td>0.898376</td>\n",
              "      <td>-1.341134</td>\n",
              "      <td>-0.672633</td>\n",
              "    </tr>\n",
              "    <tr>\n",
              "      <th>309</th>\n",
              "      <td>-0.828579</td>\n",
              "      <td>-0.889781</td>\n",
              "      <td>0.617654</td>\n",
              "      <td>0.796761</td>\n",
              "      <td>-0.905504</td>\n",
              "      <td>-0.117289</td>\n",
              "      <td>2.269668</td>\n",
              "      <td>0.791785</td>\n",
              "      <td>0.659692</td>\n",
              "      <td>1.110749</td>\n",
              "      <td>0.629002</td>\n",
              "      <td>-1.160364</td>\n",
              "      <td>-1.146712</td>\n",
              "      <td>0.064124</td>\n",
              "      <td>-0.408184</td>\n",
              "      <td>-0.449085</td>\n",
              "    </tr>\n",
              "  </tbody>\n",
              "</table>\n",
              "<p>310 rows × 16 columns</p>\n",
              "</div>\n",
              "      <button class=\"colab-df-convert\" onclick=\"convertToInteractive('df-87be50f7-ea61-46a1-b12d-a38d7ce053a6')\"\n",
              "              title=\"Convert this dataframe to an interactive table.\"\n",
              "              style=\"display:none;\">\n",
              "        \n",
              "  <svg xmlns=\"http://www.w3.org/2000/svg\" height=\"24px\"viewBox=\"0 0 24 24\"\n",
              "       width=\"24px\">\n",
              "    <path d=\"M0 0h24v24H0V0z\" fill=\"none\"/>\n",
              "    <path d=\"M18.56 5.44l.94 2.06.94-2.06 2.06-.94-2.06-.94-.94-2.06-.94 2.06-2.06.94zm-11 1L8.5 8.5l.94-2.06 2.06-.94-2.06-.94L8.5 2.5l-.94 2.06-2.06.94zm10 10l.94 2.06.94-2.06 2.06-.94-2.06-.94-.94-2.06-.94 2.06-2.06.94z\"/><path d=\"M17.41 7.96l-1.37-1.37c-.4-.4-.92-.59-1.43-.59-.52 0-1.04.2-1.43.59L10.3 9.45l-7.72 7.72c-.78.78-.78 2.05 0 2.83L4 21.41c.39.39.9.59 1.41.59.51 0 1.02-.2 1.41-.59l7.78-7.78 2.81-2.81c.8-.78.8-2.07 0-2.86zM5.41 20L4 18.59l7.72-7.72 1.47 1.35L5.41 20z\"/>\n",
              "  </svg>\n",
              "      </button>\n",
              "      \n",
              "  <style>\n",
              "    .colab-df-container {\n",
              "      display:flex;\n",
              "      flex-wrap:wrap;\n",
              "      gap: 12px;\n",
              "    }\n",
              "\n",
              "    .colab-df-convert {\n",
              "      background-color: #E8F0FE;\n",
              "      border: none;\n",
              "      border-radius: 50%;\n",
              "      cursor: pointer;\n",
              "      display: none;\n",
              "      fill: #1967D2;\n",
              "      height: 32px;\n",
              "      padding: 0 0 0 0;\n",
              "      width: 32px;\n",
              "    }\n",
              "\n",
              "    .colab-df-convert:hover {\n",
              "      background-color: #E2EBFA;\n",
              "      box-shadow: 0px 1px 2px rgba(60, 64, 67, 0.3), 0px 1px 3px 1px rgba(60, 64, 67, 0.15);\n",
              "      fill: #174EA6;\n",
              "    }\n",
              "\n",
              "    [theme=dark] .colab-df-convert {\n",
              "      background-color: #3B4455;\n",
              "      fill: #D2E3FC;\n",
              "    }\n",
              "\n",
              "    [theme=dark] .colab-df-convert:hover {\n",
              "      background-color: #434B5C;\n",
              "      box-shadow: 0px 1px 3px 1px rgba(0, 0, 0, 0.15);\n",
              "      filter: drop-shadow(0px 1px 2px rgba(0, 0, 0, 0.3));\n",
              "      fill: #FFFFFF;\n",
              "    }\n",
              "  </style>\n",
              "\n",
              "      <script>\n",
              "        const buttonEl =\n",
              "          document.querySelector('#df-87be50f7-ea61-46a1-b12d-a38d7ce053a6 button.colab-df-convert');\n",
              "        buttonEl.style.display =\n",
              "          google.colab.kernel.accessAllowed ? 'block' : 'none';\n",
              "\n",
              "        async function convertToInteractive(key) {\n",
              "          const element = document.querySelector('#df-87be50f7-ea61-46a1-b12d-a38d7ce053a6');\n",
              "          const dataTable =\n",
              "            await google.colab.kernel.invokeFunction('convertToInteractive',\n",
              "                                                     [key], {});\n",
              "          if (!dataTable) return;\n",
              "\n",
              "          const docLinkHtml = 'Like what you see? Visit the ' +\n",
              "            '<a target=\"_blank\" href=https://colab.research.google.com/notebooks/data_table.ipynb>data table notebook</a>'\n",
              "            + ' to learn more about interactive tables.';\n",
              "          element.innerHTML = '';\n",
              "          dataTable['output_type'] = 'display_data';\n",
              "          await google.colab.output.renderOutput(dataTable, element);\n",
              "          const docLink = document.createElement('div');\n",
              "          docLink.innerHTML = docLinkHtml;\n",
              "          element.appendChild(docLink);\n",
              "        }\n",
              "      </script>\n",
              "    </div>\n",
              "  </div>\n",
              "  "
            ]
          },
          "metadata": {},
          "execution_count": 162
        }
      ]
    },
    {
      "metadata": {
        "trusted": true,
        "id": "F0z4ZdfsY28B"
      },
      "cell_type": "code",
      "source": [
        "# I will be performing 80/20 split\n",
        "X_train, X_test, y_train, y_test = train_test_split(X_resampled, Y_resampled,\n",
        "                                                    test_size = 0.20,\n",
        "                                                    shuffle = True,\n",
        "                                                    random_state = 42)"
      ],
      "execution_count": 163,
      "outputs": []
    },
    {
      "metadata": {
        "trusted": true,
        "colab": {
          "base_uri": "https://localhost:8080/",
          "height": 505
        },
        "id": "V-FoxDPhY28C",
        "outputId": "8fd90a65-1468-4c8c-e2b4-5ae284ef46d3"
      },
      "cell_type": "code",
      "source": [
        "X_train"
      ],
      "execution_count": 164,
      "outputs": [
        {
          "output_type": "execute_result",
          "data": {
            "text/plain": [
              "       budget  popularity  vote_average  vote_count    return  \\\n",
              "126  1.963140    2.328958     -2.507651   -1.488380 -1.152752   \n",
              "109  1.758943    0.064439     -0.659302    0.300127 -0.692998   \n",
              "247  0.129881   -1.084258      1.277576    0.855774 -0.557800   \n",
              "234 -2.410041   -2.213558      1.622869   -1.155360 -0.726484   \n",
              "202 -1.356691   -0.305501      0.867147    0.606035  0.172948   \n",
              "..        ...         ...           ...         ...       ...   \n",
              "188 -1.349418   -0.649399      1.272620   -0.880872  0.773788   \n",
              "71  -1.180955    1.090111      0.022970   -0.719679 -0.727168   \n",
              "106  2.488636    1.539388     -1.440558    0.862251 -1.364037   \n",
              "270  0.257387   -0.249431      0.867976    0.618818  2.184708   \n",
              "102  1.480383   -1.147561     -2.089020   -0.688753 -0.545094   \n",
              "\n",
              "     genre_ed_Action  genre_ed_Adventure  genre_ed_Animation  genre_ed_Comedy  \\\n",
              "126         0.328095            1.081302            0.917363         0.573832   \n",
              "109        -0.881081            0.673351           -0.662894        -0.178236   \n",
              "247        -0.069426            0.633472           -0.461489         0.329826   \n",
              "234        -0.426233            0.639090            0.024794        -1.551948   \n",
              "202         0.426813            0.209540           -0.330497         1.131386   \n",
              "..               ...                 ...                 ...              ...   \n",
              "188        -0.616509           -2.023056            0.278124        -0.473472   \n",
              "71         -0.135073           -0.088788            0.024983         0.394395   \n",
              "106        -0.080536            0.323379            0.046125         0.674609   \n",
              "270         0.908135            2.322972           -0.059429         0.173398   \n",
              "102         2.710068            0.452474            1.244616         1.199969   \n",
              "\n",
              "     genre_ed_Crime  genre_ed_Drama  genre_ed_Fantasy  genre_ed_Horror  \\\n",
              "126       -0.860841       -2.032674         -0.036701        -0.801116   \n",
              "109       -0.229859       -0.996684         -0.645832         0.222527   \n",
              "247        1.146892        0.615269         -0.024744         1.458395   \n",
              "234        0.938354        1.739341         -0.113879        -0.398855   \n",
              "202       -0.871438        0.955022         -1.456748        -1.371468   \n",
              "..              ...             ...               ...              ...   \n",
              "188       -0.443925        1.162920          1.927407        -0.271534   \n",
              "71        -0.488827        0.451188          1.023018         1.836658   \n",
              "106       -1.669730       -1.673881          0.589276        -0.546113   \n",
              "270       -0.532453        0.355095          1.197998        -0.177278   \n",
              "102       -0.502664       -1.635674          0.377853        -0.216902   \n",
              "\n",
              "     genre_ed_Romance  genre_ed_Science Fiction  genre_ed_Thriller  \n",
              "126         -0.906174                  0.047518           0.306324  \n",
              "109         -1.507873                 -1.837412           1.426328  \n",
              "247          0.011373                  0.233222           1.067624  \n",
              "234         -0.161201                 -0.224715          -1.432237  \n",
              "202          0.191311                 -1.071394          -0.839934  \n",
              "..                ...                       ...                ...  \n",
              "188         -1.042233                  0.263353          -0.537856  \n",
              "71           0.949087                  1.685198          -1.262150  \n",
              "106          0.335386                 -0.268975           1.649626  \n",
              "270          0.324161                 -0.161142           0.908501  \n",
              "102          1.692735                  0.619308           0.087312  \n",
              "\n",
              "[248 rows x 16 columns]"
            ],
            "text/html": [
              "\n",
              "  <div id=\"df-c872829e-fd78-4cd1-8a4c-61204517e733\">\n",
              "    <div class=\"colab-df-container\">\n",
              "      <div>\n",
              "<style scoped>\n",
              "    .dataframe tbody tr th:only-of-type {\n",
              "        vertical-align: middle;\n",
              "    }\n",
              "\n",
              "    .dataframe tbody tr th {\n",
              "        vertical-align: top;\n",
              "    }\n",
              "\n",
              "    .dataframe thead th {\n",
              "        text-align: right;\n",
              "    }\n",
              "</style>\n",
              "<table border=\"1\" class=\"dataframe\">\n",
              "  <thead>\n",
              "    <tr style=\"text-align: right;\">\n",
              "      <th></th>\n",
              "      <th>budget</th>\n",
              "      <th>popularity</th>\n",
              "      <th>vote_average</th>\n",
              "      <th>vote_count</th>\n",
              "      <th>return</th>\n",
              "      <th>genre_ed_Action</th>\n",
              "      <th>genre_ed_Adventure</th>\n",
              "      <th>genre_ed_Animation</th>\n",
              "      <th>genre_ed_Comedy</th>\n",
              "      <th>genre_ed_Crime</th>\n",
              "      <th>genre_ed_Drama</th>\n",
              "      <th>genre_ed_Fantasy</th>\n",
              "      <th>genre_ed_Horror</th>\n",
              "      <th>genre_ed_Romance</th>\n",
              "      <th>genre_ed_Science Fiction</th>\n",
              "      <th>genre_ed_Thriller</th>\n",
              "    </tr>\n",
              "  </thead>\n",
              "  <tbody>\n",
              "    <tr>\n",
              "      <th>126</th>\n",
              "      <td>1.963140</td>\n",
              "      <td>2.328958</td>\n",
              "      <td>-2.507651</td>\n",
              "      <td>-1.488380</td>\n",
              "      <td>-1.152752</td>\n",
              "      <td>0.328095</td>\n",
              "      <td>1.081302</td>\n",
              "      <td>0.917363</td>\n",
              "      <td>0.573832</td>\n",
              "      <td>-0.860841</td>\n",
              "      <td>-2.032674</td>\n",
              "      <td>-0.036701</td>\n",
              "      <td>-0.801116</td>\n",
              "      <td>-0.906174</td>\n",
              "      <td>0.047518</td>\n",
              "      <td>0.306324</td>\n",
              "    </tr>\n",
              "    <tr>\n",
              "      <th>109</th>\n",
              "      <td>1.758943</td>\n",
              "      <td>0.064439</td>\n",
              "      <td>-0.659302</td>\n",
              "      <td>0.300127</td>\n",
              "      <td>-0.692998</td>\n",
              "      <td>-0.881081</td>\n",
              "      <td>0.673351</td>\n",
              "      <td>-0.662894</td>\n",
              "      <td>-0.178236</td>\n",
              "      <td>-0.229859</td>\n",
              "      <td>-0.996684</td>\n",
              "      <td>-0.645832</td>\n",
              "      <td>0.222527</td>\n",
              "      <td>-1.507873</td>\n",
              "      <td>-1.837412</td>\n",
              "      <td>1.426328</td>\n",
              "    </tr>\n",
              "    <tr>\n",
              "      <th>247</th>\n",
              "      <td>0.129881</td>\n",
              "      <td>-1.084258</td>\n",
              "      <td>1.277576</td>\n",
              "      <td>0.855774</td>\n",
              "      <td>-0.557800</td>\n",
              "      <td>-0.069426</td>\n",
              "      <td>0.633472</td>\n",
              "      <td>-0.461489</td>\n",
              "      <td>0.329826</td>\n",
              "      <td>1.146892</td>\n",
              "      <td>0.615269</td>\n",
              "      <td>-0.024744</td>\n",
              "      <td>1.458395</td>\n",
              "      <td>0.011373</td>\n",
              "      <td>0.233222</td>\n",
              "      <td>1.067624</td>\n",
              "    </tr>\n",
              "    <tr>\n",
              "      <th>234</th>\n",
              "      <td>-2.410041</td>\n",
              "      <td>-2.213558</td>\n",
              "      <td>1.622869</td>\n",
              "      <td>-1.155360</td>\n",
              "      <td>-0.726484</td>\n",
              "      <td>-0.426233</td>\n",
              "      <td>0.639090</td>\n",
              "      <td>0.024794</td>\n",
              "      <td>-1.551948</td>\n",
              "      <td>0.938354</td>\n",
              "      <td>1.739341</td>\n",
              "      <td>-0.113879</td>\n",
              "      <td>-0.398855</td>\n",
              "      <td>-0.161201</td>\n",
              "      <td>-0.224715</td>\n",
              "      <td>-1.432237</td>\n",
              "    </tr>\n",
              "    <tr>\n",
              "      <th>202</th>\n",
              "      <td>-1.356691</td>\n",
              "      <td>-0.305501</td>\n",
              "      <td>0.867147</td>\n",
              "      <td>0.606035</td>\n",
              "      <td>0.172948</td>\n",
              "      <td>0.426813</td>\n",
              "      <td>0.209540</td>\n",
              "      <td>-0.330497</td>\n",
              "      <td>1.131386</td>\n",
              "      <td>-0.871438</td>\n",
              "      <td>0.955022</td>\n",
              "      <td>-1.456748</td>\n",
              "      <td>-1.371468</td>\n",
              "      <td>0.191311</td>\n",
              "      <td>-1.071394</td>\n",
              "      <td>-0.839934</td>\n",
              "    </tr>\n",
              "    <tr>\n",
              "      <th>...</th>\n",
              "      <td>...</td>\n",
              "      <td>...</td>\n",
              "      <td>...</td>\n",
              "      <td>...</td>\n",
              "      <td>...</td>\n",
              "      <td>...</td>\n",
              "      <td>...</td>\n",
              "      <td>...</td>\n",
              "      <td>...</td>\n",
              "      <td>...</td>\n",
              "      <td>...</td>\n",
              "      <td>...</td>\n",
              "      <td>...</td>\n",
              "      <td>...</td>\n",
              "      <td>...</td>\n",
              "      <td>...</td>\n",
              "    </tr>\n",
              "    <tr>\n",
              "      <th>188</th>\n",
              "      <td>-1.349418</td>\n",
              "      <td>-0.649399</td>\n",
              "      <td>1.272620</td>\n",
              "      <td>-0.880872</td>\n",
              "      <td>0.773788</td>\n",
              "      <td>-0.616509</td>\n",
              "      <td>-2.023056</td>\n",
              "      <td>0.278124</td>\n",
              "      <td>-0.473472</td>\n",
              "      <td>-0.443925</td>\n",
              "      <td>1.162920</td>\n",
              "      <td>1.927407</td>\n",
              "      <td>-0.271534</td>\n",
              "      <td>-1.042233</td>\n",
              "      <td>0.263353</td>\n",
              "      <td>-0.537856</td>\n",
              "    </tr>\n",
              "    <tr>\n",
              "      <th>71</th>\n",
              "      <td>-1.180955</td>\n",
              "      <td>1.090111</td>\n",
              "      <td>0.022970</td>\n",
              "      <td>-0.719679</td>\n",
              "      <td>-0.727168</td>\n",
              "      <td>-0.135073</td>\n",
              "      <td>-0.088788</td>\n",
              "      <td>0.024983</td>\n",
              "      <td>0.394395</td>\n",
              "      <td>-0.488827</td>\n",
              "      <td>0.451188</td>\n",
              "      <td>1.023018</td>\n",
              "      <td>1.836658</td>\n",
              "      <td>0.949087</td>\n",
              "      <td>1.685198</td>\n",
              "      <td>-1.262150</td>\n",
              "    </tr>\n",
              "    <tr>\n",
              "      <th>106</th>\n",
              "      <td>2.488636</td>\n",
              "      <td>1.539388</td>\n",
              "      <td>-1.440558</td>\n",
              "      <td>0.862251</td>\n",
              "      <td>-1.364037</td>\n",
              "      <td>-0.080536</td>\n",
              "      <td>0.323379</td>\n",
              "      <td>0.046125</td>\n",
              "      <td>0.674609</td>\n",
              "      <td>-1.669730</td>\n",
              "      <td>-1.673881</td>\n",
              "      <td>0.589276</td>\n",
              "      <td>-0.546113</td>\n",
              "      <td>0.335386</td>\n",
              "      <td>-0.268975</td>\n",
              "      <td>1.649626</td>\n",
              "    </tr>\n",
              "    <tr>\n",
              "      <th>270</th>\n",
              "      <td>0.257387</td>\n",
              "      <td>-0.249431</td>\n",
              "      <td>0.867976</td>\n",
              "      <td>0.618818</td>\n",
              "      <td>2.184708</td>\n",
              "      <td>0.908135</td>\n",
              "      <td>2.322972</td>\n",
              "      <td>-0.059429</td>\n",
              "      <td>0.173398</td>\n",
              "      <td>-0.532453</td>\n",
              "      <td>0.355095</td>\n",
              "      <td>1.197998</td>\n",
              "      <td>-0.177278</td>\n",
              "      <td>0.324161</td>\n",
              "      <td>-0.161142</td>\n",
              "      <td>0.908501</td>\n",
              "    </tr>\n",
              "    <tr>\n",
              "      <th>102</th>\n",
              "      <td>1.480383</td>\n",
              "      <td>-1.147561</td>\n",
              "      <td>-2.089020</td>\n",
              "      <td>-0.688753</td>\n",
              "      <td>-0.545094</td>\n",
              "      <td>2.710068</td>\n",
              "      <td>0.452474</td>\n",
              "      <td>1.244616</td>\n",
              "      <td>1.199969</td>\n",
              "      <td>-0.502664</td>\n",
              "      <td>-1.635674</td>\n",
              "      <td>0.377853</td>\n",
              "      <td>-0.216902</td>\n",
              "      <td>1.692735</td>\n",
              "      <td>0.619308</td>\n",
              "      <td>0.087312</td>\n",
              "    </tr>\n",
              "  </tbody>\n",
              "</table>\n",
              "<p>248 rows × 16 columns</p>\n",
              "</div>\n",
              "      <button class=\"colab-df-convert\" onclick=\"convertToInteractive('df-c872829e-fd78-4cd1-8a4c-61204517e733')\"\n",
              "              title=\"Convert this dataframe to an interactive table.\"\n",
              "              style=\"display:none;\">\n",
              "        \n",
              "  <svg xmlns=\"http://www.w3.org/2000/svg\" height=\"24px\"viewBox=\"0 0 24 24\"\n",
              "       width=\"24px\">\n",
              "    <path d=\"M0 0h24v24H0V0z\" fill=\"none\"/>\n",
              "    <path d=\"M18.56 5.44l.94 2.06.94-2.06 2.06-.94-2.06-.94-.94-2.06-.94 2.06-2.06.94zm-11 1L8.5 8.5l.94-2.06 2.06-.94-2.06-.94L8.5 2.5l-.94 2.06-2.06.94zm10 10l.94 2.06.94-2.06 2.06-.94-2.06-.94-.94-2.06-.94 2.06-2.06.94z\"/><path d=\"M17.41 7.96l-1.37-1.37c-.4-.4-.92-.59-1.43-.59-.52 0-1.04.2-1.43.59L10.3 9.45l-7.72 7.72c-.78.78-.78 2.05 0 2.83L4 21.41c.39.39.9.59 1.41.59.51 0 1.02-.2 1.41-.59l7.78-7.78 2.81-2.81c.8-.78.8-2.07 0-2.86zM5.41 20L4 18.59l7.72-7.72 1.47 1.35L5.41 20z\"/>\n",
              "  </svg>\n",
              "      </button>\n",
              "      \n",
              "  <style>\n",
              "    .colab-df-container {\n",
              "      display:flex;\n",
              "      flex-wrap:wrap;\n",
              "      gap: 12px;\n",
              "    }\n",
              "\n",
              "    .colab-df-convert {\n",
              "      background-color: #E8F0FE;\n",
              "      border: none;\n",
              "      border-radius: 50%;\n",
              "      cursor: pointer;\n",
              "      display: none;\n",
              "      fill: #1967D2;\n",
              "      height: 32px;\n",
              "      padding: 0 0 0 0;\n",
              "      width: 32px;\n",
              "    }\n",
              "\n",
              "    .colab-df-convert:hover {\n",
              "      background-color: #E2EBFA;\n",
              "      box-shadow: 0px 1px 2px rgba(60, 64, 67, 0.3), 0px 1px 3px 1px rgba(60, 64, 67, 0.15);\n",
              "      fill: #174EA6;\n",
              "    }\n",
              "\n",
              "    [theme=dark] .colab-df-convert {\n",
              "      background-color: #3B4455;\n",
              "      fill: #D2E3FC;\n",
              "    }\n",
              "\n",
              "    [theme=dark] .colab-df-convert:hover {\n",
              "      background-color: #434B5C;\n",
              "      box-shadow: 0px 1px 3px 1px rgba(0, 0, 0, 0.15);\n",
              "      filter: drop-shadow(0px 1px 2px rgba(0, 0, 0, 0.3));\n",
              "      fill: #FFFFFF;\n",
              "    }\n",
              "  </style>\n",
              "\n",
              "      <script>\n",
              "        const buttonEl =\n",
              "          document.querySelector('#df-c872829e-fd78-4cd1-8a4c-61204517e733 button.colab-df-convert');\n",
              "        buttonEl.style.display =\n",
              "          google.colab.kernel.accessAllowed ? 'block' : 'none';\n",
              "\n",
              "        async function convertToInteractive(key) {\n",
              "          const element = document.querySelector('#df-c872829e-fd78-4cd1-8a4c-61204517e733');\n",
              "          const dataTable =\n",
              "            await google.colab.kernel.invokeFunction('convertToInteractive',\n",
              "                                                     [key], {});\n",
              "          if (!dataTable) return;\n",
              "\n",
              "          const docLinkHtml = 'Like what you see? Visit the ' +\n",
              "            '<a target=\"_blank\" href=https://colab.research.google.com/notebooks/data_table.ipynb>data table notebook</a>'\n",
              "            + ' to learn more about interactive tables.';\n",
              "          element.innerHTML = '';\n",
              "          dataTable['output_type'] = 'display_data';\n",
              "          await google.colab.output.renderOutput(dataTable, element);\n",
              "          const docLink = document.createElement('div');\n",
              "          docLink.innerHTML = docLinkHtml;\n",
              "          element.appendChild(docLink);\n",
              "        }\n",
              "      </script>\n",
              "    </div>\n",
              "  </div>\n",
              "  "
            ]
          },
          "metadata": {},
          "execution_count": 164
        }
      ]
    },
    {
      "metadata": {
        "trusted": true,
        "colab": {
          "base_uri": "https://localhost:8080/"
        },
        "id": "bD4e-J3QY28D",
        "outputId": "88579055-2a58-4a39-9a60-c4bd57d65304"
      },
      "cell_type": "code",
      "source": [
        "# check your work - does the shape match what you think it should be?\n",
        "print(X_train.shape, X_test.shape, y_train.shape, y_test.shape)"
      ],
      "execution_count": 165,
      "outputs": [
        {
          "output_type": "stream",
          "name": "stdout",
          "text": [
            "(248, 16) (62, 16) (248, 1) (62, 1)\n"
          ]
        }
      ]
    },
    {
      "metadata": {
        "id": "O7zTtQPPY28E"
      },
      "cell_type": "markdown",
      "source": [
        "# 4) Modeling"
      ]
    },
    {
      "metadata": {
        "id": "NmPwgio-Y28E"
      },
      "cell_type": "markdown",
      "source": [
        "Fit at least two reasonable different DL models and one baseline model with clean code (lots of comments)."
      ]
    },
    {
      "metadata": {
        "id": "ZJyr9FiOY28F"
      },
      "cell_type": "markdown",
      "source": [
        "# 4-1) Baseline Model: Logistic Regression"
      ]
    },
    {
      "metadata": {
        "trusted": true,
        "colab": {
          "base_uri": "https://localhost:8080/"
        },
        "id": "QE9UIsIqY28F",
        "outputId": "cc77ccd6-ff1e-4a90-f1fc-537307a6b28f"
      },
      "cell_type": "code",
      "source": [
        "#Fit the model\n",
        "# make a variable to store the general model\n",
        "LR = LogisticRegression()\n",
        "# fit the model - one line of code\n",
        "LR = LR.fit(X_train, y_train)"
      ],
      "execution_count": 166,
      "outputs": [
        {
          "output_type": "stream",
          "name": "stderr",
          "text": [
            "/usr/local/lib/python3.7/dist-packages/sklearn/utils/validation.py:993: DataConversionWarning: A column-vector y was passed when a 1d array was expected. Please change the shape of y to (n_samples, ), for example using ravel().\n",
            "  y = column_or_1d(y, warn=True)\n"
          ]
        }
      ]
    },
    {
      "metadata": {
        "trusted": true,
        "id": "F6wP9Hv8Y28G"
      },
      "cell_type": "code",
      "source": [
        "# store the predictions\n",
        "train_preds_LR = LR.predict(X_train) \n",
        "test_preds_LR = LR.predict(X_test) "
      ],
      "execution_count": 167,
      "outputs": []
    },
    {
      "metadata": {
        "trusted": true,
        "colab": {
          "base_uri": "https://localhost:8080/"
        },
        "id": "CpUQI7W3Y28G",
        "outputId": "8eb8ff66-c9d2-4fd0-9a24-b5eb0a23202a"
      },
      "cell_type": "code",
      "source": [
        "#Evaluate the model\n",
        "# train confusion matrix\n",
        "confusion_matrix(y_train, train_preds_LR)"
      ],
      "execution_count": 168,
      "outputs": [
        {
          "output_type": "execute_result",
          "data": {
            "text/plain": [
              "array([[117,   8],\n",
              "       [  6, 117]])"
            ]
          },
          "metadata": {},
          "execution_count": 168
        }
      ]
    },
    {
      "metadata": {
        "trusted": true,
        "colab": {
          "base_uri": "https://localhost:8080/"
        },
        "id": "g1AOYVf1Y28H",
        "outputId": "22fb49a5-3a94-4872-e977-a7ed3acf60a5"
      },
      "cell_type": "code",
      "source": [
        "# test confusion matrix\n",
        "confusion_matrix(y_test, test_preds_LR)"
      ],
      "execution_count": 169,
      "outputs": [
        {
          "output_type": "execute_result",
          "data": {
            "text/plain": [
              "array([[29,  1],\n",
              "       [ 3, 29]])"
            ]
          },
          "metadata": {},
          "execution_count": 169
        }
      ]
    },
    {
      "metadata": {
        "trusted": true,
        "colab": {
          "base_uri": "https://localhost:8080/"
        },
        "id": "kVJB88YbY28H",
        "outputId": "e1e03ab1-0f8b-47f0-fdaa-a7cfc8e54d7e"
      },
      "cell_type": "code",
      "source": [
        "# extract TP, TN, FP, FN\n",
        "tn, fp, fn, tp = confusion_matrix(y_test, test_preds_LR).ravel()\n",
        "(tn, fp, fn, tp)"
      ],
      "execution_count": 170,
      "outputs": [
        {
          "output_type": "execute_result",
          "data": {
            "text/plain": [
              "(29, 1, 3, 29)"
            ]
          },
          "metadata": {},
          "execution_count": 170
        }
      ]
    },
    {
      "metadata": {
        "trusted": true,
        "colab": {
          "base_uri": "https://localhost:8080/",
          "height": 199
        },
        "id": "1F4BUM7EY28I",
        "outputId": "6e332fa4-d845-4a96-f377-6f2237e7eb9f"
      },
      "cell_type": "code",
      "source": [
        "print(classification_report(y_test, test_preds_LR))\n",
        "plt.savefig('baseline_accuracy.png') "
      ],
      "execution_count": 171,
      "outputs": [
        {
          "output_type": "stream",
          "name": "stdout",
          "text": [
            "              precision    recall  f1-score   support\n",
            "\n",
            "           0       0.91      0.97      0.94        30\n",
            "           1       0.97      0.91      0.94        32\n",
            "\n",
            "    accuracy                           0.94        62\n",
            "   macro avg       0.94      0.94      0.94        62\n",
            "weighted avg       0.94      0.94      0.94        62\n",
            "\n"
          ]
        },
        {
          "output_type": "display_data",
          "data": {
            "text/plain": [
              "<Figure size 432x288 with 0 Axes>"
            ]
          },
          "metadata": {}
        }
      ]
    },
    {
      "metadata": {
        "trusted": true,
        "colab": {
          "base_uri": "https://localhost:8080/",
          "height": 295
        },
        "id": "qeGjE_4UY28I",
        "outputId": "e57d4e3d-6463-43b4-9abb-601caa52f4dd"
      },
      "cell_type": "code",
      "source": [
        "cm = confusion_matrix(y_test, test_preds_LR)\n",
        "plt.clf()\n",
        "plt.imshow(cm, interpolation='nearest', cmap=plt.cm.Blues)\n",
        "classNames = ['False','True']\n",
        "plt.title('Logistic Regression accuracy')\n",
        "plt.ylabel('True label')\n",
        "plt.xlabel('Predicted label')\n",
        "tick_marks = np.arange(len(classNames))\n",
        "plt.xticks(tick_marks, classNames)\n",
        "plt.yticks(tick_marks, classNames)\n",
        "s = [['TN','FP'], ['FN', 'TP']]\n",
        "for i in range(2):\n",
        "    for j in range(2):\n",
        "        plt.text(j,i, str(s[i][j])+\" = \"+str(cm[i][j]))\n",
        "\n",
        "# plt.savefig(\"Logistic_regression_accuracy.png\")\n",
        "# images_dir = '/content/drive/Shared drives/Deep Learning Group Projects/Project #1 /Work'\n",
        "plt.savefig(\"Logistic_regression_accuracy.png\")\n",
        "# plt.show()"
      ],
      "execution_count": 172,
      "outputs": [
        {
          "output_type": "display_data",
          "data": {
            "text/plain": [
              "<Figure size 432x288 with 1 Axes>"
            ],
            "image/png": "[encoded data removed]"
          },
          "metadata": {
            "needs_background": "light"
          }
        }
      ]
    },
    {
      "metadata": {
        "id": "nskIHBdlY28J"
      },
      "cell_type": "markdown",
      "source": [
        "# 4-2) Deep Learning Model #1: Dense Neural Network"
      ]
    },
    {
      "metadata": {
        "trusted": true,
        "colab": {
          "base_uri": "https://localhost:8080/"
        },
        "id": "hWfF_3NrY28J",
        "outputId": "841a4d4e-1a94-40b3-d5da-075a42d18f7c"
      },
      "cell_type": "code",
      "source": [
        "# Setting up the model\n",
        "model1 = Sequential()\n",
        "# this is hidden layer 1\n",
        "model1.add(Dense(512,activation='relu', input_shape=(X.shape[1],))) # input shape is = (features,)\n",
        "# this is hidden layer 2\n",
        "model1.add(Dense(128, activation='relu'))\n",
        "# this is hidden layer 3\n",
        "model1.add(Dense(15, activation='relu'))\n",
        "# this is hidden layer 4\n",
        "model1.add(Dense(10, activation='relu'))\n",
        "# this is the output node\n",
        "model1.add(Dense(1, activation='sigmoid')) # the activation function here is 'linear' by default\n",
        "model1.summary()"
      ],
      "execution_count": 204,
      "outputs": [
        {
          "output_type": "stream",
          "name": "stdout",
          "text": [
            "Model: \"sequential_8\"\n",
            "_________________________________________________________________\n",
            " Layer (type)                Output Shape              Param #   \n",
            "=================================================================\n",
            " dense_38 (Dense)            (None, 512)               8704      \n",
            "                                                                 \n",
            " dense_39 (Dense)            (None, 128)               65664     \n",
            "                                                                 \n",
            " dense_40 (Dense)            (None, 15)                1935      \n",
            "                                                                 \n",
            " dense_41 (Dense)            (None, 10)                160       \n",
            "                                                                 \n",
            " dense_42 (Dense)            (None, 1)                 11        \n",
            "                                                                 \n",
            "=================================================================\n",
            "Total params: 76,474\n",
            "Trainable params: 76,474\n",
            "Non-trainable params: 0\n",
            "_________________________________________________________________\n"
          ]
        }
      ]
    },
    {
      "metadata": {
        "trusted": true,
        "id": "KG_OPuPTY28K"
      },
      "cell_type": "code",
      "source": [
        "#  this compiles the model, specifies model evaluation metrics\n",
        "model1.compile(optimizer='Adam', loss='binary_crossentropy',\n",
        "              metrics=['accuracy'])"
      ],
      "execution_count": 205,
      "outputs": []
    },
    {
      "metadata": {
        "trusted": true,
        "colab": {
          "base_uri": "https://localhost:8080/"
        },
        "id": "M7otXcBrY28K",
        "outputId": "3bd54bb1-1b2b-4046-928d-a4fedd7ccc62"
      },
      "cell_type": "code",
      "source": [
        "from keras.callbacks import EarlyStopping\n",
        "es = EarlyStopping(monitor='val_loss', mode='min', \n",
        "                   patience=10, \n",
        "                   verbose=1,\n",
        "                   restore_best_weights=True)\n",
        "# fit model\n",
        "history = model1.fit(X_train, y_train, \n",
        "                    validation_data=(X_test, y_test),\n",
        "                    epochs=4000, \n",
        "                    batch_size = 44,\n",
        "                    verbose=1, \n",
        "                    callbacks=[es]) #notice we won't have to manually watch it"
      ],
      "execution_count": 206,
      "outputs": [
        {
          "output_type": "stream",
          "name": "stdout",
          "text": [
            "Epoch 1/4000\n",
            "6/6 [==============================] - 1s 55ms/step - loss: 0.6295 - accuracy: 0.7177 - val_loss: 0.5216 - val_accuracy: 0.8871\n",
            "Epoch 2/4000\n",
            "6/6 [==============================] - 0s 12ms/step - loss: 0.4462 - accuracy: 0.8992 - val_loss: 0.3581 - val_accuracy: 0.9355\n",
            "Epoch 3/4000\n",
            "6/6 [==============================] - 0s 8ms/step - loss: 0.2770 - accuracy: 0.9395 - val_loss: 0.2477 - val_accuracy: 0.9355\n",
            "Epoch 4/4000\n",
            "6/6 [==============================] - 0s 10ms/step - loss: 0.1703 - accuracy: 0.9516 - val_loss: 0.2025 - val_accuracy: 0.9355\n",
            "Epoch 5/4000\n",
            "6/6 [==============================] - 0s 10ms/step - loss: 0.1286 - accuracy: 0.9637 - val_loss: 0.2070 - val_accuracy: 0.9355\n",
            "Epoch 6/4000\n",
            "6/6 [==============================] - 0s 9ms/step - loss: 0.1040 - accuracy: 0.9677 - val_loss: 0.1972 - val_accuracy: 0.9516\n",
            "Epoch 7/4000\n",
            "6/6 [==============================] - 0s 9ms/step - loss: 0.0895 - accuracy: 0.9718 - val_loss: 0.2072 - val_accuracy: 0.9516\n",
            "Epoch 8/4000\n",
            "6/6 [==============================] - 0s 9ms/step - loss: 0.0736 - accuracy: 0.9758 - val_loss: 0.2040 - val_accuracy: 0.9516\n",
            "Epoch 9/4000\n",
            "6/6 [==============================] - 0s 9ms/step - loss: 0.0653 - accuracy: 0.9758 - val_loss: 0.2094 - val_accuracy: 0.9516\n",
            "Epoch 10/4000\n",
            "6/6 [==============================] - 0s 9ms/step - loss: 0.0557 - accuracy: 0.9798 - val_loss: 0.2219 - val_accuracy: 0.9516\n",
            "Epoch 11/4000\n",
            "6/6 [==============================] - 0s 11ms/step - loss: 0.0492 - accuracy: 0.9839 - val_loss: 0.2279 - val_accuracy: 0.9516\n",
            "Epoch 12/4000\n",
            "6/6 [==============================] - 0s 8ms/step - loss: 0.0395 - accuracy: 0.9919 - val_loss: 0.2296 - val_accuracy: 0.9516\n",
            "Epoch 13/4000\n",
            "6/6 [==============================] - 0s 10ms/step - loss: 0.0332 - accuracy: 0.9919 - val_loss: 0.2371 - val_accuracy: 0.9516\n",
            "Epoch 14/4000\n",
            "6/6 [==============================] - 0s 9ms/step - loss: 0.0273 - accuracy: 0.9960 - val_loss: 0.2405 - val_accuracy: 0.9516\n",
            "Epoch 15/4000\n",
            "6/6 [==============================] - 0s 9ms/step - loss: 0.0243 - accuracy: 0.9960 - val_loss: 0.2485 - val_accuracy: 0.9516\n",
            "Epoch 16/4000\n",
            "1/6 [====>.........................] - ETA: 0s - loss: 0.0120 - accuracy: 1.0000Restoring model weights from the end of the best epoch: 6.\n",
            "6/6 [==============================] - 0s 15ms/step - loss: 0.0201 - accuracy: 0.9960 - val_loss: 0.2513 - val_accuracy: 0.9516\n",
            "Epoch 16: early stopping\n"
          ]
        }
      ]
    },
    {
      "metadata": {
        "trusted": true,
        "colab": {
          "base_uri": "https://localhost:8080/"
        },
        "id": "_HgSlOx2Y28L",
        "outputId": "c0fec9c6-cfcd-42d2-d21d-a36963fe4825"
      },
      "cell_type": "code",
      "source": [
        "history_dict = history.history\n",
        "history_dict.keys() \n",
        "\n",
        "# out of all of these, let's plot the val_mean_absolute_error"
      ],
      "execution_count": 207,
      "outputs": [
        {
          "output_type": "execute_result",
          "data": {
            "text/plain": [
              "dict_keys(['loss', 'accuracy', 'val_loss', 'val_accuracy'])"
            ]
          },
          "metadata": {},
          "execution_count": 207
        }
      ]
    },
    {
      "metadata": {
        "trusted": true,
        "colab": {
          "base_uri": "https://localhost:8080/",
          "height": 295
        },
        "id": "GFzkUqYcY28L",
        "outputId": "199c61a3-1347-497a-d4f8-6f835b81f428"
      },
      "cell_type": "code",
      "source": [
        "acc = history.history['accuracy']\n",
        "val_acc = history.history['val_accuracy']\n",
        "loss = history.history['loss']\n",
        "val_loss = history.history['val_loss']\n",
        "\n",
        "epochs = range(1, len(acc) + 1)\n",
        "\n",
        "# \"bo\" is for \"blue dot\"\n",
        "plt.plot(epochs, loss, 'bo', label='Training loss')\n",
        "# b is for \"solid blue line\"\n",
        "plt.plot(epochs, val_loss, 'b', label='Validation loss')\n",
        "plt.title('Training and validation loss')\n",
        "plt.xlabel('Epochs')\n",
        "plt.ylabel('Loss')\n",
        "plt.legend()\n",
        "\n",
        "plt.savefig(\"Test_valid_loss_DDN_withoutdropout.png\")\n",
        "# images_dir = '/content/drive/Shared drives/Deep Learning Group Projects/Project #1 /Work'\n",
        "# plt.savefig(f\"{images_dir}/Test_valid_loss_DDN_withoutdropout.png\")\n",
        "# plt.show()"
      ],
      "execution_count": 208,
      "outputs": [
        {
          "output_type": "display_data",
          "data": {
            "text/plain": [
              "<Figure size 432x288 with 1 Axes>"
            ],
            "image/png": "[encoded data removed]"
          },
          "metadata": {
            "needs_background": "light"
          }
        }
      ]
    },
    {
      "metadata": {
        "trusted": true,
        "colab": {
          "base_uri": "https://localhost:8080/",
          "height": 295
        },
        "id": "VgisjzhjY28M",
        "outputId": "e973a7f7-5d9e-4c8c-dfaa-75fe3328b7f9"
      },
      "cell_type": "code",
      "source": [
        "plt.clf()   # clear figure\n",
        "acc_values = history_dict['accuracy']\n",
        "val_acc_values = history_dict['val_accuracy']\n",
        "\n",
        "plt.plot(epochs, acc, 'bo', label='Training acc')\n",
        "plt.plot(epochs, val_acc, 'b', label='Validation acc')\n",
        "plt.title('Training and validation accuracy')\n",
        "plt.xlabel('Epochs')\n",
        "plt.ylabel('Loss')\n",
        "plt.legend()\n",
        "\n",
        "plt.savefig(\"Accuracy_DDN_withoutdropout.png\")\n",
        "# images_dir = '/content/drive/Shared drives/Deep Learning Group Projects/Project #1 /Work'\n",
        "# plt.savefig(f\"{images_dir}/Accuracy_DDN_withoutdropout.png\")\n",
        "# plt.show()"
      ],
      "execution_count": 209,
      "outputs": [
        {
          "output_type": "display_data",
          "data": {
            "text/plain": [
              "<Figure size 432x288 with 1 Axes>"
            ],
            "image/png": "[encoded data removed]"
          },
          "metadata": {
            "needs_background": "light"
          }
        }
      ]
    },
    {
      "metadata": {
        "trusted": true,
        "colab": {
          "base_uri": "https://localhost:8080/"
        },
        "id": "kF-Ya3orY28M",
        "outputId": "2a91315b-36a0-4ade-b8ec-f261f502f931"
      },
      "cell_type": "code",
      "source": [
        "# see how the model did!\n",
        "# if you don't round to a whole number (0 or 1), the confusion matrix won't work!\n",
        "preds = np.round(model1.predict(X_test),0)\n",
        "\n",
        "# confusion matrix\n",
        "confusion_matrix(y_test, preds) # order matters! (actual, predicted)\n",
        "\n",
        "# TP is bottom right\n",
        "# TN is top left\n",
        "# FP is top right\n",
        "# FN is bottom left\n",
        "\n",
        "# look at documentation for conf matrix on sklearn if you have questions!"
      ],
      "execution_count": 210,
      "outputs": [
        {
          "output_type": "stream",
          "name": "stdout",
          "text": [
            "2/2 [==============================] - 0s 9ms/step\n"
          ]
        },
        {
          "output_type": "execute_result",
          "data": {
            "text/plain": [
              "array([[29,  1],\n",
              "       [ 2, 30]])"
            ]
          },
          "metadata": {},
          "execution_count": 210
        }
      ]
    },
    {
      "metadata": {
        "trusted": true,
        "colab": {
          "base_uri": "https://localhost:8080/"
        },
        "id": "UWj5AbtOY28N",
        "outputId": "d5f3f883-0267-4caf-8764-ddce38edd90e"
      },
      "cell_type": "code",
      "source": [
        "print(classification_report(y_test, preds))"
      ],
      "execution_count": 211,
      "outputs": [
        {
          "output_type": "stream",
          "name": "stdout",
          "text": [
            "              precision    recall  f1-score   support\n",
            "\n",
            "           0       0.94      0.97      0.95        30\n",
            "           1       0.97      0.94      0.95        32\n",
            "\n",
            "    accuracy                           0.95        62\n",
            "   macro avg       0.95      0.95      0.95        62\n",
            "weighted avg       0.95      0.95      0.95        62\n",
            "\n"
          ]
        }
      ]
    },
    {
      "metadata": {
        "trusted": true,
        "colab": {
          "base_uri": "https://localhost:8080/",
          "height": 295
        },
        "id": "hgIfbNQ2Y28N",
        "outputId": "9f00b723-2902-4e23-e005-e933042526c7"
      },
      "cell_type": "code",
      "source": [
        "cm = confusion_matrix(y_test, preds)\n",
        "plt.clf()\n",
        "plt.imshow(cm, interpolation='nearest', cmap=plt.cm.Blues)\n",
        "classNames = ['False','True']\n",
        "plt.title('DNN without callback')\n",
        "plt.ylabel('True label')\n",
        "plt.xlabel('Predicted label')\n",
        "tick_marks = np.arange(len(classNames))\n",
        "plt.xticks(tick_marks, classNames)\n",
        "plt.yticks(tick_marks, classNames)\n",
        "s = [['TN','FP'], ['FN', 'TP']]\n",
        "for i in range(2):\n",
        "    for j in range(2):\n",
        "        plt.text(j,i, str(s[i][j])+\" = \"+str(cm[i][j]))\n",
        "\n",
        "plt.savefig(\"DNN_withoutdropout_confusion_matrix.png\")\n",
        "# images_dir = '/content/drive/Shared drives/Deep Learning Group Projects/Project #1 /Work'\n",
        "# plt.savefig(f\"{images_dir}/DNN_withoutdropout_confusion_matrix.png\")\n",
        "# plt.show()"
      ],
      "execution_count": 181,
      "outputs": [
        {
          "output_type": "display_data",
          "data": {
            "text/plain": [
              "<Figure size 432x288 with 1 Axes>"
            ],
            "image/png": "[encoded data removed]"
          },
          "metadata": {
            "needs_background": "light"
          }
        }
      ]
    },
    {
      "metadata": {
        "id": "wmAg2sLFY28P"
      },
      "cell_type": "markdown",
      "source": [
        "# 4-3) Deep Learning Model #2: Dense Neural Network"
      ]
    },
    {
      "metadata": {
        "trusted": true,
        "colab": {
          "base_uri": "https://localhost:8080/"
        },
        "id": "3SK3P0lNY28Q",
        "outputId": "0a378c8c-aea5-4b69-f1a5-d3be8f83fdbe"
      },
      "cell_type": "code",
      "source": [
        "# Setting up the model\n",
        "model2 = Sequential()\n",
        "# this is hidden layer 1\n",
        "model2.add(Dense(512,activation='relu', input_shape=(X.shape[1],))) # input shape is = (features,)\n",
        "model2.add(Dropout(0.4)) # Dropout Layer 1\n",
        "# this is hidden layer 2\n",
        "model2.add(Dense(128, activation='relu'))\n",
        "model2.add(Dropout(0.3)) #Dropout Layer 2\n",
        "# this is hidden layer 3\n",
        "model2.add(Dense(10, activation='relu'))\n",
        "model2.add(Dropout(0.2)) #Dropout Layer 3\n",
        "# this is the output node\n",
        "model2.add(Dense(1, activation='sigmoid')) # the activation function here is 'linear' by default\n",
        "model2.summary()"
      ],
      "execution_count": 212,
      "outputs": [
        {
          "output_type": "stream",
          "name": "stdout",
          "text": [
            "Model: \"sequential_9\"\n",
            "_________________________________________________________________\n",
            " Layer (type)                Output Shape              Param #   \n",
            "=================================================================\n",
            " dense_43 (Dense)            (None, 512)               8704      \n",
            "                                                                 \n",
            " dropout_6 (Dropout)         (None, 512)               0         \n",
            "                                                                 \n",
            " dense_44 (Dense)            (None, 128)               65664     \n",
            "                                                                 \n",
            " dropout_7 (Dropout)         (None, 128)               0         \n",
            "                                                                 \n",
            " dense_45 (Dense)            (None, 10)                1290      \n",
            "                                                                 \n",
            " dropout_8 (Dropout)         (None, 10)                0         \n",
            "                                                                 \n",
            " dense_46 (Dense)            (None, 1)                 11        \n",
            "                                                                 \n",
            "=================================================================\n",
            "Total params: 75,669\n",
            "Trainable params: 75,669\n",
            "Non-trainable params: 0\n",
            "_________________________________________________________________\n"
          ]
        }
      ]
    },
    {
      "metadata": {
        "trusted": true,
        "id": "pbXQzOVDY28R"
      },
      "cell_type": "code",
      "source": [
        "#  this compiles the model, specifies model evaluation metrics\n",
        "model2.compile(optimizer='Adam', loss='binary_crossentropy',\n",
        "              metrics=['accuracy'])"
      ],
      "execution_count": 213,
      "outputs": []
    },
    {
      "metadata": {
        "trusted": true,
        "colab": {
          "base_uri": "https://localhost:8080/"
        },
        "id": "eEIdthGcY28S",
        "outputId": "c70218bb-60eb-4052-8c5f-ae058b4cfc7d"
      },
      "cell_type": "code",
      "source": [
        "from keras.callbacks import EarlyStopping\n",
        "es2 = EarlyStopping(monitor='val_loss', mode='min', \n",
        "                   patience=10, \n",
        "                   verbose=1,\n",
        "                   restore_best_weights=True)\n",
        "# fit model\n",
        "history2 = model2.fit(X_train, y_train, \n",
        "                    validation_data=(X_test, y_test),\n",
        "                    epochs=4000, \n",
        "                    batch_size = 44,\n",
        "                    verbose=1, \n",
        "                    callbacks=[es2]) #notice we won't have to manually watch it"
      ],
      "execution_count": 214,
      "outputs": [
        {
          "output_type": "stream",
          "name": "stdout",
          "text": [
            "Epoch 1/4000\n",
            "6/6 [==============================] - 1s 59ms/step - loss: 0.6541 - accuracy: 0.6250 - val_loss: 0.5627 - val_accuracy: 0.8871\n",
            "Epoch 2/4000\n",
            "6/6 [==============================] - 0s 12ms/step - loss: 0.5092 - accuracy: 0.8427 - val_loss: 0.4138 - val_accuracy: 0.9355\n",
            "Epoch 3/4000\n",
            "6/6 [==============================] - 0s 15ms/step - loss: 0.3728 - accuracy: 0.8831 - val_loss: 0.2932 - val_accuracy: 0.9355\n",
            "Epoch 4/4000\n",
            "6/6 [==============================] - 0s 11ms/step - loss: 0.2817 - accuracy: 0.8790 - val_loss: 0.2215 - val_accuracy: 0.9355\n",
            "Epoch 5/4000\n",
            "6/6 [==============================] - 0s 10ms/step - loss: 0.2452 - accuracy: 0.9113 - val_loss: 0.1922 - val_accuracy: 0.9355\n",
            "Epoch 6/4000\n",
            "6/6 [==============================] - 0s 9ms/step - loss: 0.2043 - accuracy: 0.9234 - val_loss: 0.2044 - val_accuracy: 0.9355\n",
            "Epoch 7/4000\n",
            "6/6 [==============================] - 0s 10ms/step - loss: 0.1858 - accuracy: 0.9194 - val_loss: 0.2148 - val_accuracy: 0.9355\n",
            "Epoch 8/4000\n",
            "6/6 [==============================] - 0s 14ms/step - loss: 0.1489 - accuracy: 0.9355 - val_loss: 0.2055 - val_accuracy: 0.9355\n",
            "Epoch 9/4000\n",
            "6/6 [==============================] - 0s 10ms/step - loss: 0.1701 - accuracy: 0.9194 - val_loss: 0.1991 - val_accuracy: 0.9355\n",
            "Epoch 10/4000\n",
            "6/6 [==============================] - 0s 14ms/step - loss: 0.1417 - accuracy: 0.9476 - val_loss: 0.1882 - val_accuracy: 0.9355\n",
            "Epoch 11/4000\n",
            "6/6 [==============================] - 0s 12ms/step - loss: 0.1254 - accuracy: 0.9435 - val_loss: 0.1923 - val_accuracy: 0.9355\n",
            "Epoch 12/4000\n",
            "6/6 [==============================] - 0s 10ms/step - loss: 0.1145 - accuracy: 0.9758 - val_loss: 0.2013 - val_accuracy: 0.9355\n",
            "Epoch 13/4000\n",
            "6/6 [==============================] - 0s 11ms/step - loss: 0.1108 - accuracy: 0.9718 - val_loss: 0.2046 - val_accuracy: 0.9355\n",
            "Epoch 14/4000\n",
            "6/6 [==============================] - 0s 10ms/step - loss: 0.0997 - accuracy: 0.9677 - val_loss: 0.2012 - val_accuracy: 0.9516\n",
            "Epoch 15/4000\n",
            "6/6 [==============================] - 0s 10ms/step - loss: 0.0993 - accuracy: 0.9637 - val_loss: 0.2004 - val_accuracy: 0.9516\n",
            "Epoch 16/4000\n",
            "6/6 [==============================] - 0s 9ms/step - loss: 0.0928 - accuracy: 0.9718 - val_loss: 0.2064 - val_accuracy: 0.9516\n",
            "Epoch 17/4000\n",
            "6/6 [==============================] - 0s 10ms/step - loss: 0.0751 - accuracy: 0.9718 - val_loss: 0.2061 - val_accuracy: 0.9516\n",
            "Epoch 18/4000\n",
            "6/6 [==============================] - 0s 10ms/step - loss: 0.0835 - accuracy: 0.9718 - val_loss: 0.2171 - val_accuracy: 0.9355\n",
            "Epoch 19/4000\n",
            "6/6 [==============================] - 0s 17ms/step - loss: 0.0772 - accuracy: 0.9677 - val_loss: 0.2231 - val_accuracy: 0.9355\n",
            "Epoch 20/4000\n",
            "1/6 [====>.........................] - ETA: 0s - loss: 0.0160 - accuracy: 1.0000Restoring model weights from the end of the best epoch: 10.\n",
            "6/6 [==============================] - 0s 17ms/step - loss: 0.0692 - accuracy: 0.9677 - val_loss: 0.2225 - val_accuracy: 0.9516\n",
            "Epoch 20: early stopping\n"
          ]
        }
      ]
    },
    {
      "metadata": {
        "trusted": true,
        "colab": {
          "base_uri": "https://localhost:8080/"
        },
        "id": "mtpiRzdVY28T",
        "outputId": "432d9b3b-8ecc-4438-f44c-f12e7f6ba27d"
      },
      "cell_type": "code",
      "source": [
        "history_dict2 = history2.history\n",
        "history_dict2.keys() \n",
        "\n",
        "# out of all of these, let's plot the val_mean_absolute_error"
      ],
      "execution_count": 215,
      "outputs": [
        {
          "output_type": "execute_result",
          "data": {
            "text/plain": [
              "dict_keys(['loss', 'accuracy', 'val_loss', 'val_accuracy'])"
            ]
          },
          "metadata": {},
          "execution_count": 215
        }
      ]
    },
    {
      "metadata": {
        "trusted": true,
        "colab": {
          "base_uri": "https://localhost:8080/",
          "height": 295
        },
        "id": "PbjQBnbWY28U",
        "outputId": "fafff0b0-e816-405b-e660-f63089b12f80"
      },
      "cell_type": "code",
      "source": [
        "acc2 = history2.history['accuracy']\n",
        "val_acc2 = history2.history['val_accuracy']\n",
        "loss2 = history2.history['loss']\n",
        "val_loss2 = history2.history['val_loss']\n",
        "\n",
        "epochs2 = range(1, len(acc2) + 1)\n",
        "\n",
        "# \"bo\" is for \"blue dot\"\n",
        "plt.plot(epochs2, loss2, 'bo', label='Training loss')\n",
        "# b is for \"solid blue line\"\n",
        "plt.plot(epochs2, val_loss2, 'b', label='Validation loss')\n",
        "plt.title('Training and validation loss')\n",
        "plt.xlabel('Epochs')\n",
        "plt.ylabel('Loss')\n",
        "plt.legend()\n",
        "\n",
        "plt.savefig(\"trial1_Test_valid_loss_DDN_withdropout.png\")\n",
        "# images_dir = '/content/drive/Shared drives/Deep Learning Group Projects/Project #1 /Work'\n",
        "# plt.savefig(f\"{images_dir}/trial1_Test_valid_loss_DDN_withdropout.png\")\n"
      ],
      "execution_count": 216,
      "outputs": [
        {
          "output_type": "display_data",
          "data": {
            "text/plain": [
              "<Figure size 432x288 with 1 Axes>"
            ],
            "image/png": "[encoded data removed]"
          },
          "metadata": {
            "needs_background": "light"
          }
        }
      ]
    },
    {
      "metadata": {
        "trusted": true,
        "colab": {
          "base_uri": "https://localhost:8080/",
          "height": 295
        },
        "id": "FrzFuZz3Y28U",
        "outputId": "eecf1007-4104-4749-e4d3-fc518bed1800"
      },
      "cell_type": "code",
      "source": [
        "plt.clf()   # clear figure\n",
        "acc_values2 = history_dict2['accuracy']\n",
        "val_acc_values2 = history_dict2['val_accuracy']\n",
        "\n",
        "plt.plot(epochs2, acc2, 'bo', label='Training acc')\n",
        "plt.plot(epochs2, val_acc2, 'b', label='Validation acc')\n",
        "plt.title('Training and validation accuracy')\n",
        "plt.xlabel('Epochs')\n",
        "plt.ylabel('Loss')\n",
        "plt.legend()\n",
        "\n",
        "plt.savefig(\"trial1_accuracy_DDN_withdropout.png\")\n",
        "# images_dir = '/content/drive/Shared drives/Deep Learning Group Projects/Project #1 /Work'\n",
        "# plt.savefig(f\"{images_dir}/trial1_accuracy_DDN_withdropout.png\")"
      ],
      "execution_count": 217,
      "outputs": [
        {
          "output_type": "display_data",
          "data": {
            "text/plain": [
              "<Figure size 432x288 with 1 Axes>"
            ],
            "image/png": "[encoded data removed]"
          },
          "metadata": {
            "needs_background": "light"
          }
        }
      ]
    },
    {
      "metadata": {
        "trusted": true,
        "colab": {
          "base_uri": "https://localhost:8080/"
        },
        "id": "49Hh5mQbY28W",
        "outputId": "3d07f3cf-70ae-4b66-c27a-4f6d9e762842"
      },
      "cell_type": "code",
      "source": [
        "# see how the model did!\n",
        "# if you don't round to a whole number (0 or 1), the confusion matrix won't work!\n",
        "preds2 = np.round(model2.predict(X_test),0)\n",
        "\n",
        "# confusion matrix\n",
        "confusion_matrix(y_test, preds2) # order matters! (actual, predicted)\n",
        "\n",
        "# TP is bottom right\n",
        "# TN is top left\n",
        "# FP is top right\n",
        "# FN is bottom left\n",
        "\n",
        "# look at documentation for conf matrix on sklearn if you have questions!"
      ],
      "execution_count": 219,
      "outputs": [
        {
          "output_type": "stream",
          "name": "stdout",
          "text": [
            "2/2 [==============================] - 0s 7ms/step\n"
          ]
        },
        {
          "output_type": "execute_result",
          "data": {
            "text/plain": [
              "array([[29,  1],\n",
              "       [ 3, 29]])"
            ]
          },
          "metadata": {},
          "execution_count": 219
        }
      ]
    },
    {
      "metadata": {
        "trusted": true,
        "colab": {
          "base_uri": "https://localhost:8080/"
        },
        "id": "F-X9HN6pY28X",
        "outputId": "ca24146a-383a-4a4f-fe5c-b0900b7f95ea"
      },
      "cell_type": "code",
      "source": [
        "print(classification_report(y_test, preds2))"
      ],
      "execution_count": 220,
      "outputs": [
        {
          "output_type": "stream",
          "name": "stdout",
          "text": [
            "              precision    recall  f1-score   support\n",
            "\n",
            "           0       0.91      0.97      0.94        30\n",
            "           1       0.97      0.91      0.94        32\n",
            "\n",
            "    accuracy                           0.94        62\n",
            "   macro avg       0.94      0.94      0.94        62\n",
            "weighted avg       0.94      0.94      0.94        62\n",
            "\n"
          ]
        }
      ]
    },
    {
      "metadata": {
        "trusted": true,
        "colab": {
          "base_uri": "https://localhost:8080/",
          "height": 295
        },
        "id": "hPT8-RfWY28X",
        "outputId": "dbb329a1-6ca7-41e4-a2ad-55207fd9008b"
      },
      "cell_type": "code",
      "source": [
        "cm = confusion_matrix(y_test, preds2)\n",
        "plt.clf()\n",
        "plt.imshow(cm, interpolation='nearest', cmap=plt.cm.Blues)\n",
        "classNames = ['False','True']\n",
        "plt.title('DNN without callback')\n",
        "plt.ylabel('True label')\n",
        "plt.xlabel('Predicted label')\n",
        "tick_marks = np.arange(len(classNames))\n",
        "plt.xticks(tick_marks, classNames)\n",
        "plt.yticks(tick_marks, classNames)\n",
        "s = [['TN','FP'], ['FN', 'TP']]\n",
        "for i in range(2):\n",
        "    for j in range(2):\n",
        "        plt.text(j,i, str(s[i][j])+\" = \"+str(cm[i][j]))\n",
        "\n",
        "# plt.savefig(\"Trail1_DNN_withdropout_confusion_matrix.png\")\n",
        "# images_dir = '/content/drive/Shared drives/Deep Learning Group Projects/Project #1 /Work'\n",
        "# plt.savefig(f\"{images_dir}/Trail1_DNN_withdropout_confusion_matrix.png\")"
      ],
      "execution_count": 190,
      "outputs": [
        {
          "output_type": "display_data",
          "data": {
            "text/plain": [
              "<Figure size 432x288 with 1 Axes>"
            ],
            "image/png": "[encoded data removed]"
          },
          "metadata": {
            "needs_background": "light"
          }
        }
      ]
    },
    {
      "metadata": {
        "id": "B0Om2TuxY28Z"
      },
      "cell_type": "markdown",
      "source": [
        "# 4-4) Deep Learning Model #3: Dense Neural Network"
      ]
    },
    {
      "metadata": {
        "trusted": true,
        "colab": {
          "base_uri": "https://localhost:8080/"
        },
        "id": "ui8xmrKcY28Z",
        "outputId": "371569f6-9939-4eff-dba4-e631067e6245"
      },
      "cell_type": "code",
      "source": [
        "# Setting up the model\n",
        "model3 = Sequential()\n",
        "# this is hidden layer 1\n",
        "model3.add(Dense(512,activation='relu', input_shape=(X.shape[1],))) # input shape is = (features,)\n",
        "# this is hidden layer 2\n",
        "model3.add(Dense(128, activation='relu'))\n",
        "# this is hidden layer 3\n",
        "model3.add(Dense(50, activation='relu'))\n",
        "# this is hidden layer 4\n",
        "model3.add(Dense(20, activation='relu'))\n",
        "# this is the output node\n",
        "model3.add(Dense(1, activation='sigmoid')) # the activation function here is 'linear' by default\n",
        "model3.summary()"
      ],
      "execution_count": 191,
      "outputs": [
        {
          "output_type": "stream",
          "name": "stdout",
          "text": [
            "Model: \"sequential_7\"\n",
            "_________________________________________________________________\n",
            " Layer (type)                Output Shape              Param #   \n",
            "=================================================================\n",
            " dense_33 (Dense)            (None, 512)               8704      \n",
            "                                                                 \n",
            " dense_34 (Dense)            (None, 128)               65664     \n",
            "                                                                 \n",
            " dense_35 (Dense)            (None, 50)                6450      \n",
            "                                                                 \n",
            " dense_36 (Dense)            (None, 20)                1020      \n",
            "                                                                 \n",
            " dense_37 (Dense)            (None, 1)                 21        \n",
            "                                                                 \n",
            "=================================================================\n",
            "Total params: 81,859\n",
            "Trainable params: 81,859\n",
            "Non-trainable params: 0\n",
            "_________________________________________________________________\n"
          ]
        }
      ]
    },
    {
      "metadata": {
        "trusted": true,
        "id": "lZmv_bDIY28a"
      },
      "cell_type": "code",
      "source": [
        "#  this compiles the model, specifies model evaluation metrics\n",
        "model3.compile(optimizer='Adam', loss='binary_crossentropy',\n",
        "              metrics=['accuracy'])"
      ],
      "execution_count": 192,
      "outputs": []
    },
    {
      "metadata": {
        "trusted": true,
        "colab": {
          "base_uri": "https://localhost:8080/"
        },
        "id": "gAPrGFC6Y28b",
        "outputId": "b04633f4-e5b7-4ef8-9f01-1332c06769e5"
      },
      "cell_type": "code",
      "source": [
        "from keras.callbacks import EarlyStopping\n",
        "es3 = EarlyStopping(monitor='val_loss', mode='min', \n",
        "                   patience=10, \n",
        "                   verbose=1,\n",
        "                   restore_best_weights=True)\n",
        "# fit model\n",
        "history3 = model3.fit(X_train, y_train, \n",
        "                    validation_data=(X_test, y_test),\n",
        "                    epochs=4000, \n",
        "                    batch_size = 44,\n",
        "                    verbose=1, \n",
        "                    callbacks=[es3]) #notice we won't have to manually watch it"
      ],
      "execution_count": 221,
      "outputs": [
        {
          "output_type": "stream",
          "name": "stdout",
          "text": [
            "Epoch 1/4000\n",
            "6/6 [==============================] - 0s 17ms/step - loss: 0.1156 - accuracy: 0.9637 - val_loss: 0.2113 - val_accuracy: 0.9355\n",
            "Epoch 2/4000\n",
            "6/6 [==============================] - 0s 9ms/step - loss: 0.0970 - accuracy: 0.9677 - val_loss: 0.2018 - val_accuracy: 0.9516\n",
            "Epoch 3/4000\n",
            "6/6 [==============================] - 0s 9ms/step - loss: 0.0801 - accuracy: 0.9758 - val_loss: 0.2182 - val_accuracy: 0.9355\n",
            "Epoch 4/4000\n",
            "6/6 [==============================] - 0s 9ms/step - loss: 0.0637 - accuracy: 0.9718 - val_loss: 0.2073 - val_accuracy: 0.9516\n",
            "Epoch 5/4000\n",
            "6/6 [==============================] - 0s 9ms/step - loss: 0.0466 - accuracy: 0.9879 - val_loss: 0.2304 - val_accuracy: 0.9516\n",
            "Epoch 6/4000\n",
            "6/6 [==============================] - 0s 9ms/step - loss: 0.0319 - accuracy: 0.9919 - val_loss: 0.2418 - val_accuracy: 0.9355\n",
            "Epoch 7/4000\n",
            "6/6 [==============================] - 0s 9ms/step - loss: 0.0234 - accuracy: 0.9919 - val_loss: 0.2527 - val_accuracy: 0.9516\n",
            "Epoch 8/4000\n",
            "6/6 [==============================] - 0s 9ms/step - loss: 0.0153 - accuracy: 1.0000 - val_loss: 0.2660 - val_accuracy: 0.9516\n",
            "Epoch 9/4000\n",
            "6/6 [==============================] - 0s 8ms/step - loss: 0.0097 - accuracy: 1.0000 - val_loss: 0.2820 - val_accuracy: 0.9355\n",
            "Epoch 10/4000\n",
            "6/6 [==============================] - 0s 9ms/step - loss: 0.0077 - accuracy: 1.0000 - val_loss: 0.2923 - val_accuracy: 0.9355\n",
            "Epoch 11/4000\n",
            "6/6 [==============================] - 0s 9ms/step - loss: 0.0053 - accuracy: 1.0000 - val_loss: 0.3020 - val_accuracy: 0.9355\n",
            "Epoch 12/4000\n",
            "1/6 [====>.........................] - ETA: 0s - loss: 0.0052 - accuracy: 1.0000Restoring model weights from the end of the best epoch: 2.\n",
            "6/6 [==============================] - 0s 12ms/step - loss: 0.0042 - accuracy: 1.0000 - val_loss: 0.3140 - val_accuracy: 0.9355\n",
            "Epoch 12: early stopping\n"
          ]
        }
      ]
    },
    {
      "metadata": {
        "trusted": true,
        "colab": {
          "base_uri": "https://localhost:8080/"
        },
        "id": "Z_Z-n1KCY28b",
        "outputId": "bbbf7132-a3d2-4faa-c234-451595544d6f"
      },
      "cell_type": "code",
      "source": [
        "history_dict3 = history3.history\n",
        "history_dict3.keys() \n",
        "\n",
        "# out of all of these, let's plot the val_mean_absolute_error"
      ],
      "execution_count": 222,
      "outputs": [
        {
          "output_type": "execute_result",
          "data": {
            "text/plain": [
              "dict_keys(['loss', 'accuracy', 'val_loss', 'val_accuracy'])"
            ]
          },
          "metadata": {},
          "execution_count": 222
        }
      ]
    },
    {
      "metadata": {
        "trusted": true,
        "colab": {
          "base_uri": "https://localhost:8080/",
          "height": 295
        },
        "id": "Xc7cfGBgY28b",
        "outputId": "c6759fb2-42f6-4b9b-b5da-8af1070030cf"
      },
      "cell_type": "code",
      "source": [
        "acc3 = history3.history['accuracy']\n",
        "val_acc3 = history3.history['val_accuracy']\n",
        "loss3 = history3.history['loss']\n",
        "val_loss3 = history3.history['val_loss']\n",
        "\n",
        "epochs3 = range(1, len(acc3) + 1)\n",
        "\n",
        "# \"bo\" is for \"blue dot\"\n",
        "plt.plot(epochs3, loss3, 'bo', label='Training loss')\n",
        "# b is for \"solid blue line\"\n",
        "plt.plot(epochs3, val_loss3, 'b', label='Validation loss')\n",
        "plt.title('Training and validation loss')\n",
        "plt.xlabel('Epochs')\n",
        "plt.ylabel('Loss')\n",
        "plt.legend()\n",
        "\n",
        "plt.savefig(\"trial2_train_valid__loss.png\")\n",
        "# images_dir = '/content/drive/Shared drives/Deep Learning Group Projects/Project #1 /Work'\n",
        "# plt.savefig(f\"{images_dir}/trial2_train_valid__loss.png\")\n"
      ],
      "execution_count": 223,
      "outputs": [
        {
          "output_type": "display_data",
          "data": {
            "text/plain": [
              "<Figure size 432x288 with 1 Axes>"
            ],
            "image/png": "[encoded data removed]"
          },
          "metadata": {
            "needs_background": "light"
          }
        }
      ]
    },
    {
      "metadata": {
        "trusted": true,
        "colab": {
          "base_uri": "https://localhost:8080/",
          "height": 295
        },
        "id": "rGkdlRmpY28c",
        "outputId": "936ac95d-5368-4560-b910-5c64c50f1eb1"
      },
      "cell_type": "code",
      "source": [
        "plt.clf()   # clear figure\n",
        "acc_values3 = history_dict3['accuracy']\n",
        "val_acc_values3 = history_dict3['val_accuracy']\n",
        "\n",
        "plt.plot(epochs3, acc3, 'bo', label='Training acc')\n",
        "plt.plot(epochs3, val_acc3, 'b', label='Validation acc')\n",
        "plt.title('Training and validation accuracy')\n",
        "plt.xlabel('Epochs')\n",
        "plt.ylabel('Loss')\n",
        "plt.legend()\n",
        "\n",
        "plt.savefig(\"trial2_accuracy.png\")\n",
        "# images_dir = '/content/drive/Shared drives/Deep Learning Group Projects/Project #1 /Work'\n",
        "# plt.savefig(f\"{images_dir}/trial2_accuracy.png\")"
      ],
      "execution_count": 224,
      "outputs": [
        {
          "output_type": "display_data",
          "data": {
            "text/plain": [
              "<Figure size 432x288 with 1 Axes>"
            ],
            "image/png": "[encoded data removed]"
          },
          "metadata": {
            "needs_background": "light"
          }
        }
      ]
    },
    {
      "metadata": {
        "trusted": true,
        "colab": {
          "base_uri": "https://localhost:8080/"
        },
        "id": "8qApwa_9Y28d",
        "outputId": "c07094fa-4762-42e6-80e4-aed80bb0561c"
      },
      "cell_type": "code",
      "source": [
        "# see how the model did!\n",
        "# if you don't round to a whole number (0 or 1), the confusion matrix won't work!\n",
        "preds3 = np.round(model3.predict(X_test),0)\n",
        "\n",
        "# confusion matrix\n",
        "confusion_matrix(y_test, preds3) # order matters! (actual, predicted)\n",
        "\n",
        "# TP is bottom right\n",
        "# TN is top left\n",
        "# FP is top right\n",
        "# FN is bottom left\n",
        "\n",
        "# look at documentation for conf matrix on sklearn if you have questions!"
      ],
      "execution_count": 225,
      "outputs": [
        {
          "output_type": "stream",
          "name": "stdout",
          "text": [
            "2/2 [==============================] - 0s 8ms/step\n"
          ]
        },
        {
          "output_type": "execute_result",
          "data": {
            "text/plain": [
              "array([[29,  1],\n",
              "       [ 2, 30]])"
            ]
          },
          "metadata": {},
          "execution_count": 225
        }
      ]
    },
    {
      "metadata": {
        "trusted": true,
        "colab": {
          "base_uri": "https://localhost:8080/"
        },
        "id": "KcGf8zf2Y28d",
        "outputId": "eca967a1-1657-4c51-a25c-925f793b8638"
      },
      "cell_type": "code",
      "source": [
        "print(classification_report(y_test, preds3))"
      ],
      "execution_count": 226,
      "outputs": [
        {
          "output_type": "stream",
          "name": "stdout",
          "text": [
            "              precision    recall  f1-score   support\n",
            "\n",
            "           0       0.94      0.97      0.95        30\n",
            "           1       0.97      0.94      0.95        32\n",
            "\n",
            "    accuracy                           0.95        62\n",
            "   macro avg       0.95      0.95      0.95        62\n",
            "weighted avg       0.95      0.95      0.95        62\n",
            "\n"
          ]
        }
      ]
    },
    {
      "metadata": {
        "trusted": true,
        "colab": {
          "base_uri": "https://localhost:8080/",
          "height": 295
        },
        "id": "hFf7XLgAY28e",
        "outputId": "f6c0f101-27a4-4a19-a84d-0679a3685778"
      },
      "cell_type": "code",
      "source": [
        "cm = confusion_matrix(y_test, preds3)\n",
        "plt.clf()\n",
        "plt.imshow(cm, interpolation='nearest', cmap=plt.cm.Blues)\n",
        "classNames = ['False','True']\n",
        "plt.title('DNN without callback')\n",
        "plt.ylabel('True label')\n",
        "plt.xlabel('Predicted label')\n",
        "tick_marks = np.arange(len(classNames))\n",
        "plt.xticks(tick_marks, classNames)\n",
        "plt.yticks(tick_marks, classNames)\n",
        "s = [['TN','FP'], ['FN', 'TP']]\n",
        "for i in range(2):\n",
        "    for j in range(2):\n",
        "        plt.text(j,i, str(s[i][j])+\" = \"+str(cm[i][j]))\n",
        "\n",
        "plt.savefig(\"Trail2_confusion_matrix.png\")\n",
        "# images_dir = '/content/drive/Shared drives/Deep Learning Group Projects/Project #1 /Work'\n",
        "# plt.savefig(f\"{images_dir}/Trail2_confusion_matrix.png\")\n",
        "plt.show()"
      ],
      "execution_count": 227,
      "outputs": [
        {
          "output_type": "display_data",
          "data": {
            "text/plain": [
              "<Figure size 432x288 with 1 Axes>"
            ],
            "image/png": "[encoded data removed]"
          },
          "metadata": {
            "needs_background": "light"
          }
        }
      ]
    },
    {
      "metadata": {
        "trusted": true,
        "colab": {
          "base_uri": "https://localhost:8080/",
          "height": 1000
        },
        "id": "UK_76KJaY28g",
        "outputId": "d04565d9-fdae-4890-8bf6-61953859b030"
      },
      "cell_type": "code",
      "source": [
        "#Feature Importance for NN\n",
        "\n",
        "from sklearn.inspection import permutation_importance\n",
        "\n",
        "results = permutation_importance(model2, X_train, y_train, scoring='neg_root_mean_squared_error')\n",
        "\n",
        "plt.figure(figsize=(10,10))\n",
        "\n",
        "#get importance\n",
        "importance_nn = results.importances_mean\n",
        "sorted_idx = np.argsort(importance_nn)\n",
        "pos = np.arange(sorted_idx.shape[0]) + .5\n",
        "plt.barh(pos, importance_nn[sorted_idx],align='center')\n",
        "\n",
        "plt.yticks(pos, X_train.columns[sorted_idx],fontsize=25)\n",
        "plt.xlabel('Permutation Feature Importance Scores', fontsize=25)\n",
        "#plt.xticks(fontsize=100)\n",
        "plt.title('Permutation Feature Importance for Neural Network', fontsize=30)\n",
        "\n",
        "plt.tight_layout()\n",
        "\n",
        "plt.show()"
      ],
      "execution_count": 200,
      "outputs": [
        {
          "output_type": "stream",
          "name": "stdout",
          "text": [
            "8/8 [==============================] - 0s 2ms/step\n",
            "8/8 [==============================] - 0s 3ms/step\n",
            "8/8 [==============================] - 0s 3ms/step\n",
            "8/8 [==============================] - 0s 3ms/step\n",
            "8/8 [==============================] - 0s 3ms/step\n",
            "8/8 [==============================] - 0s 3ms/step\n",
            "8/8 [==============================] - 0s 3ms/step\n",
            "8/8 [==============================] - 0s 3ms/step\n",
            "8/8 [==============================] - 0s 2ms/step\n",
            "8/8 [==============================] - 0s 3ms/step\n",
            "8/8 [==============================] - 0s 3ms/step\n",
            "8/8 [==============================] - 0s 3ms/step\n",
            "8/8 [==============================] - 0s 3ms/step\n",
            "8/8 [==============================] - 0s 3ms/step\n",
            "8/8 [==============================] - 0s 3ms/step\n",
            "8/8 [==============================] - 0s 3ms/step\n",
            "8/8 [==============================] - 0s 3ms/step\n",
            "8/8 [==============================] - 0s 3ms/step\n",
            "8/8 [==============================] - 0s 3ms/step\n",
            "8/8 [==============================] - 0s 2ms/step\n",
            "8/8 [==============================] - 0s 2ms/step\n",
            "8/8 [==============================] - 0s 2ms/step\n",
            "8/8 [==============================] - 0s 2ms/step\n",
            "8/8 [==============================] - 0s 2ms/step\n",
            "8/8 [==============================] - 0s 2ms/step\n",
            "8/8 [==============================] - 0s 3ms/step\n",
            "8/8 [==============================] - 0s 2ms/step\n",
            "8/8 [==============================] - 0s 2ms/step\n",
            "8/8 [==============================] - 0s 2ms/step\n",
            "8/8 [==============================] - 0s 2ms/step\n",
            "8/8 [==============================] - 0s 2ms/step\n",
            "8/8 [==============================] - 0s 2ms/step\n",
            "8/8 [==============================] - 0s 3ms/step\n",
            "8/8 [==============================] - 0s 2ms/step\n",
            "8/8 [==============================] - 0s 3ms/step\n",
            "8/8 [==============================] - 0s 2ms/step\n",
            "8/8 [==============================] - 0s 2ms/step\n",
            "8/8 [==============================] - 0s 2ms/step\n",
            "8/8 [==============================] - 0s 4ms/step\n",
            "8/8 [==============================] - 0s 2ms/step\n",
            "8/8 [==============================] - 0s 2ms/step\n",
            "8/8 [==============================] - 0s 2ms/step\n",
            "8/8 [==============================] - 0s 2ms/step\n",
            "8/8 [==============================] - 0s 2ms/step\n",
            "8/8 [==============================] - 0s 2ms/step\n",
            "8/8 [==============================] - 0s 2ms/step\n",
            "8/8 [==============================] - 0s 2ms/step\n",
            "8/8 [==============================] - 0s 2ms/step\n",
            "8/8 [==============================] - 0s 3ms/step\n",
            "8/8 [==============================] - 0s 3ms/step\n",
            "8/8 [==============================] - 0s 3ms/step\n",
            "8/8 [==============================] - 0s 3ms/step\n",
            "8/8 [==============================] - 0s 4ms/step\n",
            "8/8 [==============================] - 0s 2ms/step\n",
            "8/8 [==============================] - 0s 3ms/step\n",
            "8/8 [==============================] - 0s 3ms/step\n",
            "8/8 [==============================] - 0s 3ms/step\n",
            "8/8 [==============================] - 0s 3ms/step\n",
            "8/8 [==============================] - 0s 3ms/step\n",
            "8/8 [==============================] - 0s 3ms/step\n",
            "8/8 [==============================] - 0s 3ms/step\n",
            "8/8 [==============================] - 0s 3ms/step\n",
            "8/8 [==============================] - 0s 3ms/step\n",
            "8/8 [==============================] - 0s 2ms/step\n",
            "8/8 [==============================] - 0s 3ms/step\n",
            "8/8 [==============================] - 0s 3ms/step\n",
            "8/8 [==============================] - 0s 3ms/step\n",
            "8/8 [==============================] - 0s 3ms/step\n",
            "8/8 [==============================] - 0s 3ms/step\n",
            "8/8 [==============================] - 0s 3ms/step\n",
            "8/8 [==============================] - 0s 3ms/step\n",
            "8/8 [==============================] - 0s 3ms/step\n",
            "8/8 [==============================] - 0s 5ms/step\n",
            "8/8 [==============================] - 0s 3ms/step\n",
            "8/8 [==============================] - 0s 2ms/step\n",
            "8/8 [==============================] - 0s 2ms/step\n",
            "8/8 [==============================] - 0s 2ms/step\n",
            "8/8 [==============================] - 0s 3ms/step\n",
            "8/8 [==============================] - 0s 2ms/step\n",
            "8/8 [==============================] - 0s 3ms/step\n",
            "8/8 [==============================] - 0s 3ms/step\n"
          ]
        },
        {
          "output_type": "display_data",
          "data": {
            "text/plain": [
              "<Figure size 720x720 with 1 Axes>"
            ],
            "image/png": "[encoded data removed]"
          },
          "metadata": {
            "needs_background": "light"
          }
        }
      ]
    },
    {
      "metadata": {
        "id": "C-YLQqAPY28h"
      },
      "cell_type": "markdown",
      "source": [
        "# Results\n",
        "\n",
        "* I implemented a based line model(logistic regression) and 3 Dense Neural Network models with dropout function and without dropout. Moreover, I adjust dense layers of dense neural network models. The best algorithm suited to solve the business problem is DNN3(Accuracy of 0.97)\n",
        " \n",
        "* The logistic regression had a accuracy of 0.92\n",
        "\n",
        "* The best model of DNN3 had a accuracy of 0.97\n",
        "\n",
        "* I found that with dropout function further improved the performance of the model. As I see in the confusion matrix for with dropout model of DNN2, I get a high accuracy rate of 0.94 compared to without the dropout model of DNN1 After using dropout and we decided to adjust the dense layers for finding the best accuracy. \n",
        "\n",
        "* I changed the dense layers “50, 25, 15, 10” combination to “20, 50, 50, 20” and I found that the adjusted version of dense layers and previous dense neural network results are different. DDN3 dense layers gave high accuracy. \n",
        "\n",
        "* Discussion Predicting movies' revenue can significantly impact the movie industries and is the prime focus area for movie companies to remain profitable. Hence, researchers worldwide had undertaken significant research to understand which factors can affect the increase in movie revenue. Factors such as budget, popularity, vote count, and movie genre can increase movie revenue."
      ]
    },
    {
      "metadata": {
        "id": "IkQ54wd3Y28i"
      },
      "cell_type": "markdown",
      "source": [
        "# Conclusion\n",
        "In this analysis of the data, I have identified multiple key factors to that influence movie revenue.\n",
        "* Despite having an abundance of budget, Movie production houses struggle to make profits.It is I hope that the provided analysis gives production houses the tools and inspiration to rethink some of their current practices and implement actions that will help them focus on attracting right audience for their upcoming movies.\n",
        "* During Exploratory Data Analysis I found that Vote_count would be the most significant feature identified by the classifier. Hence, production houses should invest more in marketing and advertisement of their movies well ahead of time.\n",
        "* I found which variables can significant impact on the accuracy from the permutation featuring for DNN. ‘Vote_Average’ is the most important feature for increasing movie revenue. Thus, movie industries should consider the movie rate consistently.\n",
        "* Most of significant variables are consisted from ‘movie genre’. The most popular genre of movie is ‘Drama’. And then ‘Horror’, ‘Action’, ‘Animation’, ‘Fantasy’, ‘comedy’. Thus, Movie industries should care of which movie genre can be popular and attract more people\n",
        "* I assume that ‘budget’ could be the most important factor to impact on the movie revenue. Surprisingly, ‘budget’ is less impact factor to predict the success of movies."
      ]
    }
  ],
  "metadata": {
    "kernelspec": {
      "name": "python3",
      "display_name": "Python 3",
      "language": "python"
    },
    "language_info": {
      "name": "python",
      "version": "3.7.6",
      "mimetype": "text/x-python",
      "codemirror_mode": {
        "name": "ipython",
        "version": 3
      },
      "pygments_lexer": "ipython3",
      "nbconvert_exporter": "python",
      "file_extension": ".py"
    },
    "colab": {
      "provenance": [],
      "collapsed_sections": [
        "C-YLQqAPY28h",
        "IkQ54wd3Y28i"
      ]
    }
  },
  "nbformat": 4,
  "nbformat_minor": 0
}